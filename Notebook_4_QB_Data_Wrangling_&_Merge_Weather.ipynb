{
  "nbformat": 4,
  "nbformat_minor": 0,
  "metadata": {
    "colab": {
      "name": "Notebook 4: QB Data Wrangling & Merge Weather",
      "version": "0.3.2",
      "provenance": [],
      "collapsed_sections": [],
      "include_colab_link": true
    },
    "kernelspec": {
      "name": "python3",
      "display_name": "Python 3"
    }
  },
  "cells": [
    {
      "cell_type": "markdown",
      "metadata": {
        "id": "view-in-github",
        "colab_type": "text"
      },
      "source": [
        "<a href=\"https://colab.research.google.com/github/Nolanole/NFL-Weather-Project/blob/master/Notebook_4_QB_Data_Wrangling_%26_Merge_Weather.ipynb\" target=\"_parent\"><img src=\"https://colab.research.google.com/assets/colab-badge.svg\" alt=\"Open In Colab\"/></a>"
      ]
    },
    {
      "metadata": {
        "id": "afAy7_RlMrF6",
        "colab_type": "code",
        "colab": {}
      },
      "cell_type": "code",
      "source": [
        "#imports:\n",
        "\n",
        "import pandas as pd\n",
        "import numpy as np\n",
        "pd.set_option('display.max_rows', 500)\n",
        "pd.set_option('display.max_columns', 500)\n",
        "pd.set_option('display.width', 1000)"
      ],
      "execution_count": 0,
      "outputs": []
    },
    {
      "metadata": {
        "id": "g-QETHejXc0H",
        "colab_type": "text"
      },
      "cell_type": "markdown",
      "source": [
        "The first 3 notebooks were dealing with cleaning, merging, and wrangling w the weather data for each game. In this notebook, we'll import some football statistical data and clean/reshape and prepare it to be merged with the weather data into a master file to analyze the impacts of weather on the game."
      ]
    },
    {
      "metadata": {
        "id": "UqIFtcxTMv_-",
        "colab_type": "code",
        "colab": {}
      },
      "cell_type": "code",
      "source": [
        "#grab the url w the QB data:\n",
        "\n",
        "url = 'https://raw.githubusercontent.com/Nolanole/NFL-Weather-Project/master/Game_Logs_Quarterback.csv'\n",
        "qb = pd.read_csv(url, na_values='--')"
      ],
      "execution_count": 0,
      "outputs": []
    },
    {
      "metadata": {
        "id": "FshzfBbgYMPK",
        "colab_type": "text"
      },
      "cell_type": "markdown",
      "source": [
        "When we previously merged weather and all_games, the all_games data included games from before 1980, so we'll need to drop those here. Also, well want to remove preseason games data as well as pro bowl games."
      ]
    },
    {
      "metadata": {
        "id": "fW4jLrWyNE3N",
        "colab_type": "code",
        "colab": {}
      },
      "cell_type": "code",
      "source": [
        "#remove any year < 1980:\n",
        "\n",
        "qb = qb[qb['Year'] > 1979].reset_index().drop(columns=['index'])\n",
        "\n",
        "#remove preseason and ProBowl games:\n",
        "\n",
        "qb = qb.drop(qb[qb['Season'] == 'Preseason'].index)\n",
        "qb = qb.drop(qb[qb['Season'] == 'Pro Bowl'].index).reset_index(drop=True)\n",
        "\n",
        "#drop columns not needed: \n",
        "\n",
        "drop_cols = ['Position', 'Outcome','Player Id', 'Rushing Attempts', 'Rushing Yards', 'Yards Per Carry', 'Rushing TDs']\n",
        "qb = qb.drop(columns=drop_cols)\n",
        "\n",
        "#drop NaNs where no passes are attempted:\n",
        "qb = qb[qb['Passes Attempted'].notna() == True]"
      ],
      "execution_count": 0,
      "outputs": []
    },
    {
      "metadata": {
        "id": "OcYV27bmNmg-",
        "colab_type": "code",
        "colab": {}
      },
      "cell_type": "code",
      "source": [
        "#make a date column using game date + year and season type\n",
        "for i in qb.index:\n",
        "  if qb.loc[i]['Season'] == 'Regular Season':\n",
        "    #add 1 for games of a season played in Jan/Feb of following calendar year:\n",
        "    if qb.loc[i]['Game Date'] < '03/31':\n",
        "      year = str(int(qb.loc[i]['Year']) + 1)\n",
        "      qb.at[i, 'date'] = str(qb.loc[i]['Game Date']) + '/' + year\n",
        "    else:\n",
        "      qb.at[i, 'date'] = str(qb.loc[i]['Game Date']) + '/' + str(qb.loc[i]['Year'])\n",
        "  else:\n",
        "    year = str(int(qb.loc[i]['Year']) + 1)\n",
        "    qb.at[i, 'date'] = str(qb.loc[i]['Game Date']) + '/' + year\n",
        "\n",
        "#datetime:\n",
        "qb['date'] = pd.to_datetime(qb['date'], infer_datetime_format=True)\n",
        "\n",
        "#can safely drop Year and Game Date columns now:\n",
        "qb = qb.drop(columns=['Year', 'Game Date'])"
      ],
      "execution_count": 0,
      "outputs": []
    },
    {
      "metadata": {
        "id": "8_pMBKljZQdQ",
        "colab_type": "code",
        "colab": {
          "base_uri": "https://localhost:8080/",
          "height": 356
        },
        "outputId": "97c40bca-2962-479e-c809-dfcd8c6619a8"
      },
      "cell_type": "code",
      "source": [
        "qb.head()"
      ],
      "execution_count": 6,
      "outputs": [
        {
          "output_type": "execute_result",
          "data": {
            "text/html": [
              "<div>\n",
              "<style scoped>\n",
              "    .dataframe tbody tr th:only-of-type {\n",
              "        vertical-align: middle;\n",
              "    }\n",
              "\n",
              "    .dataframe tbody tr th {\n",
              "        vertical-align: top;\n",
              "    }\n",
              "\n",
              "    .dataframe thead th {\n",
              "        text-align: right;\n",
              "    }\n",
              "</style>\n",
              "<table border=\"1\" class=\"dataframe\">\n",
              "  <thead>\n",
              "    <tr style=\"text-align: right;\">\n",
              "      <th></th>\n",
              "      <th>Name</th>\n",
              "      <th>Season</th>\n",
              "      <th>Week</th>\n",
              "      <th>Home or Away</th>\n",
              "      <th>Opponent</th>\n",
              "      <th>Score</th>\n",
              "      <th>Games Played</th>\n",
              "      <th>Games Started</th>\n",
              "      <th>Passes Completed</th>\n",
              "      <th>Passes Attempted</th>\n",
              "      <th>Completion Percentage</th>\n",
              "      <th>Passing Yards</th>\n",
              "      <th>Passing Yards Per Attempt</th>\n",
              "      <th>TD Passes</th>\n",
              "      <th>Ints</th>\n",
              "      <th>Sacks</th>\n",
              "      <th>Sacked Yards Lost</th>\n",
              "      <th>Passer Rating</th>\n",
              "      <th>Fumbles</th>\n",
              "      <th>Fumbles Lost</th>\n",
              "      <th>date</th>\n",
              "    </tr>\n",
              "  </thead>\n",
              "  <tbody>\n",
              "    <tr>\n",
              "      <th>13</th>\n",
              "      <td>Savage, Tom</td>\n",
              "      <td>Regular Season</td>\n",
              "      <td>15</td>\n",
              "      <td>Home</td>\n",
              "      <td>JAX</td>\n",
              "      <td>21 to 20</td>\n",
              "      <td>1</td>\n",
              "      <td>0.0</td>\n",
              "      <td>23.0</td>\n",
              "      <td>36.0</td>\n",
              "      <td>63.9</td>\n",
              "      <td>260.0</td>\n",
              "      <td>7.2</td>\n",
              "      <td>0.0</td>\n",
              "      <td>0.0</td>\n",
              "      <td>0.0</td>\n",
              "      <td>0.0</td>\n",
              "      <td>85.4</td>\n",
              "      <td>NaN</td>\n",
              "      <td>NaN</td>\n",
              "      <td>2016-12-18</td>\n",
              "    </tr>\n",
              "    <tr>\n",
              "      <th>14</th>\n",
              "      <td>Savage, Tom</td>\n",
              "      <td>Regular Season</td>\n",
              "      <td>16</td>\n",
              "      <td>Home</td>\n",
              "      <td>CIN</td>\n",
              "      <td>12 to 10</td>\n",
              "      <td>1</td>\n",
              "      <td>1.0</td>\n",
              "      <td>18.0</td>\n",
              "      <td>29.0</td>\n",
              "      <td>62.1</td>\n",
              "      <td>176.0</td>\n",
              "      <td>6.1</td>\n",
              "      <td>0.0</td>\n",
              "      <td>0.0</td>\n",
              "      <td>4.0</td>\n",
              "      <td>21.0</td>\n",
              "      <td>79.1</td>\n",
              "      <td>NaN</td>\n",
              "      <td>NaN</td>\n",
              "      <td>2016-12-24</td>\n",
              "    </tr>\n",
              "    <tr>\n",
              "      <th>15</th>\n",
              "      <td>Savage, Tom</td>\n",
              "      <td>Regular Season</td>\n",
              "      <td>17</td>\n",
              "      <td>Away</td>\n",
              "      <td>TEN</td>\n",
              "      <td>17 to 24</td>\n",
              "      <td>1</td>\n",
              "      <td>1.0</td>\n",
              "      <td>5.0</td>\n",
              "      <td>8.0</td>\n",
              "      <td>62.5</td>\n",
              "      <td>25.0</td>\n",
              "      <td>3.1</td>\n",
              "      <td>0.0</td>\n",
              "      <td>0.0</td>\n",
              "      <td>1.0</td>\n",
              "      <td>15.0</td>\n",
              "      <td>67.2</td>\n",
              "      <td>1.0</td>\n",
              "      <td>1.0</td>\n",
              "      <td>2017-01-01</td>\n",
              "    </tr>\n",
              "    <tr>\n",
              "      <th>31</th>\n",
              "      <td>Savage, Tom</td>\n",
              "      <td>Regular Season</td>\n",
              "      <td>15</td>\n",
              "      <td>Away</td>\n",
              "      <td>IND</td>\n",
              "      <td>10 to 17</td>\n",
              "      <td>1</td>\n",
              "      <td>0.0</td>\n",
              "      <td>10.0</td>\n",
              "      <td>19.0</td>\n",
              "      <td>52.6</td>\n",
              "      <td>127.0</td>\n",
              "      <td>6.7</td>\n",
              "      <td>0.0</td>\n",
              "      <td>1.0</td>\n",
              "      <td>1.0</td>\n",
              "      <td>5.0</td>\n",
              "      <td>51.9</td>\n",
              "      <td>2.0</td>\n",
              "      <td>1.0</td>\n",
              "      <td>2014-12-14</td>\n",
              "    </tr>\n",
              "    <tr>\n",
              "      <th>38</th>\n",
              "      <td>Maddox, Tommy</td>\n",
              "      <td>Regular Season</td>\n",
              "      <td>6</td>\n",
              "      <td>Home</td>\n",
              "      <td>JAC</td>\n",
              "      <td>17 to 23</td>\n",
              "      <td>1</td>\n",
              "      <td>1.0</td>\n",
              "      <td>11.0</td>\n",
              "      <td>28.0</td>\n",
              "      <td>39.3</td>\n",
              "      <td>154.0</td>\n",
              "      <td>5.5</td>\n",
              "      <td>1.0</td>\n",
              "      <td>3.0</td>\n",
              "      <td>2.0</td>\n",
              "      <td>9.0</td>\n",
              "      <td>30.1</td>\n",
              "      <td>1.0</td>\n",
              "      <td>1.0</td>\n",
              "      <td>2005-10-16</td>\n",
              "    </tr>\n",
              "  </tbody>\n",
              "</table>\n",
              "</div>"
            ],
            "text/plain": [
              "             Name          Season  Week Home or Away Opponent     Score  Games Played  Games Started  Passes Completed  Passes Attempted  Completion Percentage  Passing Yards  Passing Yards Per Attempt  TD Passes  Ints  Sacks  Sacked Yards Lost  Passer Rating  Fumbles  Fumbles Lost       date\n",
              "13    Savage, Tom  Regular Season    15         Home      JAX  21 to 20             1            0.0              23.0              36.0                   63.9          260.0                        7.2        0.0   0.0    0.0                0.0           85.4      NaN           NaN 2016-12-18\n",
              "14    Savage, Tom  Regular Season    16         Home      CIN  12 to 10             1            1.0              18.0              29.0                   62.1          176.0                        6.1        0.0   0.0    4.0               21.0           79.1      NaN           NaN 2016-12-24\n",
              "15    Savage, Tom  Regular Season    17         Away      TEN  17 to 24             1            1.0               5.0               8.0                   62.5           25.0                        3.1        0.0   0.0    1.0               15.0           67.2      1.0           1.0 2017-01-01\n",
              "31    Savage, Tom  Regular Season    15         Away      IND  10 to 17             1            0.0              10.0              19.0                   52.6          127.0                        6.7        0.0   1.0    1.0                5.0           51.9      2.0           1.0 2014-12-14\n",
              "38  Maddox, Tommy  Regular Season     6         Home      JAC  17 to 23             1            1.0              11.0              28.0                   39.3          154.0                        5.5        1.0   3.0    2.0                9.0           30.1      1.0           1.0 2005-10-16"
            ]
          },
          "metadata": {
            "tags": []
          },
          "execution_count": 6
        }
      ]
    },
    {
      "metadata": {
        "id": "kvpa8IasZdHM",
        "colab_type": "text"
      },
      "cell_type": "markdown",
      "source": [
        "We have enough features in common in this dataset to merge with the weather data because we can use date and opponent column. Unfortunately however, the opponent is listed by an abbreviation rather than the full name of city + mascot. In order to merge the datsets, we'll need to make a dictionary that maps the abbrev with the full team name. This was a bit of a timecrunch bc several abbreviations could apply to mutiple team names over the years, so I had to google which team played in certain cities by year. If I incorrectly renamed STL to the Rams instead of Cardinals for example, when we merge with weather df those rows will not match up"
      ]
    },
    {
      "metadata": {
        "id": "XfxnqVMtRz5x",
        "colab_type": "code",
        "colab": {}
      },
      "cell_type": "code",
      "source": [
        "#get list of opponents, create dict to map with full team name so can merge with\n",
        "#weather df\n",
        "\n",
        "opponents_map = {'NE': 'New England Patriots',\n",
        "                 'SF': 'San Francisco 49ers',\n",
        "                 'DEN': 'Denver Broncos',\n",
        "                 'PIT': 'Pittsburgh Steelers',\n",
        "                 'PHI': 'Philadelphia Eagles',\n",
        "                 'GB': 'Green Bay Packers',\n",
        "                 'DAL': 'Dallas Cowboys',\n",
        "                 'MIA': 'Miami Dolphins',\n",
        "                 'CHI': 'Chicago Bears',\n",
        "                 'WAS': 'Washington Redskins',\n",
        "                 'NYG': 'New York Giants',\n",
        "                 'SEA': 'Seattle Seahawks',\n",
        "                 'MIN': 'Minnesota Vikings',\n",
        "                 'CIN': 'Cincinnati Bengals',\n",
        "                 'ATL': 'Atlanta Falcons',\n",
        "                 'NO': 'New Orleans Saints',\n",
        "                 'KC': 'Kansas City Chiefs',\n",
        "                 'BUF': 'Buffalo Bills',\n",
        "                 'TB': 'Tampa Bay Buccaneers',\n",
        "                 'NYJ': 'New York Jets',\n",
        "                 'DET': 'Detroit Lions',\n",
        "                 'IND': 'Indianapolis Colts',\n",
        "                 'CLE': 'Cleveland Browns',\n",
        "                 'ARI': 'Arizona Cardinals',\n",
        "                 'CAR':'Carolina Panthers',\n",
        "                 'JAC': 'Jacksonville Jaguars',\n",
        "                 'JAX': 'Jacksonville Jaguars',\n",
        "                 'SD': 'San Diego Chargers',\n",
        "                 'PHO': 'Phoenix Cardinals',\n",
        "                 'LA': 'Los Angeles Rams',\n",
        "                 'RAM': 'Los Angeles Rams',\n",
        "                 'RAI': 'Los Angeles Raiders', #1982-1994\n",
        "                 'OAK': 'Oakland Raiders'} \n",
        "\n",
        "qb['Opponent'] = qb['Opponent'].replace(opponents_map)\n",
        "\n",
        "\n",
        "#Replace TEN with tennessee oilers or titans, depending on year:\n",
        "tenn_i = qb[(qb['Opponent']=='TEN')].index\n",
        "for i in tenn_i:\n",
        "  if qb.loc[i].date.year < 1999:\n",
        "    qb.at[i, 'Opponent'] = 'Tennessee Oilers'\n",
        "  else:\n",
        "    qb.at[i, 'Opponent'] = 'Tennessee Titans'\n",
        "\n",
        "#Same for BAL: Colts until 1984, Ravens after 1996\n",
        "balt_i = qb[(qb['Opponent']=='BAL')].index\n",
        "for i in balt_i:\n",
        "  if qb.loc[i].date.year < 1986:\n",
        "    qb.at[i, 'Opponent'] = 'Baltimore Colts'\n",
        "  else:\n",
        "    qb.at[i, 'Opponent'] = 'Baltimore Ravens'\n",
        "\n",
        "#Same for HOU: Oilers until 1996, Texans after 2002\n",
        "houston_i = qb[(qb['Opponent']=='HOU')].index\n",
        "for i in houston_i:\n",
        "  if qb.loc[i].date.year < 1998:\n",
        "    qb.at[i, 'Opponent'] = 'Houston Oilers'\n",
        "  else:\n",
        "    qb.at[i, 'Opponent'] = 'Houston Texans'\n",
        "\n",
        "#Same for STL: Cardinals until 1986, Rams 1995-2016\n",
        "stl_i = qb[(qb['Opponent']=='STL')].index\n",
        "for i in stl_i:\n",
        "  if qb.loc[i].date.year < 1988:\n",
        "    qb.at[i, 'Opponent'] = 'St. Louis Cardinals'\n",
        "  else:\n",
        "    qb.at[i, 'Opponent'] = 'St. Louis Rams'"
      ],
      "execution_count": 0,
      "outputs": []
    },
    {
      "metadata": {
        "id": "KQ9mZ1bJb6pV",
        "colab_type": "text"
      },
      "cell_type": "markdown",
      "source": [
        "Now that we have our opponent column in the correct format to match the weather df, we have one more step before we can merge:\n",
        "The weather dataframe has the teams listed under 'home' and 'away' columns. But the QB data is a mix of data from home and away, but only includes one team, the opponent- for some reason the team the player plays for is not included. Oh well, we can work around this bc QB data has a column 'home or away' which indicates if the QB is on the home or away team. Since we have that info, we can extrapolate the reciprocal and assign opponent column as either home or away.\n",
        "We can split the QB df into 2 dataframes, one for home QBs and one for away QBs, and then merge each with the weather data, and then later combine them back into a final master dataframe with all QB data and weather data."
      ]
    },
    {
      "metadata": {
        "id": "CkN34v7z7Lyt",
        "colab_type": "code",
        "colab": {}
      },
      "cell_type": "code",
      "source": [
        "'''Split into 2 DFs, one for home teams and one for away: then make opponent column \n",
        "correspond to home or away so we can merge with weather data using opponent and date'''\n",
        "\n",
        "home_qb = qb[qb['Home or Away'] == 'Home'].reset_index(drop=True)\n",
        "away_qb = qb[qb['Home or Away'] == 'Away'].reset_index(drop=True)\n",
        "\n",
        "#change the opponent column to home or away:\n",
        "\n",
        "for i in home_qb.index:\n",
        "  home_qb.at[i, 'away'] = home_qb.at[i, 'Opponent']\n",
        "\n",
        "for i in away_qb.index:\n",
        "  away_qb.at[i, 'home'] = away_qb.at[i, 'Opponent']"
      ],
      "execution_count": 0,
      "outputs": []
    },
    {
      "metadata": {
        "id": "lmg4FoI0959-",
        "colab_type": "code",
        "colab": {}
      },
      "cell_type": "code",
      "source": [
        "#get the weather games data into df:\n",
        "weather_data_url = 'https://raw.githubusercontent.com/Nolanole/NFL-Weather-Project/master/all_games_weather.csv'\n",
        "weather_df = pd.read_csv(weather_data_url)"
      ],
      "execution_count": 0,
      "outputs": []
    },
    {
      "metadata": {
        "id": "9cKBnYxM_YCu",
        "colab_type": "code",
        "colab": {}
      },
      "cell_type": "code",
      "source": [
        "#convert date to datetime:\n",
        "weather_df['date'] = pd.to_datetime(weather_df['date'], infer_datetime_format=True)"
      ],
      "execution_count": 0,
      "outputs": []
    },
    {
      "metadata": {
        "id": "aLiYdwPf78Fd",
        "colab_type": "code",
        "colab": {}
      },
      "cell_type": "code",
      "source": [
        "#merge with weather data:\n",
        "home_weather = pd.merge(home_qb, weather_df, how='outer', on=['date', 'away'])\n",
        "away_weather = pd.merge(away_qb, weather_df, how='outer', on=['date', 'home'])"
      ],
      "execution_count": 0,
      "outputs": []
    },
    {
      "metadata": {
        "id": "G9YCPAfNAkJL",
        "colab_type": "code",
        "colab": {}
      },
      "cell_type": "code",
      "source": [
        "#Drop rows where game_id is NaN\n",
        "\n",
        "home_weather = home_weather[home_weather.game_id.isna()==False].reset_index(drop=True)\n",
        "away_weather = away_weather[away_weather.game_id.isna()==False].reset_index(drop=True)\n",
        "\n",
        "#Drop rows where qb stats are NaN:\n",
        "\n",
        "home_weather = home_weather[home_weather.Name.isna()==False].reset_index(drop=True)\n",
        "away_weather = away_weather[away_weather.Name.isna()==False].reset_index(drop=True)"
      ],
      "execution_count": 0,
      "outputs": []
    },
    {
      "metadata": {
        "id": "xcOHUi5wJ_lt",
        "colab_type": "code",
        "colab": {}
      },
      "cell_type": "code",
      "source": [
        "#rename columns\n",
        "drop_cols= ['Unnamed: 0','Games Played', 'Games Started'] \n",
        "col_mapper = {'Name':'name', 'Season':'season', 'Week':'week', 'Home or Away':'home_or_away',\n",
        "              'Score':'score','Passes Completed':'pass_completions', 'Passes Attempted':'pass_attempts', \n",
        "              'Completion Percentage':'comp_percent', 'Passing Yards':'yards', \n",
        "              'Passing Yards Per Attempt':'ypa', 'TD Passes':'tds', 'Ints':'ints', \n",
        "              'Sacks':'sacks', 'Sacked Yards Lost':'sack_yards', 'Passer Rating':'rating', \n",
        "              'Fumbles':'fumbles', 'Fumbles Lost':'fumbles_lost', 'Opponent':'opponent'}\n",
        "\n",
        "home_weather.drop(columns=drop_cols, inplace=True)\n",
        "away_weather.drop(columns=drop_cols, inplace=True)\n",
        "\n",
        "home_weather.rename(columns=col_mapper, inplace=True)\n",
        "away_weather.rename(columns=col_mapper, inplace=True)"
      ],
      "execution_count": 0,
      "outputs": []
    },
    {
      "metadata": {
        "id": "wSRqmsUnO9m1",
        "colab_type": "code",
        "colab": {}
      },
      "cell_type": "code",
      "source": [
        "#recast game_id as int:\n",
        "home_weather['game_id'] = home_weather['game_id'].astype('int64')\n",
        "away_weather['game_id'] = away_weather['game_id'].astype('int64')"
      ],
      "execution_count": 0,
      "outputs": []
    },
    {
      "metadata": {
        "id": "111ntf_sdfr2",
        "colab_type": "text"
      },
      "cell_type": "markdown",
      "source": [
        "Because our end goal is a dataframe where each row contains a one full game game worth of data for a teams QB, the data will be innaccurate for all games where the starting QB got injured or benched and did not play the full game. If he is hurt in the first quarter and only attempted 3 passes for 30 yards, that will show up as an extreme outlier and skew the overall data. Since we have a game_id identifier for each observation, we can aggregate by that feature and, similarly to how we combined rows for the hourly weather data into a single row for each game, can aggregate total yards and other QB statistics for that game. It wont be 100% accurate for each QB, but the overall summary statistics on a per game basis should b accurate:"
      ]
    },
    {
      "metadata": {
        "id": "ybz4FpncUl-I",
        "colab_type": "code",
        "colab": {}
      },
      "cell_type": "code",
      "source": [
        "#combine stats where multiple qbs played in same game:\n",
        "home_vc = home_weather.game_id.value_counts()\n",
        "away_vc = away_weather.game_id.value_counts()\n",
        "\n",
        "#3_qbs in same game:\n",
        "home_ids_3 = list(home_vc[home_vc == 3].index)\n",
        "away_ids_3 = list(away_vc[away_vc == 3].index)\n",
        "\n",
        "#2 Qbs same game:\n",
        "home_ids_2 = list(home_vc[home_vc == 2].index)\n",
        "away_ids_2 = list(away_vc[away_vc == 2].index)\n",
        "\n",
        "#combine to one list:\n",
        "home_ids = home_ids_3 + home_ids_2\n",
        "away_ids = away_ids_3 + away_ids_2"
      ],
      "execution_count": 0,
      "outputs": []
    },
    {
      "metadata": {
        "id": "uL_RTp2YfcBt",
        "colab_type": "code",
        "colab": {}
      },
      "cell_type": "code",
      "source": [
        "cols_to_keep = ['season', 'week', 'home_or_away', 'opponent', 'score', \n",
        "                'date', 'away', 'home', 'score_home', 'score_away', 'game_id', \n",
        "                'stadium', 'fog_or_haze', 'avg_temp', 'avg_dewpoint', 'avg_humidity', \n",
        "                'avg_wind', 'max_windgust', 'windchill', 'windchill_gust', 'sky', \n",
        "                'precipitation']\n",
        "\n",
        "home_new_rows = []\n",
        "\n",
        "for id in home_ids:\n",
        "  game = home_weather[home_weather.game_id == id]\n",
        "  \n",
        "  name = game.name.max()\n",
        "  pass_completions = game.pass_completions.sum()\n",
        "  pass_attempts = game.pass_attempts.sum()\n",
        "  yards = game.yards.sum()\n",
        "  tds = game.tds.sum()\n",
        "  ints = game.ints.sum()\n",
        "  sacks = game.sacks.sum()\n",
        "  sack_yards = game.sack_yards.sum()\n",
        "  fumbles = game.fumbles.sum()\n",
        "  fumbles_lost = game.fumbles_lost.sum()\n",
        "  ypa = yards/pass_attempts\n",
        "  comp_percent = (pass_completions / pass_attempts)*100\n",
        "  rating = np.nan\n",
        "  \n",
        "  game_row = game[cols_to_keep]\n",
        "  game_row['name'] = name\n",
        "  game_row['pass_completions'] = pass_completions\n",
        "  game_row['pass_attempts'] = pass_attempts\n",
        "  game_row['yards'] = yards\n",
        "  game_row['tds'] = tds\n",
        "  game_row['ints'] = ints\n",
        "  game_row['sacks'] = sacks\n",
        "  game_row['sack_yards'] = sack_yards\n",
        "  game_row['fumbles'] = fumbles\n",
        "  game_row['fumbles_lost'] = fumbles_lost\n",
        "  game_row['ypa'] = ypa\n",
        "  game_row['comp_percent'] = comp_percent\n",
        "  game_row['rating'] = rating\n",
        "  home_new_rows.append(game_row.iloc[0,:])\n",
        "\n"
      ],
      "execution_count": 0,
      "outputs": []
    },
    {
      "metadata": {
        "id": "c--B-BLuhOle",
        "colab_type": "code",
        "colab": {}
      },
      "cell_type": "code",
      "source": [
        "#repeat for away df:  \n",
        "\n",
        "away_new_rows = []\n",
        "\n",
        "for id in away_ids:\n",
        "  game = away_weather[away_weather.game_id == id]\n",
        "  \n",
        "  name = game.name.max()\n",
        "  pass_completions = game.pass_completions.sum()\n",
        "  pass_attempts = game.pass_attempts.sum()\n",
        "  yards = game.yards.sum()\n",
        "  tds = game.tds.sum()\n",
        "  ints = game.ints.sum()\n",
        "  sacks = game.sacks.sum()\n",
        "  sack_yards = game.sack_yards.sum()\n",
        "  fumbles = game.fumbles.sum()\n",
        "  fumbles_lost = game.fumbles_lost.sum()\n",
        "  ypa = yards/pass_attempts\n",
        "  comp_percent = (pass_completions / pass_attempts)*100\n",
        "  rating = np.nan\n",
        "  \n",
        "  game_row = game[cols_to_keep]\n",
        "  game_row['name'] = name\n",
        "  game_row['pass_completions'] = pass_completions\n",
        "  game_row['pass_attempts'] = pass_attempts\n",
        "  game_row['yards'] = yards\n",
        "  game_row['tds'] = tds\n",
        "  game_row['ints'] = ints\n",
        "  game_row['sacks'] = sacks\n",
        "  game_row['sack_yards'] = sack_yards\n",
        "  game_row['fumbles'] = fumbles\n",
        "  game_row['fumbles_lost'] = fumbles_lost\n",
        "  game_row['ypa'] = ypa\n",
        "  game_row['comp_percent'] = comp_percent\n",
        "  game_row['rating'] = rating\n",
        "  away_new_rows.append(game_row.iloc[0,:])"
      ],
      "execution_count": 0,
      "outputs": []
    },
    {
      "metadata": {
        "id": "9-8j8m4nef9H",
        "colab_type": "code",
        "colab": {}
      },
      "cell_type": "code",
      "source": [
        "#concat the new rows of series objects (rows, transposed):\n",
        "new_home_rows = pd.concat(home_new_rows, axis=1).T.reset_index().drop(columns=['index'])\n",
        "new_away_rows = pd.concat(away_new_rows, axis=1).T.reset_index().drop(columns=['index'])"
      ],
      "execution_count": 0,
      "outputs": []
    },
    {
      "metadata": {
        "id": "JalqMIV_fjGV",
        "colab_type": "text"
      },
      "cell_type": "markdown",
      "source": [
        "Get the indices of the rows we just aggregated into new rows, so we can drop them from the main dataframes by index, and then we'll add the new rows of aggregated games data back in and reset the index\n",
        "\n"
      ]
    },
    {
      "metadata": {
        "id": "UGhQV9cQJ_2n",
        "colab_type": "code",
        "colab": {}
      },
      "cell_type": "code",
      "source": [
        "#indices of game_ids where 3 QB played:\n",
        "i_home_3 = list(home_weather[home_weather.game_id.isin(home_ids_3)].index)\n",
        "i_away_3 = list(away_weather[away_weather.game_id.isin(away_ids_3)].index)\n",
        "\n",
        "#indices of game_ids where 2 QB played:\n",
        "i_home_2 = list(home_weather[home_weather.game_id.isin(home_ids_2)].index)\n",
        "i_away_2 = list(away_weather[away_weather.game_id.isin(away_ids_2)].index)\n",
        "\n",
        "#combined\n",
        "home_indices = i_home_3 + i_home_2\n",
        "away_indices = i_away_3 + i_away_2"
      ],
      "execution_count": 0,
      "outputs": []
    },
    {
      "metadata": {
        "id": "jY0uf43_t7VK",
        "colab_type": "code",
        "colab": {}
      },
      "cell_type": "code",
      "source": [
        "#drop these rows from home and away weather dfs:\n",
        "\n",
        "home_weather.drop(home_indices, inplace=True)\n",
        "away_weather.drop(away_indices, inplace=True)"
      ],
      "execution_count": 0,
      "outputs": []
    },
    {
      "metadata": {
        "id": "Cg8RcqjDtqRs",
        "colab_type": "code",
        "colab": {}
      },
      "cell_type": "code",
      "source": [
        "#concat new rows with home and away_weather dfs:\n",
        "home_plus = pd.concat([home_weather, new_home_rows])\n",
        "away_plus = pd.concat([away_weather, new_away_rows])"
      ],
      "execution_count": 0,
      "outputs": []
    },
    {
      "metadata": {
        "id": "Y9Y_IBy34VoW",
        "colab_type": "code",
        "colab": {}
      },
      "cell_type": "code",
      "source": [
        "#concat home and away\n",
        "combined = pd.concat([home_plus, away_plus])"
      ],
      "execution_count": 0,
      "outputs": []
    },
    {
      "metadata": {
        "id": "KppGLdgk0pgy",
        "colab_type": "code",
        "colab": {}
      },
      "cell_type": "code",
      "source": [
        "#drop rows where pass attempts == 0\n",
        "combined = combined[combined.pass_attempts > 0]"
      ],
      "execution_count": 0,
      "outputs": []
    },
    {
      "metadata": {
        "id": "SZ4Q_arzFlCE",
        "colab_type": "code",
        "colab": {}
      },
      "cell_type": "code",
      "source": [
        "#sort by date/ stadium\n",
        "combined = combined.sort_values(['date', 'stadium']).reset_index(drop=True)"
      ],
      "execution_count": 0,
      "outputs": []
    },
    {
      "metadata": {
        "id": "MUM5vFo_5abg",
        "colab_type": "code",
        "colab": {}
      },
      "cell_type": "code",
      "source": [
        "#add categorical column for dome, and fill some nan for max_windgust\n",
        "\n",
        "for i in combined.index:\n",
        "  if combined.at[i, 'stadium'] == 'dome':\n",
        "    combined.at[i, 'dome'] = 1\n",
        "  else:\n",
        "    combined.at[i, 'dome'] = 0\n",
        "  if np.isnan(combined.at[i, 'max_windgust'])==True:\n",
        "    if np.isnan(combined.at[i, 'avg_wind']) == False:\n",
        "      combined.at[i, 'max_windgust'] = combined.at[i, 'avg_wind']"
      ],
      "execution_count": 0,
      "outputs": []
    },
    {
      "metadata": {
        "id": "JEr-3yX8I0Z0",
        "colab_type": "code",
        "colab": {}
      },
      "cell_type": "code",
      "source": [
        "#export to csv and start new notebook for visualizations\n",
        "#save and export:\n",
        "combined.to_csv('QB_weather_cleaned.csv')\n",
        "\n",
        "#download the csv:\n",
        "from google.colab import files\n",
        "files.download('QB_weather_cleaned.csv')"
      ],
      "execution_count": 0,
      "outputs": []
    }
  ]
}