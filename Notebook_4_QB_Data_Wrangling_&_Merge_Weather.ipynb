{
  "nbformat": 4,
  "nbformat_minor": 0,
  "metadata": {
    "colab": {
      "name": "Notebook 4: QB Data Wrangling & Merge Weather",
      "version": "0.3.2",
      "provenance": [],
      "collapsed_sections": [],
      "include_colab_link": true
    },
    "kernelspec": {
      "name": "python3",
      "display_name": "Python 3"
    }
  },
  "cells": [
    {
      "cell_type": "markdown",
      "metadata": {
        "id": "view-in-github",
        "colab_type": "text"
      },
      "source": [
        "<a href=\"https://colab.research.google.com/github/Nolanole/NFL-Weather-Project/blob/master/Notebook_4_QB_Data_Wrangling_%26_Merge_Weather.ipynb\" target=\"_parent\"><img src=\"https://colab.research.google.com/assets/colab-badge.svg\" alt=\"Open In Colab\"/></a>"
      ]
    },
    {
      "metadata": {
        "id": "afAy7_RlMrF6",
        "colab_type": "code",
        "colab": {}
      },
      "cell_type": "code",
      "source": [
        "import pandas as pd\n",
        "import numpy as np\n",
        "pd.set_option('display.max_rows', 500)\n",
        "pd.set_option('display.max_columns', 500)\n",
        "pd.set_option('display.width', 1000)"
      ],
      "execution_count": 0,
      "outputs": []
    },
    {
      "metadata": {
        "id": "UqIFtcxTMv_-",
        "colab_type": "code",
        "colab": {}
      },
      "cell_type": "code",
      "source": [
        "qb = pd.read_csv('https://raw.githubusercontent.com/Nolanole/NFL-Weather-Project/master/Game_Logs_Quarterback.csv', na_values='--')"
      ],
      "execution_count": 0,
      "outputs": []
    },
    {
      "metadata": {
        "id": "fW4jLrWyNE3N",
        "colab_type": "code",
        "colab": {}
      },
      "cell_type": "code",
      "source": [
        "#remove any year < 1980:\n",
        "\n",
        "qb = qb[qb['Year'] > 1979].reset_index().drop(columns=['index'])\n",
        "\n",
        "#remove preseason and ProBowl games:\n",
        "\n",
        "qb = qb.drop(qb[qb['Season'] == 'Preseason'].index)\n",
        "qb = qb.drop(qb[qb['Season'] == 'Pro Bowl'].index).reset_index(drop=True)\n",
        "\n",
        "#drop columns not needed: \n",
        "\n",
        "drop_cols = ['Position', 'Outcome','Player Id', 'Rushing Attempts', 'Rushing Yards', 'Yards Per Carry', 'Rushing TDs']\n",
        "qb = qb.drop(columns=drop_cols)\n",
        "\n",
        "#drop NaNs where no passes are attempted:\n",
        "qb = qb[qb['Passes Attempted'].notna() == True]"
      ],
      "execution_count": 0,
      "outputs": []
    },
    {
      "metadata": {
        "id": "OcYV27bmNmg-",
        "colab_type": "code",
        "colab": {}
      },
      "cell_type": "code",
      "source": [
        "#make a date column using game date + year and season type\n",
        "for i in qb.index:\n",
        "  if qb.loc[i]['Season'] == 'Regular Season':\n",
        "    #add 1 for games of a season played in Jan/Feb of following calendar year:\n",
        "    if qb.loc[i]['Game Date'] < '03/31':\n",
        "      year = str(int(qb.loc[i]['Year']) + 1)\n",
        "      qb.at[i, 'date'] = str(qb.loc[i]['Game Date']) + '/' + year\n",
        "    else:\n",
        "      qb.at[i, 'date'] = str(qb.loc[i]['Game Date']) + '/' + str(qb.loc[i]['Year'])\n",
        "  else:\n",
        "    year = str(int(qb.loc[i]['Year']) + 1)\n",
        "    qb.at[i, 'date'] = str(qb.loc[i]['Game Date']) + '/' + year\n",
        "\n",
        "#datetime:\n",
        "qb['date'] = pd.to_datetime(qb['date'], infer_datetime_format=True)\n",
        "\n",
        "#can safely drop Year and Game Date columns now:\n",
        "qb = qb.drop(columns=['Year', 'Game Date'])"
      ],
      "execution_count": 0,
      "outputs": []
    },
    {
      "metadata": {
        "id": "XfxnqVMtRz5x",
        "colab_type": "code",
        "colab": {}
      },
      "cell_type": "code",
      "source": [
        "#get list of opponents, create dict to map with full team name so can merge with\n",
        "#weather df\n",
        "\n",
        "opponents_map = {'NE': 'New England Patriots',\n",
        "                 'SF': 'San Francisco 49ers',\n",
        "                 'DEN': 'Denver Broncos',\n",
        "                 'PIT': 'Pittsburgh Steelers',\n",
        "                 'PHI': 'Philadelphia Eagles',\n",
        "                 'GB': 'Green Bay Packers',\n",
        "                 'DAL': 'Dallas Cowboys',\n",
        "                 'MIA': 'Miami Dolphins',\n",
        "                 'CHI': 'Chicago Bears',\n",
        "                 'WAS': 'Washington Redskins',\n",
        "                 'NYG': 'New York Giants',\n",
        "                 'SEA': 'Seattle Seahawks',\n",
        "                 'MIN': 'Minnesota Vikings',\n",
        "                 'CIN': 'Cincinnati Bengals',\n",
        "                 'ATL': 'Atlanta Falcons',\n",
        "                 'NO': 'New Orleans Saints',\n",
        "                 'KC': 'Kansas City Chiefs',\n",
        "                 'BUF': 'Buffalo Bills',\n",
        "                 'TB': 'Tampa Bay Buccaneers',\n",
        "                 'NYJ': 'New York Jets',\n",
        "                 'DET': 'Detroit Lions',\n",
        "                 'IND': 'Indianapolis Colts',\n",
        "                 'CLE': 'Cleveland Browns',\n",
        "                 'ARI': 'Arizona Cardinals',\n",
        "                 'CAR':'Carolina Panthers',\n",
        "                 'JAC': 'Jacksonville Jaguars',\n",
        "                 'JAX': 'Jacksonville Jaguars',\n",
        "                 'SD': 'San Diego Chargers',\n",
        "                 'PHO': 'Phoenix Cardinals',\n",
        "                 'LA': 'Los Angeles Rams',\n",
        "                 'RAM': 'Los Angeles Rams',\n",
        "                 'RAI': 'Los Angeles Raiders', #1982-1994\n",
        "                 'OAK': 'Oakland Raiders'} \n",
        "\n",
        "qb['Opponent'] = qb['Opponent'].replace(opponents_map)\n",
        "\n",
        "\n",
        "#Replace TEN with tennessee oilers or titans, depending on year:\n",
        "tenn_i = qb[(qb['Opponent']=='TEN')].index\n",
        "for i in tenn_i:\n",
        "  if qb.loc[i].date.year < 1999:\n",
        "    qb.at[i, 'Opponent'] = 'Tennessee Oilers'\n",
        "  else:\n",
        "    qb.at[i, 'Opponent'] = 'Tennessee Titans'\n",
        "\n",
        "#Same for BAL: Colts until 1984, Ravens after 1996\n",
        "balt_i = qb[(qb['Opponent']=='BAL')].index\n",
        "for i in balt_i:\n",
        "  if qb.loc[i].date.year < 1986:\n",
        "    qb.at[i, 'Opponent'] = 'Baltimore Colts'\n",
        "  else:\n",
        "    qb.at[i, 'Opponent'] = 'Baltimore Ravens'\n",
        "\n",
        "#Same for HOU: Oilers until 1996, Texans after 2002\n",
        "houston_i = qb[(qb['Opponent']=='HOU')].index\n",
        "for i in houston_i:\n",
        "  if qb.loc[i].date.year < 1998:\n",
        "    qb.at[i, 'Opponent'] = 'Houston Oilers'\n",
        "  else:\n",
        "    qb.at[i, 'Opponent'] = 'Houston Texans'\n",
        "\n",
        "#Same for STL: Cardinals until 1986, Rams 1995-2016\n",
        "stl_i = qb[(qb['Opponent']=='STL')].index\n",
        "for i in stl_i:\n",
        "  if qb.loc[i].date.year < 1988:\n",
        "    qb.at[i, 'Opponent'] = 'St. Louis Cardinals'\n",
        "  else:\n",
        "    qb.at[i, 'Opponent'] = 'St. Louis Rams'"
      ],
      "execution_count": 0,
      "outputs": []
    },
    {
      "metadata": {
        "id": "CkN34v7z7Lyt",
        "colab_type": "code",
        "colab": {}
      },
      "cell_type": "code",
      "source": [
        "'''Split into 2 DFs, one for home teams and one for away: then make opponent column \n",
        "correspond to home or away so we can merge with weather data using opponent and date'''\n",
        "\n",
        "home_qb = qb[qb['Home or Away'] == 'Home'].reset_index(drop=True)\n",
        "away_qb = qb[qb['Home or Away'] == 'Away'].reset_index(drop=True)\n",
        "\n",
        "#change the opponent column to home or away:\n",
        "\n",
        "for i in home_qb.index:\n",
        "  home_qb.at[i, 'away'] = home_qb.at[i, 'Opponent']\n",
        "\n",
        "for i in away_qb.index:\n",
        "  away_qb.at[i, 'home'] = away_qb.at[i, 'Opponent']"
      ],
      "execution_count": 0,
      "outputs": []
    },
    {
      "metadata": {
        "id": "lmg4FoI0959-",
        "colab_type": "code",
        "colab": {}
      },
      "cell_type": "code",
      "source": [
        "#get the weather games data into df:\n",
        "weather_data_url = 'https://raw.githubusercontent.com/Nolanole/NFL-Weather-Project/master/all_games_weather.csv'\n",
        "weather_df = pd.read_csv(weather_data_url)"
      ],
      "execution_count": 0,
      "outputs": []
    },
    {
      "metadata": {
        "id": "9cKBnYxM_YCu",
        "colab_type": "code",
        "colab": {}
      },
      "cell_type": "code",
      "source": [
        "#convert date to datetime:\n",
        "weather_df['date'] = pd.to_datetime(weather_df['date'], infer_datetime_format=True)"
      ],
      "execution_count": 0,
      "outputs": []
    },
    {
      "metadata": {
        "id": "aLiYdwPf78Fd",
        "colab_type": "code",
        "colab": {}
      },
      "cell_type": "code",
      "source": [
        "#merge with weather data:\n",
        "home_weather = pd.merge(home_qb, weather_df, how='outer', on=['date', 'away'])\n",
        "away_weather = pd.merge(away_qb, weather_df, how='outer', on=['date', 'home'])"
      ],
      "execution_count": 0,
      "outputs": []
    },
    {
      "metadata": {
        "id": "G9YCPAfNAkJL",
        "colab_type": "code",
        "colab": {}
      },
      "cell_type": "code",
      "source": [
        "#Drop rows where game_id is NaN\n",
        "\n",
        "home_weather = home_weather[home_weather.game_id.isna()==False].reset_index(drop=True)\n",
        "away_weather = away_weather[away_weather.game_id.isna()==False].reset_index(drop=True)\n",
        "\n",
        "#Drop rows where qb stats are NaN:\n",
        "\n",
        "home_weather = home_weather[home_weather.Name.isna()==False].reset_index(drop=True)\n",
        "away_weather = away_weather[away_weather.Name.isna()==False].reset_index(drop=True)"
      ],
      "execution_count": 0,
      "outputs": []
    },
    {
      "metadata": {
        "id": "xcOHUi5wJ_lt",
        "colab_type": "code",
        "colab": {}
      },
      "cell_type": "code",
      "source": [
        "#rename columns\n",
        "drop_cols= ['Unnamed: 0','Games Played', 'Games Started'] \n",
        "col_mapper = {'Name':'name', 'Season':'season', 'Week':'week', 'Home or Away':'home_or_away',\n",
        "              'Score':'score','Passes Completed':'pass_completions', 'Passes Attempted':'pass_attempts', \n",
        "              'Completion Percentage':'comp_percent', 'Passing Yards':'yards', \n",
        "              'Passing Yards Per Attempt':'ypa', 'TD Passes':'tds', 'Ints':'ints', \n",
        "              'Sacks':'sacks', 'Sacked Yards Lost':'sack_yards', 'Passer Rating':'rating', \n",
        "              'Fumbles':'fumbles', 'Fumbles Lost':'fumbles_lost', 'Opponent':'opponent'}\n",
        "\n",
        "home_weather.drop(columns=drop_cols, inplace=True)\n",
        "away_weather.drop(columns=drop_cols, inplace=True)\n",
        "\n",
        "home_weather.rename(columns=col_mapper, inplace=True)\n",
        "away_weather.rename(columns=col_mapper, inplace=True)"
      ],
      "execution_count": 0,
      "outputs": []
    },
    {
      "metadata": {
        "id": "wSRqmsUnO9m1",
        "colab_type": "code",
        "colab": {}
      },
      "cell_type": "code",
      "source": [
        "#recast game_id as int:\n",
        "home_weather['game_id'] = home_weather['game_id'].astype('int64')\n",
        "away_weather['game_id'] = away_weather['game_id'].astype('int64')"
      ],
      "execution_count": 0,
      "outputs": []
    },
    {
      "metadata": {
        "id": "ybz4FpncUl-I",
        "colab_type": "code",
        "colab": {}
      },
      "cell_type": "code",
      "source": [
        "#combine stats where multiple qbs played in same game:\n",
        "home_vc = home_weather.game_id.value_counts()\n",
        "away_vc = away_weather.game_id.value_counts()\n",
        "\n",
        "#3_qbs in same game:\n",
        "home_ids_3 = list(home_vc[home_vc == 3].index)\n",
        "away_ids_3 = list(away_vc[away_vc == 3].index)\n",
        "\n",
        "#2 Qbs same game:\n",
        "home_ids_2 = list(home_vc[home_vc == 2].index)\n",
        "away_ids_2 = list(away_vc[away_vc == 2].index)\n",
        "\n",
        "#combine to one list:\n",
        "home_ids = home_ids_3 + home_ids_2\n",
        "away_ids = away_ids_3 + away_ids_2"
      ],
      "execution_count": 0,
      "outputs": []
    },
    {
      "metadata": {
        "id": "uL_RTp2YfcBt",
        "colab_type": "code",
        "colab": {}
      },
      "cell_type": "code",
      "source": [
        "cols_to_keep = ['season', 'week', 'home_or_away', 'opponent', 'score', \n",
        "                'date', 'away', 'home', 'score_home', 'score_away', 'game_id', \n",
        "                'stadium', 'fog_or_haze', 'avg_temp', 'avg_dewpoint', 'avg_humidity', \n",
        "                'avg_wind', 'max_windgust', 'windchill', 'windchill_gust', 'sky', \n",
        "                'precipitation']\n",
        "\n",
        "home_new_rows = []\n",
        "\n",
        "for id in home_ids:\n",
        "  game = home_weather[home_weather.game_id == id]\n",
        "  \n",
        "  name = game.name.max()\n",
        "  pass_completions = game.pass_completions.sum()\n",
        "  pass_attempts = game.pass_attempts.sum()\n",
        "  yards = game.yards.sum()\n",
        "  tds = game.tds.sum()\n",
        "  ints = game.ints.sum()\n",
        "  sacks = game.sacks.sum()\n",
        "  sack_yards = game.sack_yards.sum()\n",
        "  fumbles = game.fumbles.sum()\n",
        "  fumbles_lost = game.fumbles_lost.sum()\n",
        "  ypa = yards/pass_attempts\n",
        "  comp_percent = (pass_completions / pass_attempts)*100\n",
        "  rating = np.nan\n",
        "  \n",
        "  game_row = game[cols_to_keep]\n",
        "  game_row['name'] = name\n",
        "  game_row['pass_completions'] = pass_completions\n",
        "  game_row['pass_attempts'] = pass_attempts\n",
        "  game_row['yards'] = yards\n",
        "  game_row['tds'] = tds\n",
        "  game_row['ints'] = ints\n",
        "  game_row['sacks'] = sacks\n",
        "  game_row['sack_yards'] = sack_yards\n",
        "  game_row['fumbles'] = fumbles\n",
        "  game_row['fumbles_lost'] = fumbles_lost\n",
        "  game_row['ypa'] = ypa\n",
        "  game_row['comp_percent'] = comp_percent\n",
        "  game_row['rating'] = rating\n",
        "  home_new_rows.append(game_row.iloc[0,:])\n",
        "\n"
      ],
      "execution_count": 0,
      "outputs": []
    },
    {
      "metadata": {
        "id": "c--B-BLuhOle",
        "colab_type": "code",
        "colab": {}
      },
      "cell_type": "code",
      "source": [
        "#repeat for away df:  \n",
        "\n",
        "away_new_rows = []\n",
        "\n",
        "for id in away_ids:\n",
        "  game = away_weather[away_weather.game_id == id]\n",
        "  \n",
        "  name = game.name.max()\n",
        "  pass_completions = game.pass_completions.sum()\n",
        "  pass_attempts = game.pass_attempts.sum()\n",
        "  yards = game.yards.sum()\n",
        "  tds = game.tds.sum()\n",
        "  ints = game.ints.sum()\n",
        "  sacks = game.sacks.sum()\n",
        "  sack_yards = game.sack_yards.sum()\n",
        "  fumbles = game.fumbles.sum()\n",
        "  fumbles_lost = game.fumbles_lost.sum()\n",
        "  ypa = yards/pass_attempts\n",
        "  comp_percent = (pass_completions / pass_attempts)*100\n",
        "  rating = np.nan\n",
        "  \n",
        "  game_row = game[cols_to_keep]\n",
        "  game_row['name'] = name\n",
        "  game_row['pass_completions'] = pass_completions\n",
        "  game_row['pass_attempts'] = pass_attempts\n",
        "  game_row['yards'] = yards\n",
        "  game_row['tds'] = tds\n",
        "  game_row['ints'] = ints\n",
        "  game_row['sacks'] = sacks\n",
        "  game_row['sack_yards'] = sack_yards\n",
        "  game_row['fumbles'] = fumbles\n",
        "  game_row['fumbles_lost'] = fumbles_lost\n",
        "  game_row['ypa'] = ypa\n",
        "  game_row['comp_percent'] = comp_percent\n",
        "  game_row['rating'] = rating\n",
        "  away_new_rows.append(game_row.iloc[0,:])"
      ],
      "execution_count": 0,
      "outputs": []
    },
    {
      "metadata": {
        "id": "9-8j8m4nef9H",
        "colab_type": "code",
        "colab": {}
      },
      "cell_type": "code",
      "source": [
        "#concat the new rows:\n",
        "new_home_rows = pd.concat(home_new_rows, axis=1).T.reset_index().drop(columns=['index'])\n",
        "new_away_rows = pd.concat(away_new_rows, axis=1).T.reset_index().drop(columns=['index'])"
      ],
      "execution_count": 0,
      "outputs": []
    },
    {
      "metadata": {
        "id": "UGhQV9cQJ_2n",
        "colab_type": "code",
        "colab": {}
      },
      "cell_type": "code",
      "source": [
        "#indices of game_ids where 3 QB played:\n",
        "i_home_3 = list(home_weather[home_weather.game_id.isin(home_ids_3)].index)\n",
        "i_away_3 = list(away_weather[away_weather.game_id.isin(away_ids_3)].index)\n",
        "\n",
        "#indices of game_ids where 2 QB played:\n",
        "i_home_2 = list(home_weather[home_weather.game_id.isin(home_ids_2)].index)\n",
        "i_away_2 = list(away_weather[away_weather.game_id.isin(away_ids_2)].index)\n",
        "\n",
        "#combined\n",
        "home_indices = i_home_3 + i_home_2\n",
        "away_indices = i_away_3 + i_away_2"
      ],
      "execution_count": 0,
      "outputs": []
    },
    {
      "metadata": {
        "id": "jY0uf43_t7VK",
        "colab_type": "code",
        "colab": {}
      },
      "cell_type": "code",
      "source": [
        "#drop these rows from home and away weather dfs:\n",
        "\n",
        "home_weather.drop(home_indices, inplace=True)\n",
        "away_weather.drop(away_indices, inplace=True)"
      ],
      "execution_count": 0,
      "outputs": []
    },
    {
      "metadata": {
        "id": "Cg8RcqjDtqRs",
        "colab_type": "code",
        "colab": {}
      },
      "cell_type": "code",
      "source": [
        "#concat new rows with home and away_weather dfs:\n",
        "home_plus = pd.concat([home_weather, new_home_rows])\n",
        "away_plus = pd.concat([away_weather, new_away_rows])"
      ],
      "execution_count": 0,
      "outputs": []
    },
    {
      "metadata": {
        "id": "Y9Y_IBy34VoW",
        "colab_type": "code",
        "colab": {}
      },
      "cell_type": "code",
      "source": [
        "#concat home and away\n",
        "combined = pd.concat([home_plus, away_plus])"
      ],
      "execution_count": 0,
      "outputs": []
    },
    {
      "metadata": {
        "id": "KppGLdgk0pgy",
        "colab_type": "code",
        "colab": {}
      },
      "cell_type": "code",
      "source": [
        "#drop rows where pass attempts == 0\n",
        "combined = combined[combined.pass_attempts > 0]"
      ],
      "execution_count": 0,
      "outputs": []
    },
    {
      "metadata": {
        "id": "SZ4Q_arzFlCE",
        "colab_type": "code",
        "colab": {}
      },
      "cell_type": "code",
      "source": [
        "#sort by date/ stadium\n",
        "combined = combined.sort_values(['date', 'stadium']).reset_index(drop=True)"
      ],
      "execution_count": 0,
      "outputs": []
    },
    {
      "metadata": {
        "id": "MUM5vFo_5abg",
        "colab_type": "code",
        "colab": {}
      },
      "cell_type": "code",
      "source": [
        "#add categorical column for dome, and fill some nan for max_windgust\n",
        "\n",
        "for i in combined.index:\n",
        "  if combined.at[i, 'stadium'] == 'dome':\n",
        "    combined.at[i, 'dome'] = 1\n",
        "  else:\n",
        "    combined.at[i, 'dome'] = 0\n",
        "  if np.isnan(combined.at[i, 'max_windgust'])==True:\n",
        "    if np.isnan(combined.at[i, 'avg_wind']) == False:\n",
        "      combined.at[i, 'max_windgust'] = combined.at[i, 'avg_wind']"
      ],
      "execution_count": 0,
      "outputs": []
    },
    {
      "metadata": {
        "id": "JEr-3yX8I0Z0",
        "colab_type": "code",
        "colab": {}
      },
      "cell_type": "code",
      "source": [
        "#export to csv and start new notebook for visualizations\n",
        "#save and export:\n",
        "combined.to_csv('QB_weather_cleaned.csv')\n",
        "\n",
        "#download the csv:\n",
        "from google.colab import files\n",
        "files.download('QB_weather_cleaned.csv')"
      ],
      "execution_count": 0,
      "outputs": []
    }
  ]
}