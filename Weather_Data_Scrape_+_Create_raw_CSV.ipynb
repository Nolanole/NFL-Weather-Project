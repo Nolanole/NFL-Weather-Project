{
  "nbformat": 4,
  "nbformat_minor": 0,
  "metadata": {
    "colab": {
      "name": "Weather Data Scrape + Create raw CSV",
      "version": "0.3.2",
      "provenance": [],
      "collapsed_sections": [],
      "include_colab_link": true
    },
    "kernelspec": {
      "name": "python3",
      "display_name": "Python 3"
    }
  },
  "cells": [
    {
      "cell_type": "markdown",
      "metadata": {
        "id": "view-in-github",
        "colab_type": "text"
      },
      "source": [
        "<a href=\"https://colab.research.google.com/github/Nolanole/NFL-Weather-Project/blob/master/Weather_Data_Scrape_%2B_Create_raw_CSV.ipynb\" target=\"_parent\"><img src=\"https://colab.research.google.com/assets/colab-badge.svg\" alt=\"Open In Colab\"/></a>"
      ]
    },
    {
      "metadata": {
        "id": "EsT7x4HP3xmC",
        "colab_type": "code",
        "colab": {}
      },
      "cell_type": "code",
      "source": [
        "#imports\n",
        "import pandas as pd\n",
        "import bs4\n",
        "import requests"
      ],
      "execution_count": 0,
      "outputs": []
    },
    {
      "metadata": {
        "id": "8EY23Nv7-cIh",
        "colab_type": "code",
        "colab": {}
      },
      "cell_type": "code",
      "source": [
        "#View the main url where all the links to the weather data originates:\n",
        "\n",
        "master_url = 'https://www.profootballarchives.com/weather/weather.html'\n",
        "result = requests.get(master_url)\n",
        "soup = bs4.BeautifulSoup(result.text)"
      ],
      "execution_count": 0,
      "outputs": []
    },
    {
      "metadata": {
        "id": "2NPgG7q8-mvy",
        "colab_type": "code",
        "colab": {}
      },
      "cell_type": "code",
      "source": [
        "#get the urls for 1980-2017 into a list:\n",
        "\n",
        "years = soup.find_all('a')[89:51:-1]\n",
        "years_urls = []\n",
        "for year in years:\n",
        "  years_urls.append('https://www.profootballarchives.com/weather/' + str(year['href']))"
      ],
      "execution_count": 0,
      "outputs": []
    },
    {
      "metadata": {
        "id": "iwNLtlz5DVpD",
        "colab_type": "code",
        "colab": {
          "base_uri": "https://localhost:8080/",
          "height": 35
        },
        "outputId": "a9e9cb00-e118-4ce9-ee53-35652dd328ed"
      },
      "cell_type": "code",
      "source": [
        "#for each year, get the urls for the games for that year into a list:\n",
        "\n",
        "games_urls = []\n",
        "for year_url in years_urls:\n",
        "  result = requests.get(year_url)\n",
        "  soup = bs4.BeautifulSoup(result.text)\n",
        "  games = soup.find_all('a')[8:-4]\n",
        "  for game in games:\n",
        "    games_urls.append('https://www.profootballarchives.com/weather/' + str(game['href']))"
      ],
      "execution_count": 5,
      "outputs": [
        {
          "output_type": "execute_result",
          "data": {
            "text/plain": [
              "7401"
            ]
          },
          "metadata": {
            "tags": []
          },
          "execution_count": 5
        }
      ]
    },
    {
      "metadata": {
        "id": "w5g9SxFuCg5S",
        "colab_type": "code",
        "colab": {}
      },
      "cell_type": "code",
      "source": [
        "#function to grab the data from the webpage:\n",
        "\n",
        "def get_game_dfs(games_urls):\n",
        "  games_dfs = []\n",
        "  for game_url in games_urls:\n",
        "    #skip url with faulty data / formatting:\n",
        "    if (game_url == 'https://www.profootballarchives.com/weather/2008nfl180.html') or (game_url == 'https://www.profootballarchives.com/weather/1988nfl089.html') or (game_url == 'https://www.profootballarchives.com/weather/2002nfl158.html') or (game_url == 'https://www.profootballarchives.com/weather/1988nfl092.html') or (game_url == 'https://www.profootballarchives.com/weather/1988nfl097.html'):\n",
        "      continue\n",
        "    result = requests.get(game_url)\n",
        "    soup = bs4.BeautifulSoup(result.text)\n",
        "    tables = soup.find_all('table')\n",
        "    vs_flag = False\n",
        "    teams = tables[3].string.strip()\n",
        "    teams = teams.split(' at ')\n",
        "    #correct for entries where teams listed 'vs' instead of 'at'\n",
        "    if len(teams) == 1:\n",
        "      teams = teams[0].split(' vs ')\n",
        "      vs_flag = True\n",
        "    #correct for entries with 'vs' AND a period:\n",
        "    if len(teams) == 1:\n",
        "      teams = teams[0].split(' vs. ')\n",
        "    \n",
        "    date, venue = tables[4].find_all('td')[0:2]\n",
        "    date = date.string.strip().split(' at ')\n",
        "    place = date[1]\n",
        "    date = date[0]\n",
        "    venue = venue.string.strip()\n",
        "\n",
        "    headers = tables[5].find_all('th')\n",
        "    cols = []\n",
        "\n",
        "    for header in headers:\n",
        "      cols.append(header.string.strip())\n",
        "\n",
        "    raw = tables[5].find_all('td')[:40]\n",
        "\n",
        "    nums = [0,10,20,30,40]\n",
        "    game_data = []\n",
        "\n",
        "    for i in range(4):\n",
        "      row = raw[nums[i]:nums[i+1]]\n",
        "      row_data = []\n",
        "      for cell in row:\n",
        "        try:\n",
        "          row_data.append(cell.string.strip())\n",
        "        except:\n",
        "          row_data.append('--')\n",
        "      game_data.append(row_data)\n",
        "  \n",
        "    game_df = pd.DataFrame(game_data, columns=cols)\n",
        "    if vs_flag:\n",
        "      try:\n",
        "        game_df['away'] = teams[1]\n",
        "        game_df['home'] = teams[0]\n",
        "      except:\n",
        "        print(game_url)\n",
        "    else:  \n",
        "      game_df['away'] = teams[0]\n",
        "      game_df['home'] = teams[1]\n",
        "    game_df['venue'] = venue\n",
        "    game_df['place'] = place\n",
        "    game_df['date'] = date\n",
        "    games_dfs.append(game_df)\n",
        "  return pd.concat(games_dfs)"
      ],
      "execution_count": 0,
      "outputs": []
    },
    {
      "metadata": {
        "id": "6X-i9SrZSj5n",
        "colab_type": "code",
        "colab": {}
      },
      "cell_type": "code",
      "source": [
        "chunk1 = get_game_dfs(games_urls[0:150])"
      ],
      "execution_count": 0,
      "outputs": []
    },
    {
      "metadata": {
        "id": "oZ-8hXTxhZJb",
        "colab_type": "code",
        "colab": {}
      },
      "cell_type": "code",
      "source": [
        "chunk2 = get_game_dfs(games_urls[150:300])"
      ],
      "execution_count": 0,
      "outputs": []
    },
    {
      "metadata": {
        "id": "lgs--KLpheVY",
        "colab_type": "code",
        "colab": {}
      },
      "cell_type": "code",
      "source": [
        "chunk3 = get_game_dfs(games_urls[300:450])"
      ],
      "execution_count": 0,
      "outputs": []
    },
    {
      "metadata": {
        "id": "H0JmZOqrhosr",
        "colab_type": "code",
        "colab": {}
      },
      "cell_type": "code",
      "source": [
        "chunk4 = get_game_dfs(games_urls[450:600])"
      ],
      "execution_count": 0,
      "outputs": []
    },
    {
      "metadata": {
        "id": "n55PeaBrhqCd",
        "colab_type": "code",
        "colab": {}
      },
      "cell_type": "code",
      "source": [
        "chunk5 = get_game_dfs(games_urls[600:750])"
      ],
      "execution_count": 0,
      "outputs": []
    },
    {
      "metadata": {
        "id": "vftOp3DUhtIm",
        "colab_type": "code",
        "colab": {}
      },
      "cell_type": "code",
      "source": [
        "chunk6 = get_game_dfs(games_urls[750:900])"
      ],
      "execution_count": 0,
      "outputs": []
    },
    {
      "metadata": {
        "id": "mLawjo_Churh",
        "colab_type": "code",
        "colab": {}
      },
      "cell_type": "code",
      "source": [
        "chunk7 = get_game_dfs(games_urls[900:1050])"
      ],
      "execution_count": 0,
      "outputs": []
    },
    {
      "metadata": {
        "id": "A-VKkwMjhxr2",
        "colab_type": "code",
        "colab": {}
      },
      "cell_type": "code",
      "source": [
        "chunk8 = get_game_dfs(games_urls[1050:1200])"
      ],
      "execution_count": 0,
      "outputs": []
    },
    {
      "metadata": {
        "id": "IVt-0FoPh2m_",
        "colab_type": "code",
        "colab": {}
      },
      "cell_type": "code",
      "source": [
        "chunk9 = get_game_dfs(games_urls[1200:1350])"
      ],
      "execution_count": 0,
      "outputs": []
    },
    {
      "metadata": {
        "id": "go779wTxh5Vd",
        "colab_type": "code",
        "colab": {}
      },
      "cell_type": "code",
      "source": [
        "chunk10 = get_game_dfs(games_urls[1350:1500])"
      ],
      "execution_count": 0,
      "outputs": []
    },
    {
      "metadata": {
        "id": "RBQiFeUxh7EW",
        "colab_type": "code",
        "colab": {}
      },
      "cell_type": "code",
      "source": [
        "chunk11 = get_game_dfs(games_urls[1500:1650])"
      ],
      "execution_count": 0,
      "outputs": []
    },
    {
      "metadata": {
        "id": "4LDaonPAh95U",
        "colab_type": "code",
        "colab": {}
      },
      "cell_type": "code",
      "source": [
        "chunk12 = get_game_dfs(games_urls[1650:1800])"
      ],
      "execution_count": 0,
      "outputs": []
    },
    {
      "metadata": {
        "id": "K8vXTcEZiAsQ",
        "colab_type": "code",
        "colab": {}
      },
      "cell_type": "code",
      "source": [
        "chunk13 = get_game_dfs(games_urls[1800:1950])"
      ],
      "execution_count": 0,
      "outputs": []
    },
    {
      "metadata": {
        "id": "D0boyt85iD70",
        "colab_type": "code",
        "colab": {}
      },
      "cell_type": "code",
      "source": [
        "chunk14 = get_game_dfs(games_urls[1950:2100])"
      ],
      "execution_count": 0,
      "outputs": []
    },
    {
      "metadata": {
        "id": "ZN85s-YqiFw_",
        "colab_type": "code",
        "colab": {}
      },
      "cell_type": "code",
      "source": [
        "chunk15 = get_game_dfs(games_urls[2100:2250])"
      ],
      "execution_count": 0,
      "outputs": []
    },
    {
      "metadata": {
        "id": "lL7puwtEiXj7",
        "colab_type": "code",
        "colab": {}
      },
      "cell_type": "code",
      "source": [
        "chunk16 = get_game_dfs(games_urls[2250:2400])"
      ],
      "execution_count": 0,
      "outputs": []
    },
    {
      "metadata": {
        "id": "OoDnPaONielh",
        "colab_type": "code",
        "colab": {}
      },
      "cell_type": "code",
      "source": [
        "chunk17 = get_game_dfs(games_urls[2400:2550])"
      ],
      "execution_count": 0,
      "outputs": []
    },
    {
      "metadata": {
        "id": "0odsMMy9ig7x",
        "colab_type": "code",
        "colab": {}
      },
      "cell_type": "code",
      "source": [
        "chunk18 = get_game_dfs(games_urls[2550:2700])"
      ],
      "execution_count": 0,
      "outputs": []
    },
    {
      "metadata": {
        "id": "OZ7YCTJYij0K",
        "colab_type": "code",
        "colab": {}
      },
      "cell_type": "code",
      "source": [
        "chunk19 = get_game_dfs(games_urls[2700:2850])"
      ],
      "execution_count": 0,
      "outputs": []
    },
    {
      "metadata": {
        "id": "7Kt7V4hril2J",
        "colab_type": "code",
        "colab": {}
      },
      "cell_type": "code",
      "source": [
        "chunk20 = get_game_dfs(games_urls[2850:3000])"
      ],
      "execution_count": 0,
      "outputs": []
    },
    {
      "metadata": {
        "id": "_UP2H34MioBu",
        "colab_type": "code",
        "colab": {}
      },
      "cell_type": "code",
      "source": [
        "chunk21 = get_game_dfs(games_urls[3000:3150])"
      ],
      "execution_count": 0,
      "outputs": []
    },
    {
      "metadata": {
        "id": "kzygQtcniulh",
        "colab_type": "code",
        "colab": {}
      },
      "cell_type": "code",
      "source": [
        "chunk22 = get_game_dfs(games_urls[3150:3300])"
      ],
      "execution_count": 0,
      "outputs": []
    },
    {
      "metadata": {
        "id": "2ThUfkfHiyFu",
        "colab_type": "code",
        "colab": {}
      },
      "cell_type": "code",
      "source": [
        "chunk23 = get_game_dfs(games_urls[3300:3450])"
      ],
      "execution_count": 0,
      "outputs": []
    },
    {
      "metadata": {
        "id": "x_K24WPvi1A8",
        "colab_type": "code",
        "colab": {}
      },
      "cell_type": "code",
      "source": [
        "chunk24 = get_game_dfs(games_urls[3450:3600])"
      ],
      "execution_count": 0,
      "outputs": []
    },
    {
      "metadata": {
        "id": "GTsNAoo0i2v7",
        "colab_type": "code",
        "colab": {}
      },
      "cell_type": "code",
      "source": [
        "chunk25 = get_game_dfs(games_urls[3600:3750])"
      ],
      "execution_count": 0,
      "outputs": []
    },
    {
      "metadata": {
        "id": "J9fUA-Kvi4ul",
        "colab_type": "code",
        "colab": {}
      },
      "cell_type": "code",
      "source": [
        "chunk26 = get_game_dfs(games_urls[3750:3900])"
      ],
      "execution_count": 0,
      "outputs": []
    },
    {
      "metadata": {
        "id": "ZgMVd2NQi66i",
        "colab_type": "code",
        "colab": {}
      },
      "cell_type": "code",
      "source": [
        "chunk27 = get_game_dfs(games_urls[3900:4050])"
      ],
      "execution_count": 0,
      "outputs": []
    },
    {
      "metadata": {
        "id": "AqMVEsK8j9md",
        "colab_type": "code",
        "colab": {}
      },
      "cell_type": "code",
      "source": [
        "chunk28 = get_game_dfs(games_urls[4050:4200])"
      ],
      "execution_count": 0,
      "outputs": []
    },
    {
      "metadata": {
        "id": "k_Owmxfyj_dy",
        "colab_type": "code",
        "colab": {}
      },
      "cell_type": "code",
      "source": [
        "chunk29 = get_game_dfs(games_urls[4200:4350])"
      ],
      "execution_count": 0,
      "outputs": []
    },
    {
      "metadata": {
        "id": "lveQYzzskCIk",
        "colab_type": "code",
        "colab": {}
      },
      "cell_type": "code",
      "source": [
        "chunk30 = get_game_dfs(games_urls[4350:4500])"
      ],
      "execution_count": 0,
      "outputs": []
    },
    {
      "metadata": {
        "id": "hMY-dxJIkDkT",
        "colab_type": "code",
        "colab": {}
      },
      "cell_type": "code",
      "source": [
        "chunk31 = get_game_dfs(games_urls[4500:4650])"
      ],
      "execution_count": 0,
      "outputs": []
    },
    {
      "metadata": {
        "id": "B5HV8bg7kGhE",
        "colab_type": "code",
        "colab": {}
      },
      "cell_type": "code",
      "source": [
        "chunk32 = get_game_dfs(games_urls[4650:4800])"
      ],
      "execution_count": 0,
      "outputs": []
    },
    {
      "metadata": {
        "id": "XV8zv7nVntAh",
        "colab_type": "code",
        "colab": {}
      },
      "cell_type": "code",
      "source": [
        "chunk33 = get_game_dfs(games_urls[4800:4950])"
      ],
      "execution_count": 0,
      "outputs": []
    },
    {
      "metadata": {
        "id": "8Rg2PfDJnuyT",
        "colab_type": "code",
        "colab": {}
      },
      "cell_type": "code",
      "source": [
        "chunk34 = get_game_dfs(games_urls[4950:5100])"
      ],
      "execution_count": 0,
      "outputs": []
    },
    {
      "metadata": {
        "id": "KQ_tQN9Fnwmp",
        "colab_type": "code",
        "colab": {}
      },
      "cell_type": "code",
      "source": [
        "chunk35 = get_game_dfs(games_urls[5100:5250])"
      ],
      "execution_count": 0,
      "outputs": []
    },
    {
      "metadata": {
        "id": "Y6wM9z3RnyIV",
        "colab_type": "code",
        "colab": {}
      },
      "cell_type": "code",
      "source": [
        "chunk36 = get_game_dfs(games_urls[5250:5400])"
      ],
      "execution_count": 0,
      "outputs": []
    },
    {
      "metadata": {
        "id": "M2K-iVa9n257",
        "colab_type": "code",
        "colab": {}
      },
      "cell_type": "code",
      "source": [
        "chunk37 = get_game_dfs(games_urls[5400:5550])"
      ],
      "execution_count": 0,
      "outputs": []
    },
    {
      "metadata": {
        "id": "GLEHkR2Gn4UN",
        "colab_type": "code",
        "colab": {}
      },
      "cell_type": "code",
      "source": [
        "chunk38 = get_game_dfs(games_urls[5550:5700])"
      ],
      "execution_count": 0,
      "outputs": []
    },
    {
      "metadata": {
        "id": "5lwgOalDn5cn",
        "colab_type": "code",
        "colab": {}
      },
      "cell_type": "code",
      "source": [
        "chunk39 = get_game_dfs(games_urls[5700:5850])"
      ],
      "execution_count": 0,
      "outputs": []
    },
    {
      "metadata": {
        "id": "StZBuoTun6xS",
        "colab_type": "code",
        "colab": {}
      },
      "cell_type": "code",
      "source": [
        "chunk40 = get_game_dfs(games_urls[5850:6000])"
      ],
      "execution_count": 0,
      "outputs": []
    },
    {
      "metadata": {
        "id": "EN3rUcO5o_yo",
        "colab_type": "code",
        "colab": {}
      },
      "cell_type": "code",
      "source": [
        "chunk41 = get_game_dfs(games_urls[6000:6150])"
      ],
      "execution_count": 0,
      "outputs": []
    },
    {
      "metadata": {
        "id": "AeGK888ppEwn",
        "colab_type": "code",
        "colab": {}
      },
      "cell_type": "code",
      "source": [
        "chunk42 = get_game_dfs(games_urls[6150:6300])"
      ],
      "execution_count": 0,
      "outputs": []
    },
    {
      "metadata": {
        "id": "GdXmU3E-pIK5",
        "colab_type": "code",
        "colab": {}
      },
      "cell_type": "code",
      "source": [
        "chunk43 = get_game_dfs(games_urls[6300:6450])"
      ],
      "execution_count": 0,
      "outputs": []
    },
    {
      "metadata": {
        "id": "Zm53I4J_pLj7",
        "colab_type": "code",
        "colab": {}
      },
      "cell_type": "code",
      "source": [
        "chunk44 = get_game_dfs(games_urls[6450:6600])"
      ],
      "execution_count": 0,
      "outputs": []
    },
    {
      "metadata": {
        "id": "9wpsbV_NpPB3",
        "colab_type": "code",
        "colab": {}
      },
      "cell_type": "code",
      "source": [
        "chunk45 = get_game_dfs(games_urls[6600:6750])"
      ],
      "execution_count": 0,
      "outputs": []
    },
    {
      "metadata": {
        "id": "r-_qQ8aWpZMv",
        "colab_type": "code",
        "colab": {}
      },
      "cell_type": "code",
      "source": [
        "chunk46 = get_game_dfs(games_urls[6750:6900])"
      ],
      "execution_count": 0,
      "outputs": []
    },
    {
      "metadata": {
        "id": "Og866cKHpgva",
        "colab_type": "code",
        "colab": {}
      },
      "cell_type": "code",
      "source": [
        "chunk47 = get_game_dfs(games_urls[6900:7050])"
      ],
      "execution_count": 0,
      "outputs": []
    },
    {
      "metadata": {
        "id": "UOyvGNqwplw8",
        "colab_type": "code",
        "colab": {}
      },
      "cell_type": "code",
      "source": [
        "chunk48 = get_game_dfs(games_urls[7050:7200])"
      ],
      "execution_count": 0,
      "outputs": []
    },
    {
      "metadata": {
        "id": "7Lbn12XlprDq",
        "colab_type": "code",
        "colab": {}
      },
      "cell_type": "code",
      "source": [
        "chunk49 = get_game_dfs(games_urls[7200:7300])"
      ],
      "execution_count": 0,
      "outputs": []
    },
    {
      "metadata": {
        "id": "-fx-B-tyS3XV",
        "colab_type": "code",
        "colab": {}
      },
      "cell_type": "code",
      "source": [
        "chunk50 = get_game_dfs(games_urls[7300:])"
      ],
      "execution_count": 0,
      "outputs": []
    },
    {
      "metadata": {
        "id": "5wK7KDWdqbGZ",
        "colab_type": "code",
        "colab": {}
      },
      "cell_type": "code",
      "source": [
        "df_list = [chunk1, chunk2, chunk3, chunk4, chunk5, chunk6, chunk7, chunk8, chunk9, \n",
        "           chunk10, chunk11, chunk12, chunk13, chunk14, chunk15, chunk16, chunk17, \n",
        "           chunk18, chunk19, chunk20, chunk21, chunk22, chunk23, chunk24, chunk25,\n",
        "           chunk26, chunk27, chunk28, chunk29, chunk30, chunk31, chunk32, chunk33,\n",
        "           chunk34, chunk35, chunk36, chunk37, chunk38, chunk39, chunk40, chunk41,\n",
        "           chunk42, chunk43, chunk44, chunk45, chunk46, chunk47, chunk48, chunk49,\n",
        "           chunk50]"
      ],
      "execution_count": 0,
      "outputs": []
    },
    {
      "metadata": {
        "id": "M08VXSqyuTRF",
        "colab_type": "code",
        "colab": {}
      },
      "cell_type": "code",
      "source": [
        "weather_df = pd.concat(df_list)"
      ],
      "execution_count": 0,
      "outputs": []
    },
    {
      "metadata": {
        "id": "eCUCHSCfUWmn",
        "colab_type": "code",
        "colab": {}
      },
      "cell_type": "code",
      "source": [
        "#might as well grab the data from the 4 missing games which had an extra table- \n",
        "#change teams to tables[4], venue data to tables[5], and headers and raw_data \n",
        "#in tables[6]\n",
        "\n",
        "bad_urls = ['https://www.profootballarchives.com/weather/1988nfl089.html', \n",
        "            'https://www.profootballarchives.com/weather/2002nfl158.html', \n",
        "            'https://www.profootballarchives.com/weather/1988nfl092.html', \n",
        "            'https://www.profootballarchives.com/weather/1988nfl097.html']\n",
        "\n",
        "games_dfs = []\n",
        "\n",
        "for url in bad_urls:\n",
        "  result = requests.get(url)\n",
        "  soup = bs4.BeautifulSoup(result.text)\n",
        "  tables = soup.find_all('table')\n",
        "  vs_flag = False\n",
        "  teams = tables[4].string.strip()\n",
        "  teams = teams.split(' at ')\n",
        "  #correct for entries where teams listed 'vs' instead of 'at'\n",
        "  if len(teams) == 1:\n",
        "    teams = teams[0].split(' vs ')\n",
        "    vs_flag = True\n",
        "  #correct for entries with vs plus a period:\n",
        "  if len(teams) == 1:\n",
        "    teams = teams[0].split(' vs. ')\n",
        "  \n",
        "  date, venue = tables[5].find_all('td')[0:2]\n",
        "  date = date.string.strip().split(' at ')\n",
        "  place = date[1]\n",
        "  date = date[0]\n",
        "  venue = venue.string.strip()\n",
        "\n",
        " \n",
        "  headers = tables[6].find_all('th')\n",
        "  cols = []\n",
        "  for header in headers:\n",
        "    cols.append(header.string.strip())\n",
        "    \n",
        "  raw = tables[6].find_all('td')[:40]\n",
        "  nums = [0,10,20,30,40]\n",
        "  game_data = []\n",
        "\n",
        "  for i in range(4):\n",
        "    row = raw[nums[i]:nums[i+1]]\n",
        "    row_data = []\n",
        "    for cell in row:\n",
        "      try:\n",
        "        row_data.append(cell.string.strip())\n",
        "      except:\n",
        "        row_data.append('--')\n",
        "    game_data.append(row_data)\n",
        "  game_df = pd.DataFrame(game_data, columns=cols)\n",
        "  if vs_flag:\n",
        "    try:\n",
        "      game_df['away'] = teams[1]\n",
        "      game_df['home'] = teams[0]\n",
        "    except:\n",
        "      print(game_url)\n",
        "  else:  \n",
        "    game_df['away'] = teams[0]\n",
        "    game_df['home'] = teams[1]\n",
        "    game_df['venue'] = venue\n",
        "    game_df['place'] = place\n",
        "    game_df['date'] = date\n",
        "  games_dfs.append(game_df)\n",
        "\n"
      ],
      "execution_count": 0,
      "outputs": []
    },
    {
      "metadata": {
        "id": "T-2hizgbZ99c",
        "colab_type": "code",
        "colab": {}
      },
      "cell_type": "code",
      "source": [
        "#combine with weather_df\n",
        "games_dfs.append(weather_df)\n",
        "weather_df = pd.concat(games_dfs)"
      ],
      "execution_count": 0,
      "outputs": []
    },
    {
      "metadata": {
        "id": "hZ5k5EQMT1Mv",
        "colab_type": "code",
        "colab": {}
      },
      "cell_type": "code",
      "source": [
        "#export to csv:\n",
        "weather_df.to_csv('weather_raw.csv')"
      ],
      "execution_count": 0,
      "outputs": []
    },
    {
      "metadata": {
        "id": "N0iIuPtjUVsp",
        "colab_type": "code",
        "colab": {}
      },
      "cell_type": "code",
      "source": [
        "#download the csv:\n",
        "from google.colab import files\n",
        "files.download('weather_raw.csv')"
      ],
      "execution_count": 0,
      "outputs": []
    }
  ]
}