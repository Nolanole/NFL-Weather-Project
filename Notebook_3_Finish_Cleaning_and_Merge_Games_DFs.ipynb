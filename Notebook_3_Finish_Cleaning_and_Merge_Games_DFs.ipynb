{
  "nbformat": 4,
  "nbformat_minor": 0,
  "metadata": {
    "colab": {
      "name": "Notebook 3 - Finish Cleaning and Merge Games DFs",
      "version": "0.3.2",
      "provenance": [],
      "include_colab_link": true
    },
    "kernelspec": {
      "name": "python3",
      "display_name": "Python 3"
    }
  },
  "cells": [
    {
      "cell_type": "markdown",
      "metadata": {
        "id": "view-in-github",
        "colab_type": "text"
      },
      "source": [
        "<a href=\"https://colab.research.google.com/github/Nolanole/NFL-Weather-Project/blob/master/Notebook_3_Finish_Cleaning_and_Merge_Games_DFs.ipynb\" target=\"_parent\"><img src=\"https://colab.research.google.com/assets/colab-badge.svg\" alt=\"Open In Colab\"/></a>"
      ]
    },
    {
      "metadata": {
        "id": "a2jdU_gA-eCq",
        "colab_type": "code",
        "colab": {}
      },
      "cell_type": "code",
      "source": [
        "import pandas as pd\n",
        "import numpy as np\n",
        "pd.set_option('display.max_rows', 500)\n",
        "pd.set_option('display.max_columns', 500)\n",
        "pd.set_option('display.width', 1000)"
      ],
      "execution_count": 0,
      "outputs": []
    },
    {
      "metadata": {
        "id": "rmtB8g_EVww_",
        "colab_type": "text"
      },
      "cell_type": "markdown",
      "source": [
        "OK so the weather data we have scraped so far only includes games that were played outdoors. In order to fully analyze the effects of weather, obviously we also need the data for games played in a Dome. I found another set of data for all games played, that also included the score for home and away teams. So we'll get that dataset into pandas df, merge with our weather data, do some more cleaning and wrangling and then it will be ready to merge with other data containing information abt player and team stats for each game played."
      ]
    },
    {
      "metadata": {
        "id": "V1QsXPpd_GOa",
        "colab_type": "code",
        "colab": {
          "base_uri": "https://localhost:8080/",
          "height": 198
        },
        "outputId": "ada30d47-53e4-40bc-9cf0-9d0c3bf5f1d4"
      },
      "cell_type": "code",
      "source": [
        "#First get the all_games data into csv and clean:\n",
        "\n",
        "all_games_url = 'https://raw.githubusercontent.com/Nolanole/NFL-Weather-Project/master/all_games.csv'\n",
        "all_games = pd.read_csv(all_games_url)\n",
        "all_games.head()"
      ],
      "execution_count": 5,
      "outputs": [
        {
          "output_type": "execute_result",
          "data": {
            "text/html": [
              "<div>\n",
              "<style scoped>\n",
              "    .dataframe tbody tr th:only-of-type {\n",
              "        vertical-align: middle;\n",
              "    }\n",
              "\n",
              "    .dataframe tbody tr th {\n",
              "        vertical-align: top;\n",
              "    }\n",
              "\n",
              "    .dataframe thead th {\n",
              "        text-align: right;\n",
              "    }\n",
              "</style>\n",
              "<table border=\"1\" class=\"dataframe\">\n",
              "  <thead>\n",
              "    <tr style=\"text-align: right;\">\n",
              "      <th></th>\n",
              "      <th>date</th>\n",
              "      <th>season_year</th>\n",
              "      <th>week</th>\n",
              "      <th>schedule_playoff</th>\n",
              "      <th>home</th>\n",
              "      <th>score_home</th>\n",
              "      <th>score_away</th>\n",
              "      <th>away</th>\n",
              "      <th>stadium</th>\n",
              "    </tr>\n",
              "  </thead>\n",
              "  <tbody>\n",
              "    <tr>\n",
              "      <th>0</th>\n",
              "      <td>9/7/1980</td>\n",
              "      <td>1980</td>\n",
              "      <td>1</td>\n",
              "      <td>False</td>\n",
              "      <td>Buffalo Bills</td>\n",
              "      <td>17</td>\n",
              "      <td>7</td>\n",
              "      <td>Miami Dolphins</td>\n",
              "      <td>Ralph Wilson Stadium</td>\n",
              "    </tr>\n",
              "    <tr>\n",
              "      <th>1</th>\n",
              "      <td>9/7/1980</td>\n",
              "      <td>1980</td>\n",
              "      <td>1</td>\n",
              "      <td>False</td>\n",
              "      <td>Cincinnati Bengals</td>\n",
              "      <td>12</td>\n",
              "      <td>17</td>\n",
              "      <td>Tampa Bay Buccaneers</td>\n",
              "      <td>Cinergy Field</td>\n",
              "    </tr>\n",
              "    <tr>\n",
              "      <th>2</th>\n",
              "      <td>9/7/1980</td>\n",
              "      <td>1980</td>\n",
              "      <td>1</td>\n",
              "      <td>False</td>\n",
              "      <td>Green Bay Packers</td>\n",
              "      <td>12</td>\n",
              "      <td>6</td>\n",
              "      <td>Chicago Bears</td>\n",
              "      <td>Lambeau Field</td>\n",
              "    </tr>\n",
              "    <tr>\n",
              "      <th>3</th>\n",
              "      <td>9/7/1980</td>\n",
              "      <td>1980</td>\n",
              "      <td>1</td>\n",
              "      <td>False</td>\n",
              "      <td>Kansas City Chiefs</td>\n",
              "      <td>14</td>\n",
              "      <td>27</td>\n",
              "      <td>Oakland Raiders</td>\n",
              "      <td>Arrowhead Stadium</td>\n",
              "    </tr>\n",
              "    <tr>\n",
              "      <th>4</th>\n",
              "      <td>9/7/1980</td>\n",
              "      <td>1980</td>\n",
              "      <td>1</td>\n",
              "      <td>False</td>\n",
              "      <td>Los Angeles Rams</td>\n",
              "      <td>20</td>\n",
              "      <td>41</td>\n",
              "      <td>Detroit Lions</td>\n",
              "      <td>Anaheim Stadium</td>\n",
              "    </tr>\n",
              "  </tbody>\n",
              "</table>\n",
              "</div>"
            ],
            "text/plain": [
              "       date  season_year week  schedule_playoff                home  score_home  score_away                  away               stadium\n",
              "0  9/7/1980         1980    1             False       Buffalo Bills          17           7        Miami Dolphins  Ralph Wilson Stadium\n",
              "1  9/7/1980         1980    1             False  Cincinnati Bengals          12          17  Tampa Bay Buccaneers         Cinergy Field\n",
              "2  9/7/1980         1980    1             False   Green Bay Packers          12           6         Chicago Bears         Lambeau Field\n",
              "3  9/7/1980         1980    1             False  Kansas City Chiefs          14          27       Oakland Raiders     Arrowhead Stadium\n",
              "4  9/7/1980         1980    1             False    Los Angeles Rams          20          41         Detroit Lions       Anaheim Stadium"
            ]
          },
          "metadata": {
            "tags": []
          },
          "execution_count": 5
        }
      ]
    },
    {
      "metadata": {
        "id": "EmNFiJD3_rX1",
        "colab_type": "code",
        "colab": {}
      },
      "cell_type": "code",
      "source": [
        "#drop season year col:\n",
        "all_games = all_games.drop(columns=['season_year', 'stadium', 'week', 'schedule_playoff'])"
      ],
      "execution_count": 0,
      "outputs": []
    },
    {
      "metadata": {
        "id": "CcuVsP5OEPnE",
        "colab_type": "code",
        "colab": {}
      },
      "cell_type": "code",
      "source": [
        "#first, convert date column to datetime obj, then remove games after 2018 super bowl to match the season from weather df\n",
        "all_games['date'] = pd.to_datetime(all_games['date'], infer_datetime_format=True)\n",
        "all_games = all_games.iloc[:9410]"
      ],
      "execution_count": 0,
      "outputs": []
    },
    {
      "metadata": {
        "id": "QMn5xn8NDU6i",
        "colab_type": "code",
        "colab": {}
      },
      "cell_type": "code",
      "source": [
        "#add gameid column- since this is all games, can just use the index + 1\n",
        "all_games['game_id'] = all_games.index + 1"
      ],
      "execution_count": 0,
      "outputs": []
    },
    {
      "metadata": {
        "id": "qXo526IK_qp0",
        "colab_type": "code",
        "colab": {
          "base_uri": "https://localhost:8080/",
          "height": 339
        },
        "outputId": "d6c049b9-289c-430e-b6ef-046db2dfc12f"
      },
      "cell_type": "code",
      "source": [
        "#Next grab the weather csv from Notebook 2 and finish cleaning:\n",
        "weather_games_url = 'https://raw.githubusercontent.com/Nolanole/NFL-Weather-Project/master/weather_cleaned.csv'\n",
        "weather_games = pd.read_csv(weather_games_url, usecols=range(1,16))\n",
        "weather_games.head()"
      ],
      "execution_count": 6,
      "outputs": [
        {
          "output_type": "execute_result",
          "data": {
            "text/html": [
              "<div>\n",
              "<style scoped>\n",
              "    .dataframe tbody tr th:only-of-type {\n",
              "        vertical-align: middle;\n",
              "    }\n",
              "\n",
              "    .dataframe tbody tr th {\n",
              "        vertical-align: top;\n",
              "    }\n",
              "\n",
              "    .dataframe thead th {\n",
              "        text-align: right;\n",
              "    }\n",
              "</style>\n",
              "<table border=\"1\" class=\"dataframe\">\n",
              "  <thead>\n",
              "    <tr style=\"text-align: right;\">\n",
              "      <th></th>\n",
              "      <th>away</th>\n",
              "      <th>home</th>\n",
              "      <th>place</th>\n",
              "      <th>date</th>\n",
              "      <th>stadium</th>\n",
              "      <th>fog_or_haze</th>\n",
              "      <th>avg_temp</th>\n",
              "      <th>avg_dewpoint</th>\n",
              "      <th>avg_humidity</th>\n",
              "      <th>avg_wind</th>\n",
              "      <th>max_windgust</th>\n",
              "      <th>windchill</th>\n",
              "      <th>windchill_gust</th>\n",
              "      <th>sky</th>\n",
              "      <th>precipitation</th>\n",
              "    </tr>\n",
              "  </thead>\n",
              "  <tbody>\n",
              "    <tr>\n",
              "      <th>0</th>\n",
              "      <td>Phoenix Cardinals</td>\n",
              "      <td>Washington Redskins</td>\n",
              "      <td>Washington, DC</td>\n",
              "      <td>1988-10-16</td>\n",
              "      <td>RFK Stadium</td>\n",
              "      <td>0</td>\n",
              "      <td>75.00</td>\n",
              "      <td>44.75</td>\n",
              "      <td>34.50</td>\n",
              "      <td>12.50</td>\n",
              "      <td>NaN</td>\n",
              "      <td>NaN</td>\n",
              "      <td>NaN</td>\n",
              "      <td>clear</td>\n",
              "      <td>None</td>\n",
              "    </tr>\n",
              "    <tr>\n",
              "      <th>1</th>\n",
              "      <td>Jacksonville Jaguars</td>\n",
              "      <td>Houston Texans</td>\n",
              "      <td>Houston, TX</td>\n",
              "      <td>2002-11-17</td>\n",
              "      <td>Reliant Stadium</td>\n",
              "      <td>0</td>\n",
              "      <td>66.25</td>\n",
              "      <td>38.50</td>\n",
              "      <td>36.00</td>\n",
              "      <td>10.00</td>\n",
              "      <td>NaN</td>\n",
              "      <td>NaN</td>\n",
              "      <td>NaN</td>\n",
              "      <td>clear</td>\n",
              "      <td>None</td>\n",
              "    </tr>\n",
              "    <tr>\n",
              "      <th>2</th>\n",
              "      <td>Cincinnati Bengals</td>\n",
              "      <td>New England Patriots</td>\n",
              "      <td>Foxborough, MA</td>\n",
              "      <td>1988-10-16</td>\n",
              "      <td>Sullivan Stadium</td>\n",
              "      <td>1</td>\n",
              "      <td>57.50</td>\n",
              "      <td>NaN</td>\n",
              "      <td>NaN</td>\n",
              "      <td>6.25</td>\n",
              "      <td>NaN</td>\n",
              "      <td>NaN</td>\n",
              "      <td>NaN</td>\n",
              "      <td>overcast/mostly cloudy</td>\n",
              "      <td>None</td>\n",
              "    </tr>\n",
              "    <tr>\n",
              "      <th>3</th>\n",
              "      <td>Atlanta Falcons</td>\n",
              "      <td>Denver Broncos</td>\n",
              "      <td>Denver, CO</td>\n",
              "      <td>1988-10-16</td>\n",
              "      <td>Mile High Stadium</td>\n",
              "      <td>0</td>\n",
              "      <td>75.00</td>\n",
              "      <td>34.00</td>\n",
              "      <td>22.50</td>\n",
              "      <td>22.25</td>\n",
              "      <td>40.0</td>\n",
              "      <td>NaN</td>\n",
              "      <td>NaN</td>\n",
              "      <td>overcast/mostly cloudy</td>\n",
              "      <td>None</td>\n",
              "    </tr>\n",
              "    <tr>\n",
              "      <th>4</th>\n",
              "      <td>Kansas City Chiefs</td>\n",
              "      <td>New England Patriots</td>\n",
              "      <td>Foxborough, MA</td>\n",
              "      <td>2017-09-07</td>\n",
              "      <td>Gillette Stadium</td>\n",
              "      <td>0</td>\n",
              "      <td>63.25</td>\n",
              "      <td>53.75</td>\n",
              "      <td>71.25</td>\n",
              "      <td>5.25</td>\n",
              "      <td>NaN</td>\n",
              "      <td>NaN</td>\n",
              "      <td>NaN</td>\n",
              "      <td>overcast/mostly cloudy</td>\n",
              "      <td>None</td>\n",
              "    </tr>\n",
              "  </tbody>\n",
              "</table>\n",
              "</div>"
            ],
            "text/plain": [
              "                   away                  home           place        date            stadium  fog_or_haze  avg_temp  avg_dewpoint  avg_humidity  avg_wind  max_windgust  windchill  windchill_gust                     sky precipitation\n",
              "0     Phoenix Cardinals   Washington Redskins  Washington, DC  1988-10-16        RFK Stadium            0     75.00         44.75         34.50     12.50           NaN        NaN             NaN                   clear          None\n",
              "1  Jacksonville Jaguars        Houston Texans     Houston, TX  2002-11-17    Reliant Stadium            0     66.25         38.50         36.00     10.00           NaN        NaN             NaN                   clear          None\n",
              "2    Cincinnati Bengals  New England Patriots  Foxborough, MA  1988-10-16   Sullivan Stadium            1     57.50           NaN           NaN      6.25           NaN        NaN             NaN  overcast/mostly cloudy          None\n",
              "3       Atlanta Falcons        Denver Broncos      Denver, CO  1988-10-16  Mile High Stadium            0     75.00         34.00         22.50     22.25          40.0        NaN             NaN  overcast/mostly cloudy          None\n",
              "4    Kansas City Chiefs  New England Patriots  Foxborough, MA  2017-09-07   Gillette Stadium            0     63.25         53.75         71.25      5.25           NaN        NaN             NaN  overcast/mostly cloudy          None"
            ]
          },
          "metadata": {
            "tags": []
          },
          "execution_count": 6
        }
      ]
    },
    {
      "metadata": {
        "id": "wygnXZ9XWy6s",
        "colab_type": "text"
      },
      "cell_type": "markdown",
      "source": [
        "Looks like when we exported to csv we didnt preserve datatypes f different features. "
      ]
    },
    {
      "metadata": {
        "id": "lXSH25lcHoPt",
        "colab_type": "code",
        "colab": {}
      },
      "cell_type": "code",
      "source": [
        "#convert date column to datetime obj:  \n",
        "weather_games['date'] = pd.to_datetime(weather_games['date'], infer_datetime_format=True)"
      ],
      "execution_count": 0,
      "outputs": []
    },
    {
      "metadata": {
        "id": "0KzV2-wTIThc",
        "colab_type": "code",
        "colab": {}
      },
      "cell_type": "code",
      "source": [
        "#categoricals: precipitation (first convert Nan to 'None', sky, \n",
        "weather_games['precipitation'] = weather_games['precipitation'].astype('category')\n",
        "weather_games['sky'] = weather_games['sky'].astype('category')"
      ],
      "execution_count": 0,
      "outputs": []
    },
    {
      "metadata": {
        "id": "NWISIk_1Mjpq",
        "colab_type": "code",
        "colab": {}
      },
      "cell_type": "code",
      "source": [
        "#clean some incorrect data:\n",
        "weather_games.at[6499, 'date'] = '1985-12-29'\n",
        "weather_games.at[2484, 'home'] = 'New York Giants'\n",
        "weather_games.at[2484, 'away'] = 'New Orleans Saints'\n",
        "weather_games.at[618, 'home'] = 'Denver Broncos'\n",
        "weather_games.at[618, 'away'] = 'Carolina Panthers'\n",
        "weather_games.at[2457, 'home'] = 'Indianapolis Colts'\n",
        "weather_games.at[2457, 'away'] = 'Chicago Bears'\n",
        "weather_games.at[2890, 'home'] = 'Philadelphia Eagles'\n",
        "weather_games.at[2890, 'away'] = 'New England Patriots'\n",
        "weather_games.at[5965, 'home'] = 'San Francisco 49ers'\n",
        "weather_games.at[5965, 'away'] = 'Cincinnati Bengals'\n",
        "weather_games.at[6882, 'home'] = 'Washington Redskins'\n",
        "weather_games.at[6882, 'away'] = 'Los Angeles Raiders'"
      ],
      "execution_count": 0,
      "outputs": []
    },
    {
      "metadata": {
        "id": "5xhb3GAscmUy",
        "colab_type": "code",
        "colab": {}
      },
      "cell_type": "code",
      "source": [
        "#merge all games and weather games:\n",
        "merged = pd.merge(all_games, weather_games, how='outer', on=['date', 'home', 'away'])"
      ],
      "execution_count": 0,
      "outputs": []
    },
    {
      "metadata": {
        "id": "91PumM_MedjA",
        "colab_type": "code",
        "colab": {}
      },
      "cell_type": "code",
      "source": [
        "#rows 9419-9452 were missing from all_games csv, so dont have a game_id:\n",
        "new_id = 9411\n",
        "for i in range(9419,9453,1):\n",
        "  merged.at[i, 'game_id'] = new_id\n",
        "  new_id += 1"
      ],
      "execution_count": 0,
      "outputs": []
    },
    {
      "metadata": {
        "id": "vodzwD6H5Ojz",
        "colab_type": "code",
        "colab": {}
      },
      "cell_type": "code",
      "source": [
        "#duplicates to drop and a few others: \n",
        "dup_indices = [1814, 6463, 1809, 5254, 590, 9415, 9416, 9417, 9418, 9453, 9454]\n",
        "merged = merged.drop(dup_indices)\n",
        "#missing weather data:\n",
        "missing_weather_rows = [1539, 1807,232, 1805, 6858, 6859, 6940, 7188, 7398,7650,8025,8259,8521]\n",
        "merged = merged.drop(missing_weather_rows)"
      ],
      "execution_count": 0,
      "outputs": []
    },
    {
      "metadata": {
        "id": "81Yax48t5HcD",
        "colab_type": "code",
        "colab": {}
      },
      "cell_type": "code",
      "source": [
        "#recast game_id as int\n",
        "merged['game_id'] = merged['game_id'].astype('int64')"
      ],
      "execution_count": 0,
      "outputs": []
    },
    {
      "metadata": {
        "id": "nZQ_HFfpAP5e",
        "colab_type": "code",
        "colab": {}
      },
      "cell_type": "code",
      "source": [
        "#find the 7 where sky is null but stadium isnt\n",
        "overcast = [466,2481,2542,2588]\n",
        "clear = [7996,8091,8727]\n",
        "for i in overcast:\n",
        "  merged.at[i, 'sky'] = 'overcast/mostly cloudy'\n",
        "for i in clear:\n",
        "  merged.at[i, 'sky'] = 'clear'"
      ],
      "execution_count": 0,
      "outputs": []
    },
    {
      "metadata": {
        "id": "vv43IjFx9VOe",
        "colab_type": "code",
        "colab": {}
      },
      "cell_type": "code",
      "source": [
        "#Fill NaNs for indoor stadium\n",
        "merged['stadium'] = merged['stadium'].fillna('dome')"
      ],
      "execution_count": 0,
      "outputs": []
    },
    {
      "metadata": {
        "id": "MoKSLU2CD0ip",
        "colab_type": "code",
        "colab": {}
      },
      "cell_type": "code",
      "source": [
        "#fill weather data for indoor stadiums:\n",
        "dome_indices = merged[merged.stadium == 'dome'].index\n",
        "for i in dome_indices:\n",
        "  merged.at[i, 'avg_temp'] = 70\n",
        "  merged.at[i, 'avg_humidity'] = 40\n",
        "  merged.at[i, 'precipitation'] = 'None'\n",
        "  merged.at[i, 'sky'] = 'clear'\n",
        "  merged.at[i, 'fog_or_haze'] = 0\n",
        "  merged.at[i, 'avg_wind'] = 0\n",
        "  merged.at[i, 'max_windgust'] = 0\n",
        "  "
      ],
      "execution_count": 0,
      "outputs": []
    },
    {
      "metadata": {
        "id": "7fTgPtY4IfBt",
        "colab_type": "code",
        "colab": {}
      },
      "cell_type": "code",
      "source": [
        "#drop place column:\n",
        "merged = merged.drop(columns='place')"
      ],
      "execution_count": 0,
      "outputs": []
    },
    {
      "metadata": {
        "id": "Gwo4WV6DJyC2",
        "colab_type": "code",
        "colab": {}
      },
      "cell_type": "code",
      "source": [
        "#reset_index\n",
        "merged = merged.reset_index(drop=True)"
      ],
      "execution_count": 0,
      "outputs": []
    },
    {
      "metadata": {
        "id": "tJnOpNsJW-mi",
        "colab_type": "text"
      },
      "cell_type": "markdown",
      "source": [
        "OK after debugging some issues with certain observations and doing a bit more cleaning/wrangling/reshaping, the complete set of games weather data is ready to be saved as csv and exported:"
      ]
    },
    {
      "metadata": {
        "id": "uANHObWzJSRK",
        "colab_type": "code",
        "colab": {}
      },
      "cell_type": "code",
      "source": [
        "#save and export:\n",
        "merged.to_csv('all_games_weather.csv')\n",
        "\n",
        "#download the csv:\n",
        "from google.colab import files\n",
        "files.download('all_games_weather.csv')"
      ],
      "execution_count": 0,
      "outputs": []
    }
  ]
}