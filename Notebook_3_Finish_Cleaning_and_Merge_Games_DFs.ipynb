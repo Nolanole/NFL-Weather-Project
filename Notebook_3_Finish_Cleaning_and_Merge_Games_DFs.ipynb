{
  "nbformat": 4,
  "nbformat_minor": 0,
  "metadata": {
    "colab": {
      "name": "Notebook 3 - Finish Cleaning and Merge Games DFs",
      "version": "0.3.2",
      "provenance": [],
      "include_colab_link": true
    },
    "kernelspec": {
      "name": "python3",
      "display_name": "Python 3"
    }
  },
  "cells": [
    {
      "cell_type": "markdown",
      "metadata": {
        "id": "view-in-github",
        "colab_type": "text"
      },
      "source": [
        "<a href=\"https://colab.research.google.com/github/Nolanole/NFL-Weather-Project/blob/master/Notebook_3_Finish_Cleaning_and_Merge_Games_DFs.ipynb\" target=\"_parent\"><img src=\"https://colab.research.google.com/assets/colab-badge.svg\" alt=\"Open In Colab\"/></a>"
      ]
    },
    {
      "metadata": {
        "id": "a2jdU_gA-eCq",
        "colab_type": "code",
        "colab": {}
      },
      "cell_type": "code",
      "source": [
        "import pandas as pd\n",
        "import numpy as np\n",
        "pd.set_option('display.max_rows', 500)\n",
        "pd.set_option('display.max_columns', 500)\n",
        "pd.set_option('display.width', 1000)"
      ],
      "execution_count": 0,
      "outputs": []
    },
    {
      "metadata": {
        "id": "V1QsXPpd_GOa",
        "colab_type": "code",
        "colab": {}
      },
      "cell_type": "code",
      "source": [
        "#First get the all_games data into csv and clean:\n",
        "all_games_url = 'https://raw.githubusercontent.com/Nolanole/NFL-Weather-Project/master/all_games.csv'\n",
        "all_games = pd.read_csv(all_games_url)"
      ],
      "execution_count": 0,
      "outputs": []
    },
    {
      "metadata": {
        "id": "EmNFiJD3_rX1",
        "colab_type": "code",
        "colab": {}
      },
      "cell_type": "code",
      "source": [
        "#drop season year col:\n",
        "all_games = all_games.drop(columns=['season_year', 'stadium', 'week', 'schedule_playoff'])"
      ],
      "execution_count": 0,
      "outputs": []
    },
    {
      "metadata": {
        "id": "CcuVsP5OEPnE",
        "colab_type": "code",
        "colab": {}
      },
      "cell_type": "code",
      "source": [
        "#first, convert date column to datetime obj, then remove games after 2018 super bowl to match the season from weather df\n",
        "all_games['date'] = pd.to_datetime(all_games['date'], infer_datetime_format=True)\n",
        "all_games = all_games.iloc[:9410]"
      ],
      "execution_count": 0,
      "outputs": []
    },
    {
      "metadata": {
        "id": "QMn5xn8NDU6i",
        "colab_type": "code",
        "colab": {}
      },
      "cell_type": "code",
      "source": [
        "#add gameid column- since this is all games, can just use the index + 1\n",
        "all_games['game_id'] = all_games.index + 1"
      ],
      "execution_count": 0,
      "outputs": []
    },
    {
      "metadata": {
        "id": "qXo526IK_qp0",
        "colab_type": "code",
        "colab": {}
      },
      "cell_type": "code",
      "source": [
        "#Next get the weather csv and finish cleaning:\n",
        "weather_games_url = 'https://raw.githubusercontent.com/Nolanole/NFL-Weather-Project/master/weather_cleaned.csv'\n",
        "weather_games = pd.read_csv(weather_games_url, usecols=range(1,16))"
      ],
      "execution_count": 0,
      "outputs": []
    },
    {
      "metadata": {
        "id": "lXSH25lcHoPt",
        "colab_type": "code",
        "colab": {}
      },
      "cell_type": "code",
      "source": [
        "#convert date column to datetime obj:  \n",
        "weather_games['date'] = pd.to_datetime(weather_games['date'], infer_datetime_format=True)"
      ],
      "execution_count": 0,
      "outputs": []
    },
    {
      "metadata": {
        "id": "0KzV2-wTIThc",
        "colab_type": "code",
        "colab": {}
      },
      "cell_type": "code",
      "source": [
        "#categoricals: precipitation (first convert Nan to 'None', sky, \n",
        "weather_games['precipitation'] = weather_games['precipitation'].astype('category')\n",
        "weather_games['sky'] = weather_games['sky'].astype('category')"
      ],
      "execution_count": 0,
      "outputs": []
    },
    {
      "metadata": {
        "id": "NWISIk_1Mjpq",
        "colab_type": "code",
        "colab": {}
      },
      "cell_type": "code",
      "source": [
        "#clean some incorrect data:\n",
        "weather_games.at[6499, 'date'] = '1985-12-29'\n",
        "weather_games.at[2484, 'home'] = 'New York Giants'\n",
        "weather_games.at[2484, 'away'] = 'New Orleans Saints'\n",
        "weather_games.at[618, 'home'] = 'Denver Broncos'\n",
        "weather_games.at[618, 'away'] = 'Carolina Panthers'\n",
        "weather_games.at[2457, 'home'] = 'Indianapolis Colts'\n",
        "weather_games.at[2457, 'away'] = 'Chicago Bears'\n",
        "weather_games.at[2890, 'home'] = 'Philadelphia Eagles'\n",
        "weather_games.at[2890, 'away'] = 'New England Patriots'\n",
        "weather_games.at[5965, 'home'] = 'San Francisco 49ers'\n",
        "weather_games.at[5965, 'away'] = 'Cincinnati Bengals'\n",
        "weather_games.at[6882, 'home'] = 'Washington Redskins'\n",
        "weather_games.at[6882, 'away'] = 'Los Angeles Raiders'"
      ],
      "execution_count": 0,
      "outputs": []
    },
    {
      "metadata": {
        "id": "5xhb3GAscmUy",
        "colab_type": "code",
        "colab": {}
      },
      "cell_type": "code",
      "source": [
        "#merge all games and weather games:\n",
        "merged = pd.merge(all_games, weather_games, how='outer', on=['date', 'home', 'away'])"
      ],
      "execution_count": 0,
      "outputs": []
    },
    {
      "metadata": {
        "id": "91PumM_MedjA",
        "colab_type": "code",
        "colab": {}
      },
      "cell_type": "code",
      "source": [
        "#rows 9419-9452 were missing from all_games csv, so dont have a game_id:\n",
        "new_id = 9411\n",
        "for i in range(9419,9453,1):\n",
        "  merged.at[i, 'game_id'] = new_id\n",
        "  new_id += 1"
      ],
      "execution_count": 0,
      "outputs": []
    },
    {
      "metadata": {
        "id": "vodzwD6H5Ojz",
        "colab_type": "code",
        "colab": {}
      },
      "cell_type": "code",
      "source": [
        "#duplicates to drop and a few others: \n",
        "dup_indices = [1814, 6463, 1809, 5254, 590, 9415, 9416, 9417, 9418, 9453, 9454]\n",
        "merged = merged.drop(dup_indices)\n",
        "#missing weather data:\n",
        "missing_weather_rows = [1539, 1807,232, 1805, 6858, 6859, 6940, 7188, 7398,7650,8025,8259,8521]\n",
        "merged = merged.drop(missing_weather_rows)"
      ],
      "execution_count": 0,
      "outputs": []
    },
    {
      "metadata": {
        "id": "81Yax48t5HcD",
        "colab_type": "code",
        "colab": {}
      },
      "cell_type": "code",
      "source": [
        "#recast game_id as int\n",
        "merged['game_id'] = merged['game_id'].astype('int64')"
      ],
      "execution_count": 0,
      "outputs": []
    },
    {
      "metadata": {
        "id": "nZQ_HFfpAP5e",
        "colab_type": "code",
        "colab": {}
      },
      "cell_type": "code",
      "source": [
        "#find the 7 where sky is null but stadium isnt\n",
        "overcast = [466,2481,2542,2588]\n",
        "clear = [7996,8091,8727]\n",
        "for i in overcast:\n",
        "  merged.at[i, 'sky'] = 'overcast/mostly cloudy'\n",
        "for i in clear:\n",
        "  merged.at[i, 'sky'] = 'clear'"
      ],
      "execution_count": 0,
      "outputs": []
    },
    {
      "metadata": {
        "id": "vv43IjFx9VOe",
        "colab_type": "code",
        "colab": {}
      },
      "cell_type": "code",
      "source": [
        "#Fill NaNs for indoor stadium\n",
        "merged['stadium'] = merged['stadium'].fillna('dome')"
      ],
      "execution_count": 0,
      "outputs": []
    },
    {
      "metadata": {
        "id": "MoKSLU2CD0ip",
        "colab_type": "code",
        "colab": {}
      },
      "cell_type": "code",
      "source": [
        "#fill weather data for indoor stadiums:\n",
        "dome_indices = merged[merged.stadium == 'dome'].index\n",
        "for i in dome_indices:\n",
        "  merged.at[i, 'avg_temp'] = 70\n",
        "  merged.at[i, 'avg_humidity'] = 40\n",
        "  merged.at[i, 'precipitation'] = 'None'\n",
        "  merged.at[i, 'sky'] = 'clear'\n",
        "  merged.at[i, 'fog_or_haze'] = 0\n",
        "  merged.at[i, 'avg_wind'] = 0\n",
        "  merged.at[i, 'max_windgust'] = 0\n",
        "  "
      ],
      "execution_count": 0,
      "outputs": []
    },
    {
      "metadata": {
        "id": "7fTgPtY4IfBt",
        "colab_type": "code",
        "colab": {}
      },
      "cell_type": "code",
      "source": [
        "#drop place column:\n",
        "merged = merged.drop(columns='place')"
      ],
      "execution_count": 0,
      "outputs": []
    },
    {
      "metadata": {
        "id": "Gwo4WV6DJyC2",
        "colab_type": "code",
        "colab": {}
      },
      "cell_type": "code",
      "source": [
        "#reset_index\n",
        "merged = merged.reset_index(drop=True)"
      ],
      "execution_count": 0,
      "outputs": []
    },
    {
      "metadata": {
        "id": "uANHObWzJSRK",
        "colab_type": "code",
        "colab": {}
      },
      "cell_type": "code",
      "source": [
        "#save and export:\n",
        "merged.to_csv('all_games_weather.csv')\n",
        "\n",
        "#download the csv:\n",
        "from google.colab import files\n",
        "files.download('all_games_weather.csv')"
      ],
      "execution_count": 0,
      "outputs": []
    }
  ]
}