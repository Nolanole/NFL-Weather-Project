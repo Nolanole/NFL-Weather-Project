{
  "nbformat": 4,
  "nbformat_minor": 0,
  "metadata": {
    "colab": {
      "name": "Notebook 2: Wrangle/Clean the Weather Data",
      "version": "0.3.2",
      "provenance": [],
      "collapsed_sections": [],
      "include_colab_link": true
    },
    "kernelspec": {
      "name": "python3",
      "display_name": "Python 3"
    }
  },
  "cells": [
    {
      "cell_type": "markdown",
      "metadata": {
        "id": "view-in-github",
        "colab_type": "text"
      },
      "source": [
        "<a href=\"https://colab.research.google.com/github/Nolanole/NFL-Weather-Project/blob/master/Notebook_2_Wrangle_Clean_the_Weather_Data.ipynb\" target=\"_parent\"><img src=\"https://colab.research.google.com/assets/colab-badge.svg\" alt=\"Open In Colab\"/></a>"
      ]
    },
    {
      "metadata": {
        "id": "n4yDi0pi3Lr-",
        "colab_type": "code",
        "colab": {}
      },
      "cell_type": "code",
      "source": [
        "import pandas as pd\n",
        "import numpy as np"
      ],
      "execution_count": 0,
      "outputs": []
    },
    {
      "metadata": {
        "id": "l1RjDqp53Re3",
        "colab_type": "code",
        "colab": {}
      },
      "cell_type": "code",
      "source": [
        "url = 'https://raw.githubusercontent.com/Nolanole/NFL-Weather-Project/master/weather_raw.csv'\n",
        "df = pd.read_csv('https://raw.githubusercontent.com/Nolanole/NFL-Weather-Project/master/weather_raw.csv', na_values='--')"
      ],
      "execution_count": 0,
      "outputs": []
    },
    {
      "metadata": {
        "id": "osmL3xqK4cpK",
        "colab_type": "code",
        "colab": {}
      },
      "cell_type": "code",
      "source": [
        "#clean the venue column and rename it as stadium\n",
        "df['stadium'] = df['venue'].apply(lambda x: x.split('Venue: ')[1])\n",
        "df = df.drop(columns=['Unnamed: 0', 'venue'])\n",
        "\n",
        "#convert date to datetime obj:\n",
        "df['date'] = pd.to_datetime(df['date'], infer_datetime_format=True)\n",
        "\n",
        "#make column for fog, drop fog from weather/precipitation\n",
        "df['fog_or_haze'] = df['Weather'].str.contains('fog|haze')\n",
        "df['fog_or_haze'] = df['fog_or_haze'].fillna(value=False)"
      ],
      "execution_count": 0,
      "outputs": []
    },
    {
      "metadata": {
        "id": "z5vSwLcEjrgz",
        "colab_type": "code",
        "colab": {}
      },
      "cell_type": "code",
      "source": [
        "#categorize skycover column into a few major categories for easier analysis\n",
        "\n",
        "sky_mapper = {'overcast':'overcast/mostly cloudy', 'mostly cloudy':'overcast/mostly cloudy', \n",
        "              'scattered clouds':'clear/cloudy mix', 'half cloudy':'clear/cloudy mix',\n",
        "              'cloudy':'overcast/mostly cloudy', 'partly cloudy':'clear/cloudy mix', \n",
        "              'mostly clear':'clear', 'more than half cloudy':'overcast/mostly cloudy',\n",
        "              'obscured':'clear/cloudy mix', 'haze':'clear/cloudy mix', \n",
        "              'Mostly cloudy':'overcast/mostly cloudy', 'mist':'clear/cloudy mix'}\n",
        "\n",
        "df['Skycover'] = df['Skycover'].replace(sky_mapper)\n",
        "df = df.rename(columns={'Skycover': 'sky'})"
      ],
      "execution_count": 0,
      "outputs": []
    },
    {
      "metadata": {
        "id": "Y8-AJ3B-lysd",
        "colab_type": "code",
        "colab": {}
      },
      "cell_type": "code",
      "source": [
        "#categorize weather column to be precipitation, and group into 5 main subgroups:\n",
        "\n",
        "df.Weather.value_counts().index\n",
        "weather_mapper = {'fog':np.nan, 'drizzle': 'light rain', 'mist':'light rain',\n",
        "                  'light drizzle':'light rain', 'rain':'rain/storm', 'thstrm, rain':'rain/storm', \n",
        "                  'heavy rain':'rain/storm', 'smoke haze':np.nan, 'thstrm':'rain/storm', \n",
        "                  'ice pellets':'light snow', 'light freezing rain':'light rain',\n",
        "                  'light freezing drizzle':'light rain', 'blowing snow':'snow', 'heavy snow':'snow', \n",
        "                  'snow flurries':'snow', 'fog, light snow':'light snow', 'fog, snow':'snow', \n",
        "                  'heavy fog':np.nan, 'snow grains':'light snow', 'light thstrm, rain':'light rain', \n",
        "                  'fog, rain, thstrm':'rain/storm', 'thstrm, hail':'rain/storm', 'lightning':np.nan,\n",
        "                  'light rain, snow':'light rain', 'light rain, lightning':'light rain', \n",
        "                  'lightning, thstrm':'rain/storm','light snow, fog':'light snow', \n",
        "                  'light rain, ice pellets':'light rain', 'haze':np.nan}\n",
        "\n",
        "df['Weather'] = df['Weather'].replace(weather_mapper)\n",
        "df = df.rename(columns={'Weather': 'precipitation'})"
      ],
      "execution_count": 0,
      "outputs": []
    },
    {
      "metadata": {
        "id": "q2U9ROs3N4bY",
        "colab_type": "code",
        "colab": {
          "base_uri": "https://localhost:8080/",
          "height": 322
        },
        "outputId": "e854dafe-58a6-46e0-ee95-f078207117a5"
      },
      "cell_type": "code",
      "source": [
        "df.head()"
      ],
      "execution_count": 10,
      "outputs": [
        {
          "output_type": "execute_result",
          "data": {
            "text/html": [
              "<div>\n",
              "<style scoped>\n",
              "    .dataframe tbody tr th:only-of-type {\n",
              "        vertical-align: middle;\n",
              "    }\n",
              "\n",
              "    .dataframe tbody tr th {\n",
              "        vertical-align: top;\n",
              "    }\n",
              "\n",
              "    .dataframe thead th {\n",
              "        text-align: right;\n",
              "    }\n",
              "</style>\n",
              "<table border=\"1\" class=\"dataframe\">\n",
              "  <thead>\n",
              "    <tr style=\"text-align: right;\">\n",
              "      <th></th>\n",
              "      <th>Hour</th>\n",
              "      <th>Temp</th>\n",
              "      <th>Dewpoint</th>\n",
              "      <th>Humidity</th>\n",
              "      <th>Wind Speed</th>\n",
              "      <th>Wind Gust</th>\n",
              "      <th>Windchill</th>\n",
              "      <th>Windchill Gust</th>\n",
              "      <th>sky</th>\n",
              "      <th>precipitation</th>\n",
              "      <th>away</th>\n",
              "      <th>home</th>\n",
              "      <th>place</th>\n",
              "      <th>date</th>\n",
              "      <th>stadium</th>\n",
              "      <th>fog_or_haze</th>\n",
              "    </tr>\n",
              "  </thead>\n",
              "  <tbody>\n",
              "    <tr>\n",
              "      <th>0</th>\n",
              "      <td>0</td>\n",
              "      <td>73.0</td>\n",
              "      <td>47.0</td>\n",
              "      <td>40.0</td>\n",
              "      <td>9.0</td>\n",
              "      <td>NaN</td>\n",
              "      <td>NaN</td>\n",
              "      <td>NaN</td>\n",
              "      <td>clear</td>\n",
              "      <td>NaN</td>\n",
              "      <td>Phoenix Cardinals</td>\n",
              "      <td>Washington Redskins</td>\n",
              "      <td>Washington, DC</td>\n",
              "      <td>1988-10-16</td>\n",
              "      <td>RFK Stadium</td>\n",
              "      <td>False</td>\n",
              "    </tr>\n",
              "    <tr>\n",
              "      <th>1</th>\n",
              "      <td>1</td>\n",
              "      <td>76.0</td>\n",
              "      <td>44.0</td>\n",
              "      <td>32.0</td>\n",
              "      <td>13.0</td>\n",
              "      <td>NaN</td>\n",
              "      <td>NaN</td>\n",
              "      <td>NaN</td>\n",
              "      <td>clear</td>\n",
              "      <td>NaN</td>\n",
              "      <td>Phoenix Cardinals</td>\n",
              "      <td>Washington Redskins</td>\n",
              "      <td>Washington, DC</td>\n",
              "      <td>1988-10-16</td>\n",
              "      <td>RFK Stadium</td>\n",
              "      <td>False</td>\n",
              "    </tr>\n",
              "    <tr>\n",
              "      <th>2</th>\n",
              "      <td>2</td>\n",
              "      <td>76.0</td>\n",
              "      <td>42.0</td>\n",
              "      <td>30.0</td>\n",
              "      <td>14.0</td>\n",
              "      <td>NaN</td>\n",
              "      <td>NaN</td>\n",
              "      <td>NaN</td>\n",
              "      <td>clear/cloudy mix</td>\n",
              "      <td>NaN</td>\n",
              "      <td>Phoenix Cardinals</td>\n",
              "      <td>Washington Redskins</td>\n",
              "      <td>Washington, DC</td>\n",
              "      <td>1988-10-16</td>\n",
              "      <td>RFK Stadium</td>\n",
              "      <td>False</td>\n",
              "    </tr>\n",
              "    <tr>\n",
              "      <th>3</th>\n",
              "      <td>3</td>\n",
              "      <td>75.0</td>\n",
              "      <td>46.0</td>\n",
              "      <td>36.0</td>\n",
              "      <td>14.0</td>\n",
              "      <td>NaN</td>\n",
              "      <td>NaN</td>\n",
              "      <td>NaN</td>\n",
              "      <td>clear/cloudy mix</td>\n",
              "      <td>NaN</td>\n",
              "      <td>Phoenix Cardinals</td>\n",
              "      <td>Washington Redskins</td>\n",
              "      <td>Washington, DC</td>\n",
              "      <td>1988-10-16</td>\n",
              "      <td>RFK Stadium</td>\n",
              "      <td>False</td>\n",
              "    </tr>\n",
              "    <tr>\n",
              "      <th>4</th>\n",
              "      <td>0</td>\n",
              "      <td>64.0</td>\n",
              "      <td>39.0</td>\n",
              "      <td>40.0</td>\n",
              "      <td>9.0</td>\n",
              "      <td>NaN</td>\n",
              "      <td>NaN</td>\n",
              "      <td>NaN</td>\n",
              "      <td>clear</td>\n",
              "      <td>NaN</td>\n",
              "      <td>Jacksonville Jaguars</td>\n",
              "      <td>Houston Texans</td>\n",
              "      <td>Houston, TX</td>\n",
              "      <td>2002-11-17</td>\n",
              "      <td>Reliant Stadium</td>\n",
              "      <td>False</td>\n",
              "    </tr>\n",
              "  </tbody>\n",
              "</table>\n",
              "</div>"
            ],
            "text/plain": [
              "   Hour  Temp  Dewpoint  Humidity  Wind Speed  Wind Gust  Windchill  \\\n",
              "0     0  73.0      47.0      40.0         9.0        NaN        NaN   \n",
              "1     1  76.0      44.0      32.0        13.0        NaN        NaN   \n",
              "2     2  76.0      42.0      30.0        14.0        NaN        NaN   \n",
              "3     3  75.0      46.0      36.0        14.0        NaN        NaN   \n",
              "4     0  64.0      39.0      40.0         9.0        NaN        NaN   \n",
              "\n",
              "   Windchill Gust               sky precipitation                  away  \\\n",
              "0             NaN             clear           NaN     Phoenix Cardinals   \n",
              "1             NaN             clear           NaN     Phoenix Cardinals   \n",
              "2             NaN  clear/cloudy mix           NaN     Phoenix Cardinals   \n",
              "3             NaN  clear/cloudy mix           NaN     Phoenix Cardinals   \n",
              "4             NaN             clear           NaN  Jacksonville Jaguars   \n",
              "\n",
              "                  home           place       date          stadium  \\\n",
              "0  Washington Redskins  Washington, DC 1988-10-16      RFK Stadium   \n",
              "1  Washington Redskins  Washington, DC 1988-10-16      RFK Stadium   \n",
              "2  Washington Redskins  Washington, DC 1988-10-16      RFK Stadium   \n",
              "3  Washington Redskins  Washington, DC 1988-10-16      RFK Stadium   \n",
              "4       Houston Texans     Houston, TX 2002-11-17  Reliant Stadium   \n",
              "\n",
              "   fog_or_haze  \n",
              "0        False  \n",
              "1        False  \n",
              "2        False  \n",
              "3        False  \n",
              "4        False  "
            ]
          },
          "metadata": {
            "tags": []
          },
          "execution_count": 10
        }
      ]
    },
    {
      "metadata": {
        "id": "oqjJwwKrNE6P",
        "colab_type": "text"
      },
      "cell_type": "markdown",
      "source": [
        "Because the weather data has 4 rows for each game, and weather data for hour 0, 1, 2, and 3, I wasnt interested in analyzing the games quarter by quarter, so I wanted to group each single game into just one row in the dataframe, instead of 4. For temperature, wind, dewpoint and humidity data, i took the mean of the 4 rows so the data would represent the overall average during that game. For windgust, i took the maximum for each game, and for windchill and windchill gust, grabbed the minimum (lowest windchill temps).\n",
        "\n",
        "When I tried to iterate over the entire dataframe, the notebook kept crashing. So i decided to make a function to iterate over the datframe piece by piece: The function takes a start and stop argument to use as the start and end point for where in the dataframe index to start combining the 4 game rows into single rows. "
      ]
    },
    {
      "metadata": {
        "id": "xPq4apC8dOv7",
        "colab_type": "code",
        "colab": {}
      },
      "cell_type": "code",
      "source": [
        "def get_chunk(start,stop):\n",
        "  '''function which iterates over the datframe and combine the 4 rows for each game \n",
        "  into a single row with the weather data and other desired features. Returns a list \n",
        "  of dataframe row observations, each representing the weather data for one NFL game'''\n",
        "  \n",
        "  cols_to_keep = ['away', 'home', 'place', 'date', 'stadium', 'fog_or_haze']\n",
        "  games = []\n",
        "  for i in range(start, stop, 4):\n",
        "    game = df.iloc[i:i+4]\n",
        "    game_mean_temp = game['Temp'].mean()\n",
        "    game_mean_dewpoint = game['Dewpoint'].mean()\n",
        "    game_mean_humidity = game['Humidity'].mean()\n",
        "    game_mean_wind = game['Wind Speed'].mean()\n",
        "    game_max_windgust = game['Wind Gust'].max()\n",
        "    game_min_windchill = game['Windchill'].min()\n",
        "    game_min_windchillgust = game['Windchill Gust'].min()\n",
        "    game_fog_or_haze = game['fog_or_haze'].value_counts().index[0]\n",
        "  \n",
        "    try:\n",
        "      game_sky = game['sky'].value_counts().index[0]\n",
        "    except:\n",
        "      game_sky = np.nan\n",
        "  \n",
        "    #only count precipitation if lasted for more than 1 quarter\n",
        "    try:\n",
        "      if game['precipitation'].value_counts()[0] > 1:\n",
        "        game_precipitation = game['precipitation'].value_counts().index[0]\n",
        "      else:\n",
        "        game_precipitation = np.nan\n",
        "    except:\n",
        "      game_precipitation = np.nan\n",
        "    \n",
        "    game_df = game[cols_to_keep]\n",
        "    game_df['avg_temp'] = game_mean_temp\n",
        "    game_df['avg_dewpoint'] = game_mean_dewpoint\n",
        "    game_df['avg_humidity'] = game_mean_humidity\n",
        "    game_df['avg_wind'] = game_mean_wind\n",
        "    game_df['max_windgust'] = game_max_windgust\n",
        "    game_df['windchill'] = game_min_windchill\n",
        "    game_df['windchill_gust'] = game_min_windchillgust\n",
        "    game_df['sky'] = game_sky\n",
        "    game_df['precipitation'] = game_precipitation\n",
        "    game_df['fog_or_haze'] = game_fog_or_haze\n",
        "    games.append(game_df.iloc[0,:])\n",
        "  return games\n",
        "\n"
      ],
      "execution_count": 0,
      "outputs": []
    },
    {
      "metadata": {
        "id": "DfQo3VrfGMIc",
        "colab_type": "code",
        "colab": {}
      },
      "cell_type": "code",
      "source": [
        "games1 = get_chunk(0,7500)"
      ],
      "execution_count": 0,
      "outputs": []
    },
    {
      "metadata": {
        "id": "ux0GZ-AP8Jtg",
        "colab_type": "code",
        "colab": {}
      },
      "cell_type": "code",
      "source": [
        "#reshape and concatenate each list of rows from a series toa combined dataframe:\n",
        "\n",
        "chunk1 = pd.concat(games1, axis=1).T.reset_index().drop(columns=['index'])"
      ],
      "execution_count": 0,
      "outputs": []
    },
    {
      "metadata": {
        "id": "8HuYypHIObwY",
        "colab_type": "code",
        "colab": {}
      },
      "cell_type": "code",
      "source": [
        "games2 = get_chunk(7500, 15000)"
      ],
      "execution_count": 0,
      "outputs": []
    },
    {
      "metadata": {
        "id": "Vmg19Kx-Qp3J",
        "colab_type": "code",
        "colab": {}
      },
      "cell_type": "code",
      "source": [
        "chunk2 = pd.concat(games2, axis=1).T.reset_index().drop(columns=['index'])"
      ],
      "execution_count": 0,
      "outputs": []
    },
    {
      "metadata": {
        "id": "92bTJ-mUOhto",
        "colab_type": "code",
        "colab": {}
      },
      "cell_type": "code",
      "source": [
        "games3 = get_chunk(15000, 22500)"
      ],
      "execution_count": 0,
      "outputs": []
    },
    {
      "metadata": {
        "id": "8QR78mGdO3F-",
        "colab_type": "code",
        "colab": {}
      },
      "cell_type": "code",
      "source": [
        "chunk3 = pd.concat(games3, axis=1).T.reset_index().drop(columns=['index'])"
      ],
      "execution_count": 0,
      "outputs": []
    },
    {
      "metadata": {
        "id": "2SjPMz8nhpEb",
        "colab_type": "code",
        "colab": {}
      },
      "cell_type": "code",
      "source": [
        "games4 = get_chunk(22500, 29596)"
      ],
      "execution_count": 0,
      "outputs": []
    },
    {
      "metadata": {
        "id": "H6cWgU58hzDl",
        "colab_type": "code",
        "colab": {}
      },
      "cell_type": "code",
      "source": [
        "chunk4 = pd.concat(games4, axis=1).T.reset_index().drop(columns=['index'])"
      ],
      "execution_count": 0,
      "outputs": []
    },
    {
      "metadata": {
        "id": "m8uBEXVch50y",
        "colab_type": "code",
        "colab": {}
      },
      "cell_type": "code",
      "source": [
        "combined = pd.concat([chunk1, chunk2, chunk3, chunk4])"
      ],
      "execution_count": 0,
      "outputs": []
    },
    {
      "metadata": {
        "id": "ym5TxJXZ4P_G",
        "colab_type": "code",
        "colab": {}
      },
      "cell_type": "code",
      "source": [
        "#convert fog_or_haze to 0/1 instead of true/false:\n",
        "combined['fog_or_haze'] = combined['fog_or_haze'].replace({True:1, False:0}) "
      ],
      "execution_count": 0,
      "outputs": []
    },
    {
      "metadata": {
        "id": "WFwpYZgH4X-Y",
        "colab_type": "code",
        "colab": {}
      },
      "cell_type": "code",
      "source": [
        "#convert numeric columns to floats:\n",
        "numeric_cols = ['avg_temp', 'avg_dewpoint', 'avg_humidity', 'avg_wind', 'max_windgust', 'windchill', 'windchill_gust']\n",
        "combined[numeric_cols] = combined[numeric_cols].astype('float64')"
      ],
      "execution_count": 0,
      "outputs": []
    },
    {
      "metadata": {
        "id": "7m63Ntyh5U_o",
        "colab_type": "code",
        "colab": {}
      },
      "cell_type": "code",
      "source": [
        "#cleans some nulls:\n",
        "combined['avg_wind'] = combined['avg_wind'].fillna(0)"
      ],
      "execution_count": 0,
      "outputs": []
    },
    {
      "metadata": {
        "id": "8T7qoK1Y9Di5",
        "colab_type": "code",
        "colab": {}
      },
      "cell_type": "code",
      "source": [
        "#reset the index:\n",
        "combined = combined.reset_index(drop=True)"
      ],
      "execution_count": 0,
      "outputs": []
    },
    {
      "metadata": {
        "id": "nD1bHbxN6NUo",
        "colab_type": "code",
        "colab": {}
      },
      "cell_type": "code",
      "source": [
        "#export and download the csv:\n",
        "combined.to_csv('weather_cleaned.csv')\n",
        "\n",
        "#download the csv:\n",
        "from google.colab import files\n",
        "files.download('weather_cleaned.csv')"
      ],
      "execution_count": 0,
      "outputs": []
    }
  ]
}