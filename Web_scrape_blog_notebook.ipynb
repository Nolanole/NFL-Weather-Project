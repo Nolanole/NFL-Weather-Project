{
  "nbformat": 4,
  "nbformat_minor": 0,
  "metadata": {
    "colab": {
      "name": "Web scrape blog notebook",
      "version": "0.3.2",
      "provenance": [],
      "include_colab_link": true
    },
    "kernelspec": {
      "name": "python3",
      "display_name": "Python 3"
    }
  },
  "cells": [
    {
      "cell_type": "markdown",
      "metadata": {
        "id": "view-in-github",
        "colab_type": "text"
      },
      "source": [
        "<a href=\"https://colab.research.google.com/github/Nolanole/NFL-Weather-Project/blob/master/Web_scrape_blog_notebook.ipynb\" target=\"_parent\"><img src=\"https://colab.research.google.com/assets/colab-badge.svg\" alt=\"Open In Colab\"/></a>"
      ]
    },
    {
      "metadata": {
        "id": "DkOZAC7O0HpL",
        "colab_type": "code",
        "colab": {}
      },
      "cell_type": "code",
      "source": [
        "#imports\n",
        "import pandas as pd\n",
        "import bs4\n",
        "import requests\n",
        "\n",
        "url = 'https://www.profootballarchives.com/weather/2016nfl295.html'\n",
        "result = requests.get(url)\n",
        "soup = bs4.BeautifulSoup(result.text)"
      ],
      "execution_count": 0,
      "outputs": []
    },
    {
      "metadata": {
        "id": "_Ikh9MJm0gjW",
        "colab_type": "code",
        "colab": {
          "base_uri": "https://localhost:8080/",
          "height": 74
        },
        "outputId": "ce29a81f-779a-4221-83cd-63bda1242ae2"
      },
      "cell_type": "code",
      "source": [
        "soup"
      ],
      "execution_count": 2,
      "outputs": [
        {
          "output_type": "execute_result",
          "data": {
            "text/plain": [
              "<!DOCTYPE html>\n",
              "<html><head><link href=\"rwd.css\" rel=\"stylesheet\" type=\"text/css\"/><meta content=\"December 24, 2016 - Minnesota Vikings at Green Bay Packers game weather.\" name=\"description\"/><meta content=\"national football league, stats, statistics, reference, history, database, records, pfr\" name=\"keywords\"/><meta content=\"text/html; charset=utf-8\" http-equiv=\"content-type\"/><meta content=\"5/30/2018\" name=\"date\"/><meta content=\"width=device-width, initial-scale=1.0\" name=\"viewport\"/><title>Game Weather - December 24, 2016 - Minnesota Vikings at Green Bay Packers - The Pro Football Archives</title><script type=\"text/javascript\">    var _gaq = _gaq || [];   _gaq.push(['_setAccount', 'UA-33205774-1']);   _gaq.push(['_trackPageview']);    (function() {     var ga = document.createElement('script'); ga.type = 'text/javascript'; ga.async = true;     ga.src = ('https:' == document.location.protocol ? 'https://ssl' : 'http://www') + '.google-analytics.com/ga.js';     var s = document.getElementsByTagName('script')[0]; s.parentNode.insertBefore(ga, s);   })();  </script></head><body><div id=\"logo\"><table><tr><td style=\"text-align:center\"><img src=\"pfalogo.gif\"/></td></tr></table></div><div id=\"logo\"><script>   (function() {     var cx = '013060097628390045023:WMX-1913805990';     var gcse = document.createElement('script');     gcse.type = 'text/javascript';     gcse.async = true;     gcse.src = (document.location.protocol == 'https:' ? 'https:' : 'http:') +         '//www.google.com/cse/cse.js?cx=' + cx;     var s = document.getElementsByTagName('script')[0];     s.parentNode.insertBefore(gcse, s);   })(); </script><gcse:search></gcse:search> <style type=\"text/css\">  input.gsc-input     border-color: #BCCDF0;  }  input.gsc-search-button {    border-color: #CECECE;    background-color: #E9E9E9;  }    td.gsc-clear-button  { display: none !important; }  </style></div><div id=\"menu\"><table><tr><th><a class=\"links\" href=\"/index.html\">Home</a></th><th><a class=\"links\" href=\"/teams.html\">Teams</a></th><th><a class=\"links\" href=\"/nflplayers.html\">Players</a></th><th><a class=\"links\" href=\"/coaches.html\">Coaches</a></th></tr><tr><th><a class=\"links\" href=\"/drafts.html\">Drafts</a></th><th><a class=\"links\" href=\"/awards.html\">Awards</a></th><th><a class=\"links\" href=\"/nflleaderboards.html\">Leaders</a></th><th><a class=\"links\" href=\"mailto:pfarchives@comcast.net\">Email</a></th></tr></table></div><div id=\"books\"><table><tr><td style=\"text-align:center\"><a href=\"weather-faq.html\" target=\"_blank\">Weather Key and FAQ</a></td></tr></table></div><div id=\"team\"><table><tr><td><b>Minnesota Vikings at Green Bay Packers</b></td></tr></table></div><div id=\"coaches\"><table><tr><td>December 24, 2016 at Green Bay, WI</td></tr><tr><td>Venue: Lambeau Field</td></tr><tr><td>Weather Station: Green Bay Austin Straubel (WI) (3.98 miles)</td></tr></table></div><div id=\"stats\"><table><tr><th style=\"text-align:left\">Hour</th><th style=\"text-align:right\">Temp</th><th style=\"text-align:right\">Dewpoint</th><th style=\"text-align:right\">Humidity</th><th style=\"text-align:right\">Wind Speed</th><th style=\"text-align:right\">Wind Gust</th><th style=\"text-align:right\">Windchill</th><th style=\"text-align:right\">Windchill Gust</th><th style=\"text-align:left\">Skycover</th><th style=\"text-align:left\">Weather</th></tr><tr><td style=\"text-align:left\">0</td><td style=\"text-align:right\">38</td><td style=\"text-align:right\">31</td><td style=\"text-align:right\">76</td><td style=\"text-align:right\">8</td><td style=\"text-align:right\"></td><td style=\"text-align:right\">32</td><td style=\"text-align:right\"></td><td style=\"text-align:left\">clear</td><td style=\"text-align:left\">--</td></tr><tr><td style=\"text-align:left\">1</td><td style=\"text-align:right\">37</td><td style=\"text-align:right\">31</td><td style=\"text-align:right\">79</td><td style=\"text-align:right\">9</td><td style=\"text-align:right\"></td><td style=\"text-align:right\">30</td><td style=\"text-align:right\"></td><td style=\"text-align:left\">clear</td><td style=\"text-align:left\">--</td></tr><tr><td style=\"text-align:left\">2</td><td style=\"text-align:right\">38</td><td style=\"text-align:right\">31</td><td style=\"text-align:right\">76</td><td style=\"text-align:right\">6</td><td style=\"text-align:right\"></td><td style=\"text-align:right\">33</td><td style=\"text-align:right\"></td><td style=\"text-align:left\">clear</td><td style=\"text-align:left\">--</td></tr><tr><td style=\"text-align:left\">3</td><td style=\"text-align:right\">38</td><td style=\"text-align:right\">31</td><td style=\"text-align:right\">76</td><td style=\"text-align:right\">5</td><td style=\"text-align:right\"></td><td style=\"text-align:right\">34</td><td style=\"text-align:right\"></td><td style=\"text-align:left\">clear</td><td style=\"text-align:left\">--</td></tr><tr><td style=\"text-align:left\">MIN</td><td style=\"text-align:right\">37</td><td style=\"text-align:right\">31</td><td style=\"text-align:right\">76</td><td style=\"text-align:right\">5</td><td style=\"text-align:right\"></td><td style=\"text-align:right\">30</td><td style=\"text-align:right\"></td><td style=\"text-align:left\"></td><td style=\"text-align:left\"></td></tr><tr><td style=\"text-align:left\">MAX</td><td style=\"text-align:right\">38</td><td style=\"text-align:right\">31</td><td style=\"text-align:right\">79</td><td style=\"text-align:right\">9</td><td style=\"text-align:right\"></td><td style=\"text-align:right\"></td><td style=\"text-align:right\"></td><td style=\"text-align:left\"></td><td style=\"text-align:left\"></td></tr></table></div><div id=\"copy\"><table><tr><td><a class=\"footer\" href=\"/trainingcamps.html\">NFL Training Camps</a> • <a class=\"footer\" href=\"/nflrosterlimits.html\">NFL Roster Limits</a></td></tr><tr><td><a class=\"footer\" href=\"/acks.html\">Acknowledgements</a> • <a class=\"footer\" href=\"/privacy.html\">Privacy Policy</a></td></tr><tr><td>©2006-2018 The Pro Football Archives. All Rights Reserved.</td></tr></table></div></body></html> "
            ]
          },
          "metadata": {
            "tags": []
          },
          "execution_count": 2
        }
      ]
    },
    {
      "metadata": {
        "id": "HfA9JWIP0l8J",
        "colab_type": "code",
        "colab": {
          "base_uri": "https://localhost:8080/",
          "height": 165
        },
        "outputId": "eaefc2b8-17d5-431a-9088-104aba3b67a9"
      },
      "cell_type": "code",
      "source": [
        "tables = soup.find_all('table')\n",
        "tables"
      ],
      "execution_count": 3,
      "outputs": [
        {
          "output_type": "execute_result",
          "data": {
            "text/plain": [
              "[<table><tr><td style=\"text-align:center\"><img src=\"pfalogo.gif\"/></td></tr></table>,\n",
              " <table><tr><th><a class=\"links\" href=\"/index.html\">Home</a></th><th><a class=\"links\" href=\"/teams.html\">Teams</a></th><th><a class=\"links\" href=\"/nflplayers.html\">Players</a></th><th><a class=\"links\" href=\"/coaches.html\">Coaches</a></th></tr><tr><th><a class=\"links\" href=\"/drafts.html\">Drafts</a></th><th><a class=\"links\" href=\"/awards.html\">Awards</a></th><th><a class=\"links\" href=\"/nflleaderboards.html\">Leaders</a></th><th><a class=\"links\" href=\"mailto:pfarchives@comcast.net\">Email</a></th></tr></table>,\n",
              " <table><tr><td style=\"text-align:center\"><a href=\"weather-faq.html\" target=\"_blank\">Weather Key and FAQ</a></td></tr></table>,\n",
              " <table><tr><td><b>Minnesota Vikings at Green Bay Packers</b></td></tr></table>,\n",
              " <table><tr><td>December 24, 2016 at Green Bay, WI</td></tr><tr><td>Venue: Lambeau Field</td></tr><tr><td>Weather Station: Green Bay Austin Straubel (WI) (3.98 miles)</td></tr></table>,\n",
              " <table><tr><th style=\"text-align:left\">Hour</th><th style=\"text-align:right\">Temp</th><th style=\"text-align:right\">Dewpoint</th><th style=\"text-align:right\">Humidity</th><th style=\"text-align:right\">Wind Speed</th><th style=\"text-align:right\">Wind Gust</th><th style=\"text-align:right\">Windchill</th><th style=\"text-align:right\">Windchill Gust</th><th style=\"text-align:left\">Skycover</th><th style=\"text-align:left\">Weather</th></tr><tr><td style=\"text-align:left\">0</td><td style=\"text-align:right\">38</td><td style=\"text-align:right\">31</td><td style=\"text-align:right\">76</td><td style=\"text-align:right\">8</td><td style=\"text-align:right\"></td><td style=\"text-align:right\">32</td><td style=\"text-align:right\"></td><td style=\"text-align:left\">clear</td><td style=\"text-align:left\">--</td></tr><tr><td style=\"text-align:left\">1</td><td style=\"text-align:right\">37</td><td style=\"text-align:right\">31</td><td style=\"text-align:right\">79</td><td style=\"text-align:right\">9</td><td style=\"text-align:right\"></td><td style=\"text-align:right\">30</td><td style=\"text-align:right\"></td><td style=\"text-align:left\">clear</td><td style=\"text-align:left\">--</td></tr><tr><td style=\"text-align:left\">2</td><td style=\"text-align:right\">38</td><td style=\"text-align:right\">31</td><td style=\"text-align:right\">76</td><td style=\"text-align:right\">6</td><td style=\"text-align:right\"></td><td style=\"text-align:right\">33</td><td style=\"text-align:right\"></td><td style=\"text-align:left\">clear</td><td style=\"text-align:left\">--</td></tr><tr><td style=\"text-align:left\">3</td><td style=\"text-align:right\">38</td><td style=\"text-align:right\">31</td><td style=\"text-align:right\">76</td><td style=\"text-align:right\">5</td><td style=\"text-align:right\"></td><td style=\"text-align:right\">34</td><td style=\"text-align:right\"></td><td style=\"text-align:left\">clear</td><td style=\"text-align:left\">--</td></tr><tr><td style=\"text-align:left\">MIN</td><td style=\"text-align:right\">37</td><td style=\"text-align:right\">31</td><td style=\"text-align:right\">76</td><td style=\"text-align:right\">5</td><td style=\"text-align:right\"></td><td style=\"text-align:right\">30</td><td style=\"text-align:right\"></td><td style=\"text-align:left\"></td><td style=\"text-align:left\"></td></tr><tr><td style=\"text-align:left\">MAX</td><td style=\"text-align:right\">38</td><td style=\"text-align:right\">31</td><td style=\"text-align:right\">79</td><td style=\"text-align:right\">9</td><td style=\"text-align:right\"></td><td style=\"text-align:right\"></td><td style=\"text-align:right\"></td><td style=\"text-align:left\"></td><td style=\"text-align:left\"></td></tr></table>,\n",
              " <table><tr><td><a class=\"footer\" href=\"/trainingcamps.html\">NFL Training Camps</a> • <a class=\"footer\" href=\"/nflrosterlimits.html\">NFL Roster Limits</a></td></tr><tr><td><a class=\"footer\" href=\"/acks.html\">Acknowledgements</a> • <a class=\"footer\" href=\"/privacy.html\">Privacy Policy</a></td></tr><tr><td>©2006-2018 The Pro Football Archives. All Rights Reserved.</td></tr></table>]"
            ]
          },
          "metadata": {
            "tags": []
          },
          "execution_count": 3
        }
      ]
    },
    {
      "metadata": {
        "id": "7qTGiZVy2TIQ",
        "colab_type": "code",
        "colab": {
          "base_uri": "https://localhost:8080/",
          "height": 35
        },
        "outputId": "20aa2a50-4e6f-402f-ce1c-a27d253a3d52"
      },
      "cell_type": "code",
      "source": [
        "type(tables)"
      ],
      "execution_count": 4,
      "outputs": [
        {
          "output_type": "execute_result",
          "data": {
            "text/plain": [
              "bs4.element.ResultSet"
            ]
          },
          "metadata": {
            "tags": []
          },
          "execution_count": 4
        }
      ]
    },
    {
      "metadata": {
        "id": "pcih_feC3SDe",
        "colab_type": "code",
        "colab": {
          "base_uri": "https://localhost:8080/",
          "height": 35
        },
        "outputId": "0341b146-47ff-442d-d0ad-be3a6bc9aee1"
      },
      "cell_type": "code",
      "source": [
        "tables[3]"
      ],
      "execution_count": 5,
      "outputs": [
        {
          "output_type": "execute_result",
          "data": {
            "text/plain": [
              "<table><tr><td><b>Minnesota Vikings at Green Bay Packers</b></td></tr></table>"
            ]
          },
          "metadata": {
            "tags": []
          },
          "execution_count": 5
        }
      ]
    },
    {
      "metadata": {
        "id": "hfFxEqtj3PVR",
        "colab_type": "code",
        "colab": {
          "base_uri": "https://localhost:8080/",
          "height": 35
        },
        "outputId": "30199837-4e7e-42c8-f18f-f1ee00665eed"
      },
      "cell_type": "code",
      "source": [
        "tables[3].string.strip()"
      ],
      "execution_count": 6,
      "outputs": [
        {
          "output_type": "execute_result",
          "data": {
            "text/plain": [
              "'Minnesota Vikings at Green Bay Packers'"
            ]
          },
          "metadata": {
            "tags": []
          },
          "execution_count": 6
        }
      ]
    },
    {
      "metadata": {
        "id": "RpJBXxoG4A3E",
        "colab_type": "code",
        "colab": {}
      },
      "cell_type": "code",
      "source": [
        "teams = tables[3].string.strip()"
      ],
      "execution_count": 0,
      "outputs": []
    },
    {
      "metadata": {
        "id": "kaLJ7To75Xcq",
        "colab_type": "code",
        "colab": {}
      },
      "cell_type": "code",
      "source": [
        "date_place, stadium = tables[4].find_all('td')[0:2]"
      ],
      "execution_count": 0,
      "outputs": []
    },
    {
      "metadata": {
        "id": "h_ykKSiC5gz0",
        "colab_type": "code",
        "colab": {}
      },
      "cell_type": "code",
      "source": [
        "date_place = date_place.string.strip().split(' at ')\n",
        "date, place = date_place[0], date_place[1] \n",
        "stadium = stadium.string.strip()\n",
        "stadium = stadium.split(': ')[1]"
      ],
      "execution_count": 0,
      "outputs": []
    },
    {
      "metadata": {
        "id": "90SGNika6GZM",
        "colab_type": "code",
        "colab": {
          "base_uri": "https://localhost:8080/",
          "height": 35
        },
        "outputId": "bb6fe295-15b2-46ae-aa38-08ad44c92012"
      },
      "cell_type": "code",
      "source": [
        "date"
      ],
      "execution_count": 10,
      "outputs": [
        {
          "output_type": "execute_result",
          "data": {
            "text/plain": [
              "'December 24, 2016'"
            ]
          },
          "metadata": {
            "tags": []
          },
          "execution_count": 10
        }
      ]
    },
    {
      "metadata": {
        "id": "MdlyKBPP6HSq",
        "colab_type": "code",
        "colab": {
          "base_uri": "https://localhost:8080/",
          "height": 35
        },
        "outputId": "207e7296-b2f4-4080-ed80-0af41cab9ec5"
      },
      "cell_type": "code",
      "source": [
        "place"
      ],
      "execution_count": 11,
      "outputs": [
        {
          "output_type": "execute_result",
          "data": {
            "text/plain": [
              "'Green Bay, WI'"
            ]
          },
          "metadata": {
            "tags": []
          },
          "execution_count": 11
        }
      ]
    },
    {
      "metadata": {
        "id": "aJ6VRi626HQY",
        "colab_type": "code",
        "colab": {
          "base_uri": "https://localhost:8080/",
          "height": 35
        },
        "outputId": "491c8168-dab3-4b00-f3c7-8acc34af1e49"
      },
      "cell_type": "code",
      "source": [
        "stadium"
      ],
      "execution_count": 12,
      "outputs": [
        {
          "output_type": "execute_result",
          "data": {
            "text/plain": [
              "'Lambeau Field'"
            ]
          },
          "metadata": {
            "tags": []
          },
          "execution_count": 12
        }
      ]
    },
    {
      "metadata": {
        "id": "KlapgJjU6SyY",
        "colab_type": "code",
        "colab": {
          "base_uri": "https://localhost:8080/",
          "height": 55
        },
        "outputId": "c0ece96f-b49c-4813-c7c5-c7d81bc2bee5"
      },
      "cell_type": "code",
      "source": [
        "tables[5]"
      ],
      "execution_count": 13,
      "outputs": [
        {
          "output_type": "execute_result",
          "data": {
            "text/plain": [
              "<table><tr><th style=\"text-align:left\">Hour</th><th style=\"text-align:right\">Temp</th><th style=\"text-align:right\">Dewpoint</th><th style=\"text-align:right\">Humidity</th><th style=\"text-align:right\">Wind Speed</th><th style=\"text-align:right\">Wind Gust</th><th style=\"text-align:right\">Windchill</th><th style=\"text-align:right\">Windchill Gust</th><th style=\"text-align:left\">Skycover</th><th style=\"text-align:left\">Weather</th></tr><tr><td style=\"text-align:left\">0</td><td style=\"text-align:right\">38</td><td style=\"text-align:right\">31</td><td style=\"text-align:right\">76</td><td style=\"text-align:right\">8</td><td style=\"text-align:right\"></td><td style=\"text-align:right\">32</td><td style=\"text-align:right\"></td><td style=\"text-align:left\">clear</td><td style=\"text-align:left\">--</td></tr><tr><td style=\"text-align:left\">1</td><td style=\"text-align:right\">37</td><td style=\"text-align:right\">31</td><td style=\"text-align:right\">79</td><td style=\"text-align:right\">9</td><td style=\"text-align:right\"></td><td style=\"text-align:right\">30</td><td style=\"text-align:right\"></td><td style=\"text-align:left\">clear</td><td style=\"text-align:left\">--</td></tr><tr><td style=\"text-align:left\">2</td><td style=\"text-align:right\">38</td><td style=\"text-align:right\">31</td><td style=\"text-align:right\">76</td><td style=\"text-align:right\">6</td><td style=\"text-align:right\"></td><td style=\"text-align:right\">33</td><td style=\"text-align:right\"></td><td style=\"text-align:left\">clear</td><td style=\"text-align:left\">--</td></tr><tr><td style=\"text-align:left\">3</td><td style=\"text-align:right\">38</td><td style=\"text-align:right\">31</td><td style=\"text-align:right\">76</td><td style=\"text-align:right\">5</td><td style=\"text-align:right\"></td><td style=\"text-align:right\">34</td><td style=\"text-align:right\"></td><td style=\"text-align:left\">clear</td><td style=\"text-align:left\">--</td></tr><tr><td style=\"text-align:left\">MIN</td><td style=\"text-align:right\">37</td><td style=\"text-align:right\">31</td><td style=\"text-align:right\">76</td><td style=\"text-align:right\">5</td><td style=\"text-align:right\"></td><td style=\"text-align:right\">30</td><td style=\"text-align:right\"></td><td style=\"text-align:left\"></td><td style=\"text-align:left\"></td></tr><tr><td style=\"text-align:left\">MAX</td><td style=\"text-align:right\">38</td><td style=\"text-align:right\">31</td><td style=\"text-align:right\">79</td><td style=\"text-align:right\">9</td><td style=\"text-align:right\"></td><td style=\"text-align:right\"></td><td style=\"text-align:right\"></td><td style=\"text-align:left\"></td><td style=\"text-align:left\"></td></tr></table>"
            ]
          },
          "metadata": {
            "tags": []
          },
          "execution_count": 13
        }
      ]
    },
    {
      "metadata": {
        "id": "vdgZv-Tu6UlU",
        "colab_type": "code",
        "colab": {}
      },
      "cell_type": "code",
      "source": [
        "headers = tables[5].find_all('th')\n",
        "cols = []\n",
        "\n",
        "for header in headers:\n",
        "  cols.append(header.string.strip())"
      ],
      "execution_count": 0,
      "outputs": []
    },
    {
      "metadata": {
        "id": "gjgeBGq_a_VX",
        "colab_type": "code",
        "colab": {
          "base_uri": "https://localhost:8080/",
          "height": 199
        },
        "outputId": "0ee5cfe8-60ad-45c8-8869-d5019d00c0ff"
      },
      "cell_type": "code",
      "source": [
        "cols"
      ],
      "execution_count": 15,
      "outputs": [
        {
          "output_type": "execute_result",
          "data": {
            "text/plain": [
              "['Hour',\n",
              " 'Temp',\n",
              " 'Dewpoint',\n",
              " 'Humidity',\n",
              " 'Wind Speed',\n",
              " 'Wind Gust',\n",
              " 'Windchill',\n",
              " 'Windchill Gust',\n",
              " 'Skycover',\n",
              " 'Weather']"
            ]
          },
          "metadata": {
            "tags": []
          },
          "execution_count": 15
        }
      ]
    },
    {
      "metadata": {
        "id": "EQ8sIXGSbFcn",
        "colab_type": "code",
        "colab": {
          "base_uri": "https://localhost:8080/",
          "height": 745
        },
        "outputId": "c9cdbf75-1559-479c-8ffc-b5eb6cba000a"
      },
      "cell_type": "code",
      "source": [
        "cell_data = tables[5].find_all('td')[:40]\n",
        "cell_data"
      ],
      "execution_count": 16,
      "outputs": [
        {
          "output_type": "execute_result",
          "data": {
            "text/plain": [
              "[<td style=\"text-align:left\">0</td>,\n",
              " <td style=\"text-align:right\">38</td>,\n",
              " <td style=\"text-align:right\">31</td>,\n",
              " <td style=\"text-align:right\">76</td>,\n",
              " <td style=\"text-align:right\">8</td>,\n",
              " <td style=\"text-align:right\"></td>,\n",
              " <td style=\"text-align:right\">32</td>,\n",
              " <td style=\"text-align:right\"></td>,\n",
              " <td style=\"text-align:left\">clear</td>,\n",
              " <td style=\"text-align:left\">--</td>,\n",
              " <td style=\"text-align:left\">1</td>,\n",
              " <td style=\"text-align:right\">37</td>,\n",
              " <td style=\"text-align:right\">31</td>,\n",
              " <td style=\"text-align:right\">79</td>,\n",
              " <td style=\"text-align:right\">9</td>,\n",
              " <td style=\"text-align:right\"></td>,\n",
              " <td style=\"text-align:right\">30</td>,\n",
              " <td style=\"text-align:right\"></td>,\n",
              " <td style=\"text-align:left\">clear</td>,\n",
              " <td style=\"text-align:left\">--</td>,\n",
              " <td style=\"text-align:left\">2</td>,\n",
              " <td style=\"text-align:right\">38</td>,\n",
              " <td style=\"text-align:right\">31</td>,\n",
              " <td style=\"text-align:right\">76</td>,\n",
              " <td style=\"text-align:right\">6</td>,\n",
              " <td style=\"text-align:right\"></td>,\n",
              " <td style=\"text-align:right\">33</td>,\n",
              " <td style=\"text-align:right\"></td>,\n",
              " <td style=\"text-align:left\">clear</td>,\n",
              " <td style=\"text-align:left\">--</td>,\n",
              " <td style=\"text-align:left\">3</td>,\n",
              " <td style=\"text-align:right\">38</td>,\n",
              " <td style=\"text-align:right\">31</td>,\n",
              " <td style=\"text-align:right\">76</td>,\n",
              " <td style=\"text-align:right\">5</td>,\n",
              " <td style=\"text-align:right\"></td>,\n",
              " <td style=\"text-align:right\">34</td>,\n",
              " <td style=\"text-align:right\"></td>,\n",
              " <td style=\"text-align:left\">clear</td>,\n",
              " <td style=\"text-align:left\">--</td>]"
            ]
          },
          "metadata": {
            "tags": []
          },
          "execution_count": 16
        }
      ]
    },
    {
      "metadata": {
        "id": "5-qOA2mcax1X",
        "colab_type": "code",
        "colab": {}
      },
      "cell_type": "code",
      "source": [
        "row_chunks = [0,10,20,30,40]\n",
        "game_data = []\n",
        "for i in range(4):\n",
        "  row = cell_data[row_chunks[i]:row_chunks[i+1]]\n",
        "  row_data = []\n",
        "  for cell in row:\n",
        "    try:\n",
        "      row_data.append(cell.string.strip())\n",
        "    except:\n",
        "      row_data.append('--')\n",
        "  game_data.append(row_data)"
      ],
      "execution_count": 0,
      "outputs": []
    },
    {
      "metadata": {
        "id": "jmOoHuU0hROb",
        "colab_type": "code",
        "colab": {
          "base_uri": "https://localhost:8080/",
          "height": 90
        },
        "outputId": "70bc20c4-12c2-4412-df48-067dcd62ebd9"
      },
      "cell_type": "code",
      "source": [
        "game_data"
      ],
      "execution_count": 18,
      "outputs": [
        {
          "output_type": "execute_result",
          "data": {
            "text/plain": [
              "[['0', '38', '31', '76', '8', '--', '32', '--', 'clear', '--'],\n",
              " ['1', '37', '31', '79', '9', '--', '30', '--', 'clear', '--'],\n",
              " ['2', '38', '31', '76', '6', '--', '33', '--', 'clear', '--'],\n",
              " ['3', '38', '31', '76', '5', '--', '34', '--', 'clear', '--']]"
            ]
          },
          "metadata": {
            "tags": []
          },
          "execution_count": 18
        }
      ]
    },
    {
      "metadata": {
        "id": "aI8mdIsbhSQu",
        "colab_type": "code",
        "colab": {
          "base_uri": "https://localhost:8080/",
          "height": 168
        },
        "outputId": "a07996a5-80e9-46ec-f1ff-b9012c3d7d1c"
      },
      "cell_type": "code",
      "source": [
        "game_df = pd.DataFrame(game_data, columns=cols)\n",
        "game_df"
      ],
      "execution_count": 19,
      "outputs": [
        {
          "output_type": "execute_result",
          "data": {
            "text/html": [
              "<div>\n",
              "<style scoped>\n",
              "    .dataframe tbody tr th:only-of-type {\n",
              "        vertical-align: middle;\n",
              "    }\n",
              "\n",
              "    .dataframe tbody tr th {\n",
              "        vertical-align: top;\n",
              "    }\n",
              "\n",
              "    .dataframe thead th {\n",
              "        text-align: right;\n",
              "    }\n",
              "</style>\n",
              "<table border=\"1\" class=\"dataframe\">\n",
              "  <thead>\n",
              "    <tr style=\"text-align: right;\">\n",
              "      <th></th>\n",
              "      <th>Hour</th>\n",
              "      <th>Temp</th>\n",
              "      <th>Dewpoint</th>\n",
              "      <th>Humidity</th>\n",
              "      <th>Wind Speed</th>\n",
              "      <th>Wind Gust</th>\n",
              "      <th>Windchill</th>\n",
              "      <th>Windchill Gust</th>\n",
              "      <th>Skycover</th>\n",
              "      <th>Weather</th>\n",
              "    </tr>\n",
              "  </thead>\n",
              "  <tbody>\n",
              "    <tr>\n",
              "      <th>0</th>\n",
              "      <td>0</td>\n",
              "      <td>38</td>\n",
              "      <td>31</td>\n",
              "      <td>76</td>\n",
              "      <td>8</td>\n",
              "      <td>--</td>\n",
              "      <td>32</td>\n",
              "      <td>--</td>\n",
              "      <td>clear</td>\n",
              "      <td>--</td>\n",
              "    </tr>\n",
              "    <tr>\n",
              "      <th>1</th>\n",
              "      <td>1</td>\n",
              "      <td>37</td>\n",
              "      <td>31</td>\n",
              "      <td>79</td>\n",
              "      <td>9</td>\n",
              "      <td>--</td>\n",
              "      <td>30</td>\n",
              "      <td>--</td>\n",
              "      <td>clear</td>\n",
              "      <td>--</td>\n",
              "    </tr>\n",
              "    <tr>\n",
              "      <th>2</th>\n",
              "      <td>2</td>\n",
              "      <td>38</td>\n",
              "      <td>31</td>\n",
              "      <td>76</td>\n",
              "      <td>6</td>\n",
              "      <td>--</td>\n",
              "      <td>33</td>\n",
              "      <td>--</td>\n",
              "      <td>clear</td>\n",
              "      <td>--</td>\n",
              "    </tr>\n",
              "    <tr>\n",
              "      <th>3</th>\n",
              "      <td>3</td>\n",
              "      <td>38</td>\n",
              "      <td>31</td>\n",
              "      <td>76</td>\n",
              "      <td>5</td>\n",
              "      <td>--</td>\n",
              "      <td>34</td>\n",
              "      <td>--</td>\n",
              "      <td>clear</td>\n",
              "      <td>--</td>\n",
              "    </tr>\n",
              "  </tbody>\n",
              "</table>\n",
              "</div>"
            ],
            "text/plain": [
              "  Hour Temp Dewpoint Humidity Wind Speed Wind Gust Windchill Windchill Gust  \\\n",
              "0    0   38       31       76          8        --        32             --   \n",
              "1    1   37       31       79          9        --        30             --   \n",
              "2    2   38       31       76          6        --        33             --   \n",
              "3    3   38       31       76          5        --        34             --   \n",
              "\n",
              "  Skycover Weather  \n",
              "0    clear      --  \n",
              "1    clear      --  \n",
              "2    clear      --  \n",
              "3    clear      --  "
            ]
          },
          "metadata": {
            "tags": []
          },
          "execution_count": 19
        }
      ]
    }
  ]
}