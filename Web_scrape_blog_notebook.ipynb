{
  "nbformat": 4,
  "nbformat_minor": 0,
  "metadata": {
    "colab": {
      "name": "Web scrape blog notebook",
      "version": "0.3.2",
      "provenance": [],
      "include_colab_link": true
    },
    "kernelspec": {
      "name": "python3",
      "display_name": "Python 3"
    }
  },
  "cells": [
    {
      "cell_type": "markdown",
      "metadata": {
        "id": "view-in-github",
        "colab_type": "text"
      },
      "source": [
        "<a href=\"https://colab.research.google.com/github/Nolanole/NFL-Weather-Project/blob/master/Web_scrape_blog_notebook.ipynb\" target=\"_parent\"><img src=\"https://colab.research.google.com/assets/colab-badge.svg\" alt=\"Open In Colab\"/></a>"
      ]
    },
    {
      "metadata": {
        "id": "DkOZAC7O0HpL",
        "colab_type": "code",
        "colab": {}
      },
      "cell_type": "code",
      "source": [
        "#imports\n",
        "import pandas as pd\n",
        "import bs4\n",
        "import requests\n",
        "\n",
        "url = 'https://www.profootballarchives.com/weather/2016nfl295.html'\n",
        "result = requests.get(url)\n",
        "soup = bs4.BeautifulSoup(result.text)"
      ],
      "execution_count": 0,
      "outputs": []
    },
    {
      "metadata": {
        "id": "_Ikh9MJm0gjW",
        "colab_type": "code",
        "colab": {
          "base_uri": "https://localhost:8080/",
          "height": 74
        },
        "outputId": "04b34141-d3a3-472d-adde-dce791ce7faa"
      },
      "cell_type": "code",
      "source": [
        "soup"
      ],
      "execution_count": 4,
      "outputs": [
        {
          "output_type": "execute_result",
          "data": {
            "text/plain": [
              "<!DOCTYPE html>\n",
              "<html><head><link href=\"rwd.css\" rel=\"stylesheet\" type=\"text/css\"/><meta content=\"December 24, 2016 - Minnesota Vikings at Green Bay Packers game weather.\" name=\"description\"/><meta content=\"national football league, stats, statistics, reference, history, database, records, pfr\" name=\"keywords\"/><meta content=\"text/html; charset=utf-8\" http-equiv=\"content-type\"/><meta content=\"5/30/2018\" name=\"date\"/><meta content=\"width=device-width, initial-scale=1.0\" name=\"viewport\"/><title>Game Weather - December 24, 2016 - Minnesota Vikings at Green Bay Packers - The Pro Football Archives</title><script type=\"text/javascript\">    var _gaq = _gaq || [];   _gaq.push(['_setAccount', 'UA-33205774-1']);   _gaq.push(['_trackPageview']);    (function() {     var ga = document.createElement('script'); ga.type = 'text/javascript'; ga.async = true;     ga.src = ('https:' == document.location.protocol ? 'https://ssl' : 'http://www') + '.google-analytics.com/ga.js';     var s = document.getElementsByTagName('script')[0]; s.parentNode.insertBefore(ga, s);   })();  </script></head><body><div id=\"logo\"><table><tr><td style=\"text-align:center\"><img src=\"pfalogo.gif\"/></td></tr></table></div><div id=\"logo\"><script>   (function() {     var cx = '013060097628390045023:WMX-1913805990';     var gcse = document.createElement('script');     gcse.type = 'text/javascript';     gcse.async = true;     gcse.src = (document.location.protocol == 'https:' ? 'https:' : 'http:') +         '//www.google.com/cse/cse.js?cx=' + cx;     var s = document.getElementsByTagName('script')[0];     s.parentNode.insertBefore(gcse, s);   })(); </script><gcse:search></gcse:search> <style type=\"text/css\">  input.gsc-input     border-color: #BCCDF0;  }  input.gsc-search-button {    border-color: #CECECE;    background-color: #E9E9E9;  }    td.gsc-clear-button  { display: none !important; }  </style></div><div id=\"menu\"><table><tr><th><a class=\"links\" href=\"/index.html\">Home</a></th><th><a class=\"links\" href=\"/teams.html\">Teams</a></th><th><a class=\"links\" href=\"/nflplayers.html\">Players</a></th><th><a class=\"links\" href=\"/coaches.html\">Coaches</a></th></tr><tr><th><a class=\"links\" href=\"/drafts.html\">Drafts</a></th><th><a class=\"links\" href=\"/awards.html\">Awards</a></th><th><a class=\"links\" href=\"/nflleaderboards.html\">Leaders</a></th><th><a class=\"links\" href=\"mailto:pfarchives@comcast.net\">Email</a></th></tr></table></div><div id=\"books\"><table><tr><td style=\"text-align:center\"><a href=\"weather-faq.html\" target=\"_blank\">Weather Key and FAQ</a></td></tr></table></div><div id=\"team\"><table><tr><td><b>Minnesota Vikings at Green Bay Packers</b></td></tr></table></div><div id=\"coaches\"><table><tr><td>December 24, 2016 at Green Bay, WI</td></tr><tr><td>Venue: Lambeau Field</td></tr><tr><td>Weather Station: Green Bay Austin Straubel (WI) (3.98 miles)</td></tr></table></div><div id=\"stats\"><table><tr><th style=\"text-align:left\">Hour</th><th style=\"text-align:right\">Temp</th><th style=\"text-align:right\">Dewpoint</th><th style=\"text-align:right\">Humidity</th><th style=\"text-align:right\">Wind Speed</th><th style=\"text-align:right\">Wind Gust</th><th style=\"text-align:right\">Windchill</th><th style=\"text-align:right\">Windchill Gust</th><th style=\"text-align:left\">Skycover</th><th style=\"text-align:left\">Weather</th></tr><tr><td style=\"text-align:left\">0</td><td style=\"text-align:right\">38</td><td style=\"text-align:right\">31</td><td style=\"text-align:right\">76</td><td style=\"text-align:right\">8</td><td style=\"text-align:right\"></td><td style=\"text-align:right\">32</td><td style=\"text-align:right\"></td><td style=\"text-align:left\">clear</td><td style=\"text-align:left\">--</td></tr><tr><td style=\"text-align:left\">1</td><td style=\"text-align:right\">37</td><td style=\"text-align:right\">31</td><td style=\"text-align:right\">79</td><td style=\"text-align:right\">9</td><td style=\"text-align:right\"></td><td style=\"text-align:right\">30</td><td style=\"text-align:right\"></td><td style=\"text-align:left\">clear</td><td style=\"text-align:left\">--</td></tr><tr><td style=\"text-align:left\">2</td><td style=\"text-align:right\">38</td><td style=\"text-align:right\">31</td><td style=\"text-align:right\">76</td><td style=\"text-align:right\">6</td><td style=\"text-align:right\"></td><td style=\"text-align:right\">33</td><td style=\"text-align:right\"></td><td style=\"text-align:left\">clear</td><td style=\"text-align:left\">--</td></tr><tr><td style=\"text-align:left\">3</td><td style=\"text-align:right\">38</td><td style=\"text-align:right\">31</td><td style=\"text-align:right\">76</td><td style=\"text-align:right\">5</td><td style=\"text-align:right\"></td><td style=\"text-align:right\">34</td><td style=\"text-align:right\"></td><td style=\"text-align:left\">clear</td><td style=\"text-align:left\">--</td></tr><tr><td style=\"text-align:left\">MIN</td><td style=\"text-align:right\">37</td><td style=\"text-align:right\">31</td><td style=\"text-align:right\">76</td><td style=\"text-align:right\">5</td><td style=\"text-align:right\"></td><td style=\"text-align:right\">30</td><td style=\"text-align:right\"></td><td style=\"text-align:left\"></td><td style=\"text-align:left\"></td></tr><tr><td style=\"text-align:left\">MAX</td><td style=\"text-align:right\">38</td><td style=\"text-align:right\">31</td><td style=\"text-align:right\">79</td><td style=\"text-align:right\">9</td><td style=\"text-align:right\"></td><td style=\"text-align:right\"></td><td style=\"text-align:right\"></td><td style=\"text-align:left\"></td><td style=\"text-align:left\"></td></tr></table></div><div id=\"copy\"><table><tr><td><a class=\"footer\" href=\"/trainingcamps.html\">NFL Training Camps</a> • <a class=\"footer\" href=\"/nflrosterlimits.html\">NFL Roster Limits</a></td></tr><tr><td><a class=\"footer\" href=\"/acks.html\">Acknowledgements</a> • <a class=\"footer\" href=\"/privacy.html\">Privacy Policy</a></td></tr><tr><td>©2006-2018 The Pro Football Archives. All Rights Reserved.</td></tr></table></div></body></html> "
            ]
          },
          "metadata": {
            "tags": []
          },
          "execution_count": 4
        }
      ]
    },
    {
      "metadata": {
        "id": "HfA9JWIP0l8J",
        "colab_type": "code",
        "colab": {
          "base_uri": "https://localhost:8080/",
          "height": 165
        },
        "outputId": "534d8427-f0a3-40cb-8069-434b5e9ddfdd"
      },
      "cell_type": "code",
      "source": [
        "tables = soup.find_all('table')\n",
        "tables"
      ],
      "execution_count": 6,
      "outputs": [
        {
          "output_type": "execute_result",
          "data": {
            "text/plain": [
              "[<table><tr><td style=\"text-align:center\"><img src=\"pfalogo.gif\"/></td></tr></table>,\n",
              " <table><tr><th><a class=\"links\" href=\"/index.html\">Home</a></th><th><a class=\"links\" href=\"/teams.html\">Teams</a></th><th><a class=\"links\" href=\"/nflplayers.html\">Players</a></th><th><a class=\"links\" href=\"/coaches.html\">Coaches</a></th></tr><tr><th><a class=\"links\" href=\"/drafts.html\">Drafts</a></th><th><a class=\"links\" href=\"/awards.html\">Awards</a></th><th><a class=\"links\" href=\"/nflleaderboards.html\">Leaders</a></th><th><a class=\"links\" href=\"mailto:pfarchives@comcast.net\">Email</a></th></tr></table>,\n",
              " <table><tr><td style=\"text-align:center\"><a href=\"weather-faq.html\" target=\"_blank\">Weather Key and FAQ</a></td></tr></table>,\n",
              " <table><tr><td><b>Minnesota Vikings at Green Bay Packers</b></td></tr></table>,\n",
              " <table><tr><td>December 24, 2016 at Green Bay, WI</td></tr><tr><td>Venue: Lambeau Field</td></tr><tr><td>Weather Station: Green Bay Austin Straubel (WI) (3.98 miles)</td></tr></table>,\n",
              " <table><tr><th style=\"text-align:left\">Hour</th><th style=\"text-align:right\">Temp</th><th style=\"text-align:right\">Dewpoint</th><th style=\"text-align:right\">Humidity</th><th style=\"text-align:right\">Wind Speed</th><th style=\"text-align:right\">Wind Gust</th><th style=\"text-align:right\">Windchill</th><th style=\"text-align:right\">Windchill Gust</th><th style=\"text-align:left\">Skycover</th><th style=\"text-align:left\">Weather</th></tr><tr><td style=\"text-align:left\">0</td><td style=\"text-align:right\">38</td><td style=\"text-align:right\">31</td><td style=\"text-align:right\">76</td><td style=\"text-align:right\">8</td><td style=\"text-align:right\"></td><td style=\"text-align:right\">32</td><td style=\"text-align:right\"></td><td style=\"text-align:left\">clear</td><td style=\"text-align:left\">--</td></tr><tr><td style=\"text-align:left\">1</td><td style=\"text-align:right\">37</td><td style=\"text-align:right\">31</td><td style=\"text-align:right\">79</td><td style=\"text-align:right\">9</td><td style=\"text-align:right\"></td><td style=\"text-align:right\">30</td><td style=\"text-align:right\"></td><td style=\"text-align:left\">clear</td><td style=\"text-align:left\">--</td></tr><tr><td style=\"text-align:left\">2</td><td style=\"text-align:right\">38</td><td style=\"text-align:right\">31</td><td style=\"text-align:right\">76</td><td style=\"text-align:right\">6</td><td style=\"text-align:right\"></td><td style=\"text-align:right\">33</td><td style=\"text-align:right\"></td><td style=\"text-align:left\">clear</td><td style=\"text-align:left\">--</td></tr><tr><td style=\"text-align:left\">3</td><td style=\"text-align:right\">38</td><td style=\"text-align:right\">31</td><td style=\"text-align:right\">76</td><td style=\"text-align:right\">5</td><td style=\"text-align:right\"></td><td style=\"text-align:right\">34</td><td style=\"text-align:right\"></td><td style=\"text-align:left\">clear</td><td style=\"text-align:left\">--</td></tr><tr><td style=\"text-align:left\">MIN</td><td style=\"text-align:right\">37</td><td style=\"text-align:right\">31</td><td style=\"text-align:right\">76</td><td style=\"text-align:right\">5</td><td style=\"text-align:right\"></td><td style=\"text-align:right\">30</td><td style=\"text-align:right\"></td><td style=\"text-align:left\"></td><td style=\"text-align:left\"></td></tr><tr><td style=\"text-align:left\">MAX</td><td style=\"text-align:right\">38</td><td style=\"text-align:right\">31</td><td style=\"text-align:right\">79</td><td style=\"text-align:right\">9</td><td style=\"text-align:right\"></td><td style=\"text-align:right\"></td><td style=\"text-align:right\"></td><td style=\"text-align:left\"></td><td style=\"text-align:left\"></td></tr></table>,\n",
              " <table><tr><td><a class=\"footer\" href=\"/trainingcamps.html\">NFL Training Camps</a> • <a class=\"footer\" href=\"/nflrosterlimits.html\">NFL Roster Limits</a></td></tr><tr><td><a class=\"footer\" href=\"/acks.html\">Acknowledgements</a> • <a class=\"footer\" href=\"/privacy.html\">Privacy Policy</a></td></tr><tr><td>©2006-2018 The Pro Football Archives. All Rights Reserved.</td></tr></table>]"
            ]
          },
          "metadata": {
            "tags": []
          },
          "execution_count": 6
        }
      ]
    },
    {
      "metadata": {
        "id": "7qTGiZVy2TIQ",
        "colab_type": "code",
        "colab": {
          "base_uri": "https://localhost:8080/",
          "height": 35
        },
        "outputId": "bc873b6e-da2a-44ed-efef-ead83ec23a58"
      },
      "cell_type": "code",
      "source": [
        "type(tables)"
      ],
      "execution_count": 7,
      "outputs": [
        {
          "output_type": "execute_result",
          "data": {
            "text/plain": [
              "bs4.element.ResultSet"
            ]
          },
          "metadata": {
            "tags": []
          },
          "execution_count": 7
        }
      ]
    },
    {
      "metadata": {
        "id": "pcih_feC3SDe",
        "colab_type": "code",
        "colab": {
          "base_uri": "https://localhost:8080/",
          "height": 35
        },
        "outputId": "1aaa601b-dd15-45b7-9742-499891afc410"
      },
      "cell_type": "code",
      "source": [
        "tables[3]"
      ],
      "execution_count": 11,
      "outputs": [
        {
          "output_type": "execute_result",
          "data": {
            "text/plain": [
              "<table><tr><td><b>Minnesota Vikings at Green Bay Packers</b></td></tr></table>"
            ]
          },
          "metadata": {
            "tags": []
          },
          "execution_count": 11
        }
      ]
    },
    {
      "metadata": {
        "id": "hfFxEqtj3PVR",
        "colab_type": "code",
        "colab": {
          "base_uri": "https://localhost:8080/",
          "height": 35
        },
        "outputId": "472b06d5-a36b-4afc-8e43-e40702293121"
      },
      "cell_type": "code",
      "source": [
        "tables[3].string.strip()"
      ],
      "execution_count": 10,
      "outputs": [
        {
          "output_type": "execute_result",
          "data": {
            "text/plain": [
              "'Minnesota Vikings at Green Bay Packers'"
            ]
          },
          "metadata": {
            "tags": []
          },
          "execution_count": 10
        }
      ]
    },
    {
      "metadata": {
        "id": "RpJBXxoG4A3E",
        "colab_type": "code",
        "colab": {}
      },
      "cell_type": "code",
      "source": [
        "teams = tables[3].string.strip()"
      ],
      "execution_count": 0,
      "outputs": []
    },
    {
      "metadata": {
        "id": "kaLJ7To75Xcq",
        "colab_type": "code",
        "colab": {}
      },
      "cell_type": "code",
      "source": [
        "date_place, stadium = tables[4].find_all('td')[0:2]"
      ],
      "execution_count": 0,
      "outputs": []
    },
    {
      "metadata": {
        "id": "h_ykKSiC5gz0",
        "colab_type": "code",
        "colab": {}
      },
      "cell_type": "code",
      "source": [
        "date_place = date_place.string.strip().split(' at ')\n",
        "date, place = date_place[0], date_place[1] \n",
        "stadium = stadium.string.strip()\n",
        "stadium = stadium.split(': ')[1]"
      ],
      "execution_count": 0,
      "outputs": []
    },
    {
      "metadata": {
        "id": "90SGNika6GZM",
        "colab_type": "code",
        "colab": {
          "base_uri": "https://localhost:8080/",
          "height": 35
        },
        "outputId": "f2b86bdb-85bb-40e7-bf9e-6758c5b62931"
      },
      "cell_type": "code",
      "source": [
        "date"
      ],
      "execution_count": 32,
      "outputs": [
        {
          "output_type": "execute_result",
          "data": {
            "text/plain": [
              "'December 24, 2016'"
            ]
          },
          "metadata": {
            "tags": []
          },
          "execution_count": 32
        }
      ]
    },
    {
      "metadata": {
        "id": "MdlyKBPP6HSq",
        "colab_type": "code",
        "colab": {
          "base_uri": "https://localhost:8080/",
          "height": 35
        },
        "outputId": "74798873-2334-4fda-a829-b70427cf51f6"
      },
      "cell_type": "code",
      "source": [
        "place"
      ],
      "execution_count": 33,
      "outputs": [
        {
          "output_type": "execute_result",
          "data": {
            "text/plain": [
              "'Green Bay, WI'"
            ]
          },
          "metadata": {
            "tags": []
          },
          "execution_count": 33
        }
      ]
    },
    {
      "metadata": {
        "id": "aJ6VRi626HQY",
        "colab_type": "code",
        "colab": {
          "base_uri": "https://localhost:8080/",
          "height": 35
        },
        "outputId": "be34fd7d-1794-4e40-8b61-d567d56e515c"
      },
      "cell_type": "code",
      "source": [
        "stadium"
      ],
      "execution_count": 34,
      "outputs": [
        {
          "output_type": "execute_result",
          "data": {
            "text/plain": [
              "'Lambeau Field'"
            ]
          },
          "metadata": {
            "tags": []
          },
          "execution_count": 34
        }
      ]
    },
    {
      "metadata": {
        "id": "KlapgJjU6SyY",
        "colab_type": "code",
        "colab": {
          "base_uri": "https://localhost:8080/",
          "height": 55
        },
        "outputId": "0898379b-79ff-4294-e513-8676c6df79ed"
      },
      "cell_type": "code",
      "source": [
        "tables[5]"
      ],
      "execution_count": 20,
      "outputs": [
        {
          "output_type": "execute_result",
          "data": {
            "text/plain": [
              "<table><tr><th style=\"text-align:left\">Hour</th><th style=\"text-align:right\">Temp</th><th style=\"text-align:right\">Dewpoint</th><th style=\"text-align:right\">Humidity</th><th style=\"text-align:right\">Wind Speed</th><th style=\"text-align:right\">Wind Gust</th><th style=\"text-align:right\">Windchill</th><th style=\"text-align:right\">Windchill Gust</th><th style=\"text-align:left\">Skycover</th><th style=\"text-align:left\">Weather</th></tr><tr><td style=\"text-align:left\">0</td><td style=\"text-align:right\">38</td><td style=\"text-align:right\">31</td><td style=\"text-align:right\">76</td><td style=\"text-align:right\">8</td><td style=\"text-align:right\"></td><td style=\"text-align:right\">32</td><td style=\"text-align:right\"></td><td style=\"text-align:left\">clear</td><td style=\"text-align:left\">--</td></tr><tr><td style=\"text-align:left\">1</td><td style=\"text-align:right\">37</td><td style=\"text-align:right\">31</td><td style=\"text-align:right\">79</td><td style=\"text-align:right\">9</td><td style=\"text-align:right\"></td><td style=\"text-align:right\">30</td><td style=\"text-align:right\"></td><td style=\"text-align:left\">clear</td><td style=\"text-align:left\">--</td></tr><tr><td style=\"text-align:left\">2</td><td style=\"text-align:right\">38</td><td style=\"text-align:right\">31</td><td style=\"text-align:right\">76</td><td style=\"text-align:right\">6</td><td style=\"text-align:right\"></td><td style=\"text-align:right\">33</td><td style=\"text-align:right\"></td><td style=\"text-align:left\">clear</td><td style=\"text-align:left\">--</td></tr><tr><td style=\"text-align:left\">3</td><td style=\"text-align:right\">38</td><td style=\"text-align:right\">31</td><td style=\"text-align:right\">76</td><td style=\"text-align:right\">5</td><td style=\"text-align:right\"></td><td style=\"text-align:right\">34</td><td style=\"text-align:right\"></td><td style=\"text-align:left\">clear</td><td style=\"text-align:left\">--</td></tr><tr><td style=\"text-align:left\">MIN</td><td style=\"text-align:right\">37</td><td style=\"text-align:right\">31</td><td style=\"text-align:right\">76</td><td style=\"text-align:right\">5</td><td style=\"text-align:right\"></td><td style=\"text-align:right\">30</td><td style=\"text-align:right\"></td><td style=\"text-align:left\"></td><td style=\"text-align:left\"></td></tr><tr><td style=\"text-align:left\">MAX</td><td style=\"text-align:right\">38</td><td style=\"text-align:right\">31</td><td style=\"text-align:right\">79</td><td style=\"text-align:right\">9</td><td style=\"text-align:right\"></td><td style=\"text-align:right\"></td><td style=\"text-align:right\"></td><td style=\"text-align:left\"></td><td style=\"text-align:left\"></td></tr></table>"
            ]
          },
          "metadata": {
            "tags": []
          },
          "execution_count": 20
        }
      ]
    },
    {
      "metadata": {
        "id": "vdgZv-Tu6UlU",
        "colab_type": "code",
        "colab": {}
      },
      "cell_type": "code",
      "source": [
        ""
      ],
      "execution_count": 0,
      "outputs": []
    }
  ]
}