{
  "nbformat": 4,
  "nbformat_minor": 0,
  "metadata": {
    "colab": {
      "name": "Wrangle/Clean Weather Data",
      "version": "0.3.2",
      "provenance": [],
      "collapsed_sections": [],
      "include_colab_link": true
    },
    "kernelspec": {
      "name": "python3",
      "display_name": "Python 3"
    }
  },
  "cells": [
    {
      "cell_type": "markdown",
      "metadata": {
        "id": "view-in-github",
        "colab_type": "text"
      },
      "source": [
        "<a href=\"https://colab.research.google.com/github/Nolanole/NFL-Weather-Project/blob/master/Wrangle_Clean_Weather_Data.ipynb\" target=\"_parent\"><img src=\"https://colab.research.google.com/assets/colab-badge.svg\" alt=\"Open In Colab\"/></a>"
      ]
    },
    {
      "metadata": {
        "id": "n4yDi0pi3Lr-",
        "colab_type": "code",
        "colab": {}
      },
      "cell_type": "code",
      "source": [
        "import pandas as pd\n",
        "import numpy as np"
      ],
      "execution_count": 0,
      "outputs": []
    },
    {
      "metadata": {
        "id": "l1RjDqp53Re3",
        "colab_type": "code",
        "colab": {}
      },
      "cell_type": "code",
      "source": [
        "url = 'https://raw.githubusercontent.com/Nolanole/NFL-Weather-Project/master/weather_raw.csv'\n",
        "df = pd.read_csv('https://raw.githubusercontent.com/Nolanole/NFL-Weather-Project/master/weather_raw.csv', na_values='--')"
      ],
      "execution_count": 0,
      "outputs": []
    },
    {
      "metadata": {
        "id": "osmL3xqK4cpK",
        "colab_type": "code",
        "colab": {}
      },
      "cell_type": "code",
      "source": [
        "#clean the venue column and rename to stadium\n",
        "df['stadium'] = df['venue'].apply(lambda x: x.split('Venue: ')[1])\n",
        "df = df.drop(columns=['Unnamed: 0', 'venue'])\n",
        "\n",
        "#convert date to datetime obj:\n",
        "df['date'] = pd.to_datetime(df['date'])\n",
        "\n",
        "#make column for fog, drop fog from weather/precipitation\n",
        "df['fog_or_haze'] = df['Weather'].str.contains('fog|haze')\n",
        "df['fog_or_haze'] = df['fog_or_haze'].fillna(value=False)"
      ],
      "execution_count": 0,
      "outputs": []
    },
    {
      "metadata": {
        "id": "z5vSwLcEjrgz",
        "colab_type": "code",
        "colab": {}
      },
      "cell_type": "code",
      "source": [
        "#categorize skycover column\n",
        "\n",
        "sky_mapper = {'overcast':'overcast/mostly cloudy', 'mostly cloudy':'overcast/mostly cloudy', \n",
        "              'scattered clouds':'clear/cloudy mix', 'half cloudy':'clear/cloudy mix',\n",
        "              'cloudy':'overcast/mostly cloudy', 'partly cloudy':'clear/cloudy mix', \n",
        "              'mostly clear':'clear', 'more than half cloudy':'overcast/mostly cloudy',\n",
        "              'obscured':'clear/cloudy mix', 'haze':'clear/cloudy mix', \n",
        "              'Mostly cloudy':'overcast/mostly cloudy', 'mist':'clear/cloudy mix'}\n",
        "\n",
        "df['Skycover'] = df['Skycover'].replace(sky_mapper)\n",
        "df = df.rename(columns={'Skycover': 'sky'})"
      ],
      "execution_count": 0,
      "outputs": []
    },
    {
      "metadata": {
        "id": "Y8-AJ3B-lysd",
        "colab_type": "code",
        "colab": {}
      },
      "cell_type": "code",
      "source": [
        "#categorize weather column to be precipitation\n",
        "\n",
        "df.Weather.value_counts().index\n",
        "weather_mapper = {'fog':np.nan, 'drizzle': 'light rain', 'mist':'light rain',\n",
        "                  'light drizzle':'light rain', 'rain':'rain/storm', 'thstrm, rain':'rain/storm', \n",
        "                  'heavy rain':'rain/storm', 'smoke haze':np.nan, 'thstrm':'rain/storm', \n",
        "                  'ice pellets':'light snow', 'light freezing rain':'light rain',\n",
        "                  'light freezing drizzle':'light rain', 'blowing snow':'snow', 'heavy snow':'snow', \n",
        "                  'snow flurries':'snow', 'fog, light snow':'light snow', 'fog, snow':'snow', \n",
        "                  'heavy fog':np.nan, 'snow grains':'light snow', 'light thstrm, rain':'light rain', \n",
        "                  'fog, rain, thstrm':'rain/storm', 'thstrm, hail':'rain/storm', 'lightning':np.nan,\n",
        "                  'light rain, snow':'light rain', 'light rain, lightning':'light rain', \n",
        "                  'lightning, thstrm':'rain/storm','light snow, fog':'light snow', \n",
        "                  'light rain, ice pellets':'light rain', 'haze':np.nan}\n",
        "\n",
        "df['Weather'] = df['Weather'].replace(weather_mapper)\n",
        "df = df.rename(columns={'Weather': 'precipitation'})"
      ],
      "execution_count": 0,
      "outputs": []
    },
    {
      "metadata": {
        "id": "xPq4apC8dOv7",
        "colab_type": "code",
        "colab": {}
      },
      "cell_type": "code",
      "source": [
        "def get_chunk(start,stop):\n",
        "  cols_to_keep = ['away', 'home', 'place', 'date', 'stadium', 'fog_or_haze']\n",
        "  games = []\n",
        "  for i in range(start, stop, 4):\n",
        "    game = df.iloc[i:i+4]\n",
        "    game_mean_temp = game['Temp'].mean()\n",
        "    game_mean_dewpoint = game['Dewpoint'].mean()\n",
        "    game_mean_humidity = game['Humidity'].mean()\n",
        "    game_mean_wind = game['Wind Speed'].mean()\n",
        "    game_max_windgust = game['Wind Gust'].max()\n",
        "    game_min_windchill = game['Windchill'].min()\n",
        "    game_min_windchillgust = game['Windchill Gust'].min()\n",
        "    game_fog_or_haze = game['fog_or_haze'].value_counts().index[0]\n",
        "  \n",
        "    try:\n",
        "      game_sky = game['sky'].value_counts().index[0]\n",
        "    except:\n",
        "      game_sky = np.nan\n",
        "  \n",
        "    #only count precipitation if lasted for more than 1 quarter\n",
        "    try:\n",
        "      if game['precipitation'].value_counts()[0] > 1:\n",
        "        game_precipitation = game['precipitation'].value_counts().index[0]\n",
        "      else:\n",
        "        game_precipitation = np.nan\n",
        "    except:\n",
        "      game_precipitation = np.nan\n",
        "    \n",
        "    game_df = game[cols_to_keep]\n",
        "    game_df['avg_temp'] = game_mean_temp\n",
        "    game_df['avg_dewpoint'] = game_mean_dewpoint\n",
        "    game_df['avg_humidity'] = game_mean_humidity\n",
        "    game_df['avg_wind'] = game_mean_wind\n",
        "    game_df['max_windgust'] = game_max_windgust\n",
        "    game_df['windchill'] = game_min_windchill\n",
        "    game_df['windchill_gust'] = game_min_windchillgust\n",
        "    game_df['sky'] = game_sky\n",
        "    game_df['precipitation'] = game_precipitation\n",
        "    game_df['fog_or_haze'] = game_fog_or_haze\n",
        "    games.append(game_df.iloc[0,:])\n",
        "  return games\n",
        "\n"
      ],
      "execution_count": 0,
      "outputs": []
    },
    {
      "metadata": {
        "id": "DfQo3VrfGMIc",
        "colab_type": "code",
        "colab": {}
      },
      "cell_type": "code",
      "source": [
        "games1 = get_chunk(0,7500)"
      ],
      "execution_count": 0,
      "outputs": []
    },
    {
      "metadata": {
        "id": "ux0GZ-AP8Jtg",
        "colab_type": "code",
        "colab": {}
      },
      "cell_type": "code",
      "source": [
        "chunk1 = pd.concat(games1, axis=1).T.reset_index().drop(columns=['index'])"
      ],
      "execution_count": 0,
      "outputs": []
    },
    {
      "metadata": {
        "id": "8HuYypHIObwY",
        "colab_type": "code",
        "colab": {}
      },
      "cell_type": "code",
      "source": [
        "games2 = get_chunk(7500, 15000)"
      ],
      "execution_count": 0,
      "outputs": []
    },
    {
      "metadata": {
        "id": "Vmg19Kx-Qp3J",
        "colab_type": "code",
        "colab": {}
      },
      "cell_type": "code",
      "source": [
        "chunk2 = pd.concat(games2, axis=1).T.reset_index().drop(columns=['index'])"
      ],
      "execution_count": 0,
      "outputs": []
    },
    {
      "metadata": {
        "id": "92bTJ-mUOhto",
        "colab_type": "code",
        "colab": {}
      },
      "cell_type": "code",
      "source": [
        "games3 = get_chunk(15000, 22500)"
      ],
      "execution_count": 0,
      "outputs": []
    },
    {
      "metadata": {
        "id": "8QR78mGdO3F-",
        "colab_type": "code",
        "colab": {}
      },
      "cell_type": "code",
      "source": [
        "chunk3 = pd.concat(games3, axis=1).T.reset_index().drop(columns=['index'])"
      ],
      "execution_count": 0,
      "outputs": []
    },
    {
      "metadata": {
        "id": "2SjPMz8nhpEb",
        "colab_type": "code",
        "colab": {}
      },
      "cell_type": "code",
      "source": [
        "games4 = get_chunk(22500, 29596)"
      ],
      "execution_count": 0,
      "outputs": []
    },
    {
      "metadata": {
        "id": "H6cWgU58hzDl",
        "colab_type": "code",
        "colab": {}
      },
      "cell_type": "code",
      "source": [
        "chunk4 = pd.concat(games4, axis=1).T.reset_index().drop(columns=['index'])"
      ],
      "execution_count": 0,
      "outputs": []
    },
    {
      "metadata": {
        "id": "m8uBEXVch50y",
        "colab_type": "code",
        "colab": {}
      },
      "cell_type": "code",
      "source": [
        "combined = pd.concat([chunk1, chunk2, chunk3, chunk4])"
      ],
      "execution_count": 0,
      "outputs": []
    },
    {
      "metadata": {
        "id": "mazYQCHg0Hme",
        "colab_type": "code",
        "colab": {}
      },
      "cell_type": "code",
      "source": [
        "#covert date column to datetime obj:  \n",
        "combined['date'] = pd.to_datetime(combined['date'])"
      ],
      "execution_count": 0,
      "outputs": []
    },
    {
      "metadata": {
        "id": "ym5TxJXZ4P_G",
        "colab_type": "code",
        "colab": {}
      },
      "cell_type": "code",
      "source": [
        "#convert fog_or_haze to 0/1 instead of true/false:\n",
        "combined['fog_or_haze'] = combined['fog_or_haze'].replace({True:1, False:0}) "
      ],
      "execution_count": 0,
      "outputs": []
    },
    {
      "metadata": {
        "id": "WFwpYZgH4X-Y",
        "colab_type": "code",
        "colab": {}
      },
      "cell_type": "code",
      "source": [
        "#convert numeric columns to floats:\n",
        "numeric_cols = ['avg_temp', 'avg_dewpoint', 'avg_humidity', 'avg_wind', 'max_windgust', 'windchill', 'windchill_gust']\n",
        "combined[numeric_cols] = combined[numeric_cols].astype('float64')"
      ],
      "execution_count": 0,
      "outputs": []
    },
    {
      "metadata": {
        "id": "JETLuH1D4T5T",
        "colab_type": "code",
        "colab": {}
      },
      "cell_type": "code",
      "source": [
        "#categoricals: precipitation (first convert Nan to 'None', sky, \n",
        "combined['precipitation'] = combined['precipitation'].fillna(value='None').astype('category')\n",
        "combined['sky'] = combined['sky'].astype('category')"
      ],
      "execution_count": 0,
      "outputs": []
    },
    {
      "metadata": {
        "id": "7m63Ntyh5U_o",
        "colab_type": "code",
        "colab": {}
      },
      "cell_type": "code",
      "source": [
        "#cleans some nulls:\n",
        "combined['avg_wind'] = combined['avg_wind'].fillna(0)"
      ],
      "execution_count": 0,
      "outputs": []
    },
    {
      "metadata": {
        "id": "8T7qoK1Y9Di5",
        "colab_type": "code",
        "colab": {}
      },
      "cell_type": "code",
      "source": [
        "#reset the index:\n",
        "combined = combined.reset_index(drop=True)"
      ],
      "execution_count": 0,
      "outputs": []
    },
    {
      "metadata": {
        "id": "nD1bHbxN6NUo",
        "colab_type": "code",
        "colab": {}
      },
      "cell_type": "code",
      "source": [
        "#export and download the csv:\n",
        "combined.to_csv('weather_cleaned.csv')\n",
        "\n",
        "#download the csv:\n",
        "from google.colab import files\n",
        "files.download('weather_cleaned.csv')"
      ],
      "execution_count": 0,
      "outputs": []
    },
    {
      "metadata": {
        "id": "5Ev9RpD59A-e",
        "colab_type": "code",
        "colab": {}
      },
      "cell_type": "code",
      "source": [
        ""
      ],
      "execution_count": 0,
      "outputs": []
    }
  ]
}